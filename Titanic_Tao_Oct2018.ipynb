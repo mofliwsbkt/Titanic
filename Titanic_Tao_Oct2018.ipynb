{
 "cells": [
  {
   "cell_type": "code",
   "execution_count": 1,
   "metadata": {},
   "outputs": [
    {
     "name": "stderr",
     "output_type": "stream",
     "text": [
      "C:\\Users\\tao_k\\Anaconda3\\lib\\site-packages\\sklearn\\cross_validation.py:41: DeprecationWarning: This module was deprecated in version 0.18 in favor of the model_selection module into which all the refactored classes and functions are moved. Also note that the interface of the new CV iterators are different from that of this module. This module will be removed in 0.20.\n",
      "  \"This module will be removed in 0.20.\", DeprecationWarning)\n"
     ]
    }
   ],
   "source": [
    "# import libraries\n",
    "\n",
    "import pandas as pd\n",
    "import numpy as np\n",
    "\n",
    "# visualization\n",
    "import matplotlib.pyplot as plt\n",
    "import seaborn as sns\n",
    "%matplotlib inline\n",
    "\n",
    "# dimension reduction\n",
    "from sklearn.decomposition import PCA\n",
    "\n",
    "# Models\n",
    "from sklearn.linear_model import LogisticRegression\n",
    "from sklearn.tree import DecisionTreeClassifier\n",
    "from sklearn.ensemble import AdaBoostClassifier,RandomForestClassifier,GradientBoostingClassifier\n",
    "import xgboost as xgb\n",
    "from xgboost.sklearn import XGBClassifier # is XGBClassifier is sklearn's wrapper, which is not same as xgb.XGBClassifier\n",
    "from sklearn.feature_selection import RFECV\n",
    "\n",
    "# validation\n",
    "from sklearn import metrics\n",
    "from sklearn import model_selection\n",
    "from sklearn.model_selection import train_test_split\n",
    "from sklearn.model_selection import ShuffleSplit\n",
    "from sklearn.model_selection import learning_curve,validation_curve\n",
    "from sklearn.model_selection import GridSearchCV\n",
    "from sklearn.cross_validation import StratifiedKFold\n",
    "\n",
    "# ignore warnings\n",
    "import warnings\n",
    "warnings.filterwarnings(\"ignore\")"
   ]
  },
  {
   "cell_type": "code",
   "execution_count": 2,
   "metadata": {},
   "outputs": [],
   "source": [
    "# load files\n",
    "train = pd.read_csv('train.csv')\n",
    "test = pd.read_csv('test.csv')"
   ]
  },
  {
   "cell_type": "code",
   "execution_count": 3,
   "metadata": {},
   "outputs": [
    {
     "name": "stdout",
     "output_type": "stream",
     "text": [
      "<class 'pandas.core.frame.DataFrame'>\n",
      "RangeIndex: 891 entries, 0 to 890\n",
      "Data columns (total 12 columns):\n",
      "PassengerId    891 non-null int64\n",
      "Survived       891 non-null int64\n",
      "Pclass         891 non-null int64\n",
      "Name           891 non-null object\n",
      "Sex            891 non-null object\n",
      "Age            714 non-null float64\n",
      "SibSp          891 non-null int64\n",
      "Parch          891 non-null int64\n",
      "Ticket         891 non-null object\n",
      "Fare           891 non-null float64\n",
      "Cabin          204 non-null object\n",
      "Embarked       889 non-null object\n",
      "dtypes: float64(2), int64(5), object(5)\n",
      "memory usage: 83.6+ KB\n",
      "None\n",
      "*-*-*-*-*-*-*-*-*-*-*-*-*-*-*-*-*-*-*-*-\n",
      "<class 'pandas.core.frame.DataFrame'>\n",
      "RangeIndex: 418 entries, 0 to 417\n",
      "Data columns (total 11 columns):\n",
      "PassengerId    418 non-null int64\n",
      "Pclass         418 non-null int64\n",
      "Name           418 non-null object\n",
      "Sex            418 non-null object\n",
      "Age            332 non-null float64\n",
      "SibSp          418 non-null int64\n",
      "Parch          418 non-null int64\n",
      "Ticket         418 non-null object\n",
      "Fare           417 non-null float64\n",
      "Cabin          91 non-null object\n",
      "Embarked       418 non-null object\n",
      "dtypes: float64(2), int64(4), object(5)\n",
      "memory usage: 36.0+ KB\n",
      "None\n"
     ]
    },
    {
     "data": {
      "text/html": [
       "<div>\n",
       "<style scoped>\n",
       "    .dataframe tbody tr th:only-of-type {\n",
       "        vertical-align: middle;\n",
       "    }\n",
       "\n",
       "    .dataframe tbody tr th {\n",
       "        vertical-align: top;\n",
       "    }\n",
       "\n",
       "    .dataframe thead th {\n",
       "        text-align: right;\n",
       "    }\n",
       "</style>\n",
       "<table border=\"1\" class=\"dataframe\">\n",
       "  <thead>\n",
       "    <tr style=\"text-align: right;\">\n",
       "      <th></th>\n",
       "      <th>PassengerId</th>\n",
       "      <th>Survived</th>\n",
       "      <th>Pclass</th>\n",
       "      <th>Name</th>\n",
       "      <th>Sex</th>\n",
       "      <th>Age</th>\n",
       "      <th>SibSp</th>\n",
       "      <th>Parch</th>\n",
       "      <th>Ticket</th>\n",
       "      <th>Fare</th>\n",
       "      <th>Cabin</th>\n",
       "      <th>Embarked</th>\n",
       "    </tr>\n",
       "  </thead>\n",
       "  <tbody>\n",
       "    <tr>\n",
       "      <th>0</th>\n",
       "      <td>1</td>\n",
       "      <td>0</td>\n",
       "      <td>3</td>\n",
       "      <td>Braund, Mr. Owen Harris</td>\n",
       "      <td>male</td>\n",
       "      <td>22.0</td>\n",
       "      <td>1</td>\n",
       "      <td>0</td>\n",
       "      <td>A/5 21171</td>\n",
       "      <td>7.2500</td>\n",
       "      <td>NaN</td>\n",
       "      <td>S</td>\n",
       "    </tr>\n",
       "    <tr>\n",
       "      <th>1</th>\n",
       "      <td>2</td>\n",
       "      <td>1</td>\n",
       "      <td>1</td>\n",
       "      <td>Cumings, Mrs. John Bradley (Florence Briggs Th...</td>\n",
       "      <td>female</td>\n",
       "      <td>38.0</td>\n",
       "      <td>1</td>\n",
       "      <td>0</td>\n",
       "      <td>PC 17599</td>\n",
       "      <td>71.2833</td>\n",
       "      <td>C85</td>\n",
       "      <td>C</td>\n",
       "    </tr>\n",
       "    <tr>\n",
       "      <th>2</th>\n",
       "      <td>3</td>\n",
       "      <td>1</td>\n",
       "      <td>3</td>\n",
       "      <td>Heikkinen, Miss. Laina</td>\n",
       "      <td>female</td>\n",
       "      <td>26.0</td>\n",
       "      <td>0</td>\n",
       "      <td>0</td>\n",
       "      <td>STON/O2. 3101282</td>\n",
       "      <td>7.9250</td>\n",
       "      <td>NaN</td>\n",
       "      <td>S</td>\n",
       "    </tr>\n",
       "    <tr>\n",
       "      <th>3</th>\n",
       "      <td>4</td>\n",
       "      <td>1</td>\n",
       "      <td>1</td>\n",
       "      <td>Futrelle, Mrs. Jacques Heath (Lily May Peel)</td>\n",
       "      <td>female</td>\n",
       "      <td>35.0</td>\n",
       "      <td>1</td>\n",
       "      <td>0</td>\n",
       "      <td>113803</td>\n",
       "      <td>53.1000</td>\n",
       "      <td>C123</td>\n",
       "      <td>S</td>\n",
       "    </tr>\n",
       "    <tr>\n",
       "      <th>4</th>\n",
       "      <td>5</td>\n",
       "      <td>0</td>\n",
       "      <td>3</td>\n",
       "      <td>Allen, Mr. William Henry</td>\n",
       "      <td>male</td>\n",
       "      <td>35.0</td>\n",
       "      <td>0</td>\n",
       "      <td>0</td>\n",
       "      <td>373450</td>\n",
       "      <td>8.0500</td>\n",
       "      <td>NaN</td>\n",
       "      <td>S</td>\n",
       "    </tr>\n",
       "  </tbody>\n",
       "</table>\n",
       "</div>"
      ],
      "text/plain": [
       "   PassengerId  Survived  Pclass  \\\n",
       "0            1         0       3   \n",
       "1            2         1       1   \n",
       "2            3         1       3   \n",
       "3            4         1       1   \n",
       "4            5         0       3   \n",
       "\n",
       "                                                Name     Sex   Age  SibSp  \\\n",
       "0                            Braund, Mr. Owen Harris    male  22.0      1   \n",
       "1  Cumings, Mrs. John Bradley (Florence Briggs Th...  female  38.0      1   \n",
       "2                             Heikkinen, Miss. Laina  female  26.0      0   \n",
       "3       Futrelle, Mrs. Jacques Heath (Lily May Peel)  female  35.0      1   \n",
       "4                           Allen, Mr. William Henry    male  35.0      0   \n",
       "\n",
       "   Parch            Ticket     Fare Cabin Embarked  \n",
       "0      0         A/5 21171   7.2500   NaN        S  \n",
       "1      0          PC 17599  71.2833   C85        C  \n",
       "2      0  STON/O2. 3101282   7.9250   NaN        S  \n",
       "3      0            113803  53.1000  C123        S  \n",
       "4      0            373450   8.0500   NaN        S  "
      ]
     },
     "execution_count": 3,
     "metadata": {},
     "output_type": "execute_result"
    }
   ],
   "source": [
    "# basic stats\n",
    "print(train.info())\n",
    "print('*-'*20)\n",
    "print(test.info())\n",
    "train.head()"
   ]
  },
  {
   "cell_type": "markdown",
   "metadata": {},
   "source": [
    "## Observations:\n",
    "### Missing values: Age, Cabin and Embarked. \n",
    "### Continuous variables: Age and Fare"
   ]
  },
  {
   "cell_type": "markdown",
   "metadata": {},
   "source": [
    "# Collect some basic information"
   ]
  },
  {
   "cell_type": "code",
   "execution_count": 4,
   "metadata": {},
   "outputs": [
    {
     "data": {
      "text/html": [
       "<div>\n",
       "<style scoped>\n",
       "    .dataframe tbody tr th:only-of-type {\n",
       "        vertical-align: middle;\n",
       "    }\n",
       "\n",
       "    .dataframe tbody tr th {\n",
       "        vertical-align: top;\n",
       "    }\n",
       "\n",
       "    .dataframe thead th {\n",
       "        text-align: right;\n",
       "    }\n",
       "</style>\n",
       "<table border=\"1\" class=\"dataframe\">\n",
       "  <thead>\n",
       "    <tr style=\"text-align: right;\">\n",
       "      <th></th>\n",
       "      <th>PassengerId</th>\n",
       "      <th>Survived</th>\n",
       "      <th>Pclass</th>\n",
       "      <th>Age</th>\n",
       "      <th>SibSp</th>\n",
       "      <th>Parch</th>\n",
       "      <th>Fare</th>\n",
       "    </tr>\n",
       "  </thead>\n",
       "  <tbody>\n",
       "    <tr>\n",
       "      <th>count</th>\n",
       "      <td>891.000000</td>\n",
       "      <td>891.000000</td>\n",
       "      <td>891.000000</td>\n",
       "      <td>714.000000</td>\n",
       "      <td>891.000000</td>\n",
       "      <td>891.000000</td>\n",
       "      <td>891.000000</td>\n",
       "    </tr>\n",
       "    <tr>\n",
       "      <th>mean</th>\n",
       "      <td>446.000000</td>\n",
       "      <td>0.383838</td>\n",
       "      <td>2.308642</td>\n",
       "      <td>29.699118</td>\n",
       "      <td>0.523008</td>\n",
       "      <td>0.381594</td>\n",
       "      <td>32.204208</td>\n",
       "    </tr>\n",
       "    <tr>\n",
       "      <th>std</th>\n",
       "      <td>257.353842</td>\n",
       "      <td>0.486592</td>\n",
       "      <td>0.836071</td>\n",
       "      <td>14.526497</td>\n",
       "      <td>1.102743</td>\n",
       "      <td>0.806057</td>\n",
       "      <td>49.693429</td>\n",
       "    </tr>\n",
       "    <tr>\n",
       "      <th>min</th>\n",
       "      <td>1.000000</td>\n",
       "      <td>0.000000</td>\n",
       "      <td>1.000000</td>\n",
       "      <td>0.420000</td>\n",
       "      <td>0.000000</td>\n",
       "      <td>0.000000</td>\n",
       "      <td>0.000000</td>\n",
       "    </tr>\n",
       "    <tr>\n",
       "      <th>25%</th>\n",
       "      <td>223.500000</td>\n",
       "      <td>0.000000</td>\n",
       "      <td>2.000000</td>\n",
       "      <td>20.125000</td>\n",
       "      <td>0.000000</td>\n",
       "      <td>0.000000</td>\n",
       "      <td>7.910400</td>\n",
       "    </tr>\n",
       "    <tr>\n",
       "      <th>50%</th>\n",
       "      <td>446.000000</td>\n",
       "      <td>0.000000</td>\n",
       "      <td>3.000000</td>\n",
       "      <td>28.000000</td>\n",
       "      <td>0.000000</td>\n",
       "      <td>0.000000</td>\n",
       "      <td>14.454200</td>\n",
       "    </tr>\n",
       "    <tr>\n",
       "      <th>75%</th>\n",
       "      <td>668.500000</td>\n",
       "      <td>1.000000</td>\n",
       "      <td>3.000000</td>\n",
       "      <td>38.000000</td>\n",
       "      <td>1.000000</td>\n",
       "      <td>0.000000</td>\n",
       "      <td>31.000000</td>\n",
       "    </tr>\n",
       "    <tr>\n",
       "      <th>max</th>\n",
       "      <td>891.000000</td>\n",
       "      <td>1.000000</td>\n",
       "      <td>3.000000</td>\n",
       "      <td>80.000000</td>\n",
       "      <td>8.000000</td>\n",
       "      <td>6.000000</td>\n",
       "      <td>512.329200</td>\n",
       "    </tr>\n",
       "  </tbody>\n",
       "</table>\n",
       "</div>"
      ],
      "text/plain": [
       "       PassengerId    Survived      Pclass         Age       SibSp  \\\n",
       "count   891.000000  891.000000  891.000000  714.000000  891.000000   \n",
       "mean    446.000000    0.383838    2.308642   29.699118    0.523008   \n",
       "std     257.353842    0.486592    0.836071   14.526497    1.102743   \n",
       "min       1.000000    0.000000    1.000000    0.420000    0.000000   \n",
       "25%     223.500000    0.000000    2.000000   20.125000    0.000000   \n",
       "50%     446.000000    0.000000    3.000000   28.000000    0.000000   \n",
       "75%     668.500000    1.000000    3.000000   38.000000    1.000000   \n",
       "max     891.000000    1.000000    3.000000   80.000000    8.000000   \n",
       "\n",
       "            Parch        Fare  \n",
       "count  891.000000  891.000000  \n",
       "mean     0.381594   32.204208  \n",
       "std      0.806057   49.693429  \n",
       "min      0.000000    0.000000  \n",
       "25%      0.000000    7.910400  \n",
       "50%      0.000000   14.454200  \n",
       "75%      0.000000   31.000000  \n",
       "max      6.000000  512.329200  "
      ]
     },
     "execution_count": 4,
     "metadata": {},
     "output_type": "execute_result"
    }
   ],
   "source": [
    "# for numeric variables\n",
    "train.describe()"
   ]
  },
  {
   "cell_type": "code",
   "execution_count": 5,
   "metadata": {},
   "outputs": [
    {
     "data": {
      "text/plain": [
       "<matplotlib.axes._subplots.AxesSubplot at 0x14a51ae3390>"
      ]
     },
     "execution_count": 5,
     "metadata": {},
     "output_type": "execute_result"
    },
    {
     "data": {
      "image/png": "[encoded data removed]",
      "text/plain": [
       "<Figure size 432x288 with 2 Axes>"
      ]
     },
     "metadata": {},
     "output_type": "display_data"
    }
   ],
   "source": [
    "# for object variables: Name, Sex, Ticket and Embarked.\n",
    "# Let's check Sex and Embarked\n",
    "# fig,axes=plt.subplots(2,1)\n",
    "plt.subplot(1,2,1)\n",
    "train['Sex'].value_counts().plot('bar')\n",
    "plt.subplot(1,2,2)\n",
    "train['Embarked'].value_counts().plot('bar')\n"
   ]
  },
  {
   "cell_type": "markdown",
   "metadata": {},
   "source": [
    "#### Sex and Embarked both have enough samples for each level. So both variables can be converted into dummy variables or integers for modeling"
   ]
  },
  {
   "cell_type": "code",
   "execution_count": 6,
   "metadata": {},
   "outputs": [
    {
     "data": {
      "text/plain": [
       "<matplotlib.axes._subplots.AxesSubplot at 0x14a51b60940>"
      ]
     },
     "execution_count": 6,
     "metadata": {},
     "output_type": "execute_result"
    },
    {
     "data": {
      "image/png": "[encoded data removed]",
      "text/plain": [
       "<Figure size 576x576 with 2 Axes>"
      ]
     },
     "metadata": {},
     "output_type": "display_data"
    }
   ],
   "source": [
    "# check correlation between variables\n",
    "corr = train.corr().abs()\n",
    "plt.figure(figsize=(8,8))\n",
    "sns.heatmap(corr,square=True,cmap='Blues',annot=True)"
   ]
  },
  {
   "cell_type": "markdown",
   "metadata": {},
   "source": [
    "### There is no significant correlation between numeric variables"
   ]
  },
  {
   "cell_type": "markdown",
   "metadata": {},
   "source": [
    "# Exploratory Data Analysis"
   ]
  },
  {
   "cell_type": "code",
   "execution_count": 7,
   "metadata": {},
   "outputs": [
    {
     "data": {
      "image/png": "[encoded data removed]",
      "text/plain": [
       "<Figure size 288x288 with 1 Axes>"
      ]
     },
     "metadata": {},
     "output_type": "display_data"
    },
    {
     "data": {
      "image/png": "[encoded data removed]",
      "text/plain": [
       "<Figure size 288x288 with 1 Axes>"
      ]
     },
     "metadata": {},
     "output_type": "display_data"
    },
    {
     "data": {
      "image/png": "[encoded data removed]",
      "text/plain": [
       "<Figure size 288x288 with 1 Axes>"
      ]
     },
     "metadata": {},
     "output_type": "display_data"
    }
   ],
   "source": [
    "for x in ['Pclass','SibSp','Parch']:\n",
    "    sns.factorplot(data=train,x=x,y='Survived',kind='point')"
   ]
  },
  {
   "cell_type": "markdown",
   "metadata": {},
   "source": [
    "## Integer variables"
   ]
  },
  {
   "cell_type": "code",
   "execution_count": 8,
   "metadata": {},
   "outputs": [
    {
     "data": {
      "image/png": "[encoded data removed]",
      "text/plain": [
       "<Figure size 576x288 with 2 Axes>"
      ]
     },
     "metadata": {},
     "output_type": "display_data"
    },
    {
     "data": {
      "image/png": "[encoded data removed]",
      "text/plain": [
       "<Figure size 576x288 with 2 Axes>"
      ]
     },
     "metadata": {},
     "output_type": "display_data"
    },
    {
     "data": {
      "image/png": "[encoded data removed]",
      "text/plain": [
       "<Figure size 576x288 with 2 Axes>"
      ]
     },
     "metadata": {},
     "output_type": "display_data"
    }
   ],
   "source": [
    "# For integer variables: plot survival rate over integer levels and \n",
    "def eda_by_level(v,df):\n",
    "    plt.figure(figsize=(8,4))\n",
    "    plt.subplot(1,2,1)\n",
    "    sns.pointplot(x=v,y='Survived',data=df)\n",
    "    plt.title(\"Surival Rate\")\n",
    "    plt.subplot(1,2,2)\n",
    "    df[v].value_counts().sort_index().plot.bar()\n",
    "    plt.xlabel(v)\n",
    "    plt.title(\"Count\")\n",
    "    \n",
    "    \n",
    "eda_by_level('Pclass',train)\n",
    "eda_by_level('SibSp',train)\n",
    "eda_by_level('Parch',train)"
   ]
  },
  {
   "cell_type": "code",
   "execution_count": 9,
   "metadata": {},
   "outputs": [
    {
     "data": {
      "text/plain": [
       "(0     608\n",
       " 1+    283\n",
       " Name: SibSp_bin, dtype: int64,\n",
       " <matplotlib.axes._subplots.AxesSubplot at 0x14a5228ab70>)"
      ]
     },
     "execution_count": 9,
     "metadata": {},
     "output_type": "execute_result"
    },
    {
     "data": {
      "image/png": "[encoded data removed]",
      "text/plain": [
       "<Figure size 432x288 with 1 Axes>"
      ]
     },
     "metadata": {},
     "output_type": "display_data"
    }
   ],
   "source": [
    "# SibSp 0,1\n",
    "# Parch 0 and 1+. Because the counts in above groups are small\n",
    "def create_sibsp_bin(row):\n",
    "    if row['SibSp'] >= 1:\n",
    "        return \"1+\"\n",
    "    else: return \"0\"\n",
    "train['SibSp_bin'] = train.apply(create_sibsp_bin,axis=1)\n",
    "test['SibSp_bin'] = test.apply(create_sibsp_bin,axis=1)\n",
    "train['SibSp_bin'].value_counts(), train.groupby('SibSp_bin')['Survived'].mean().plot.bar()"
   ]
  },
  {
   "cell_type": "code",
   "execution_count": 10,
   "metadata": {},
   "outputs": [
    {
     "data": {
      "text/plain": [
       "(0    678\n",
       " 1    118\n",
       " 2     95\n",
       " Name: Parch_bin, dtype: int64,\n",
       " <matplotlib.axes._subplots.AxesSubplot at 0x14a5210ec88>)"
      ]
     },
     "execution_count": 10,
     "metadata": {},
     "output_type": "execute_result"
    },
    {
     "data": {
      "image/png": "[encoded data removed]",
      "text/plain": [
       "<Figure size 432x288 with 1 Axes>"
      ]
     },
     "metadata": {},
     "output_type": "display_data"
    }
   ],
   "source": [
    "def create_parch_bin(row):\n",
    "    if row['Parch'] >= 2:\n",
    "        return '2'\n",
    "    else: return str(row['Parch'])\n",
    "train['Parch_bin'] = train.apply(create_parch_bin,axis=1)\n",
    "test['Parch_bin'] = test.apply(create_parch_bin,axis=1)\n",
    "train['Parch_bin'].value_counts(), train.groupby('Parch_bin')['Survived'].mean().plot.bar()"
   ]
  },
  {
   "cell_type": "code",
   "execution_count": 11,
   "metadata": {},
   "outputs": [
    {
     "data": {
      "text/plain": [
       "dtype('O')"
      ]
     },
     "execution_count": 11,
     "metadata": {},
     "output_type": "execute_result"
    }
   ],
   "source": [
    "train.Parch_bin.dtypes"
   ]
  },
  {
   "cell_type": "markdown",
   "metadata": {},
   "source": [
    "## Continuous variables"
   ]
  },
  {
   "cell_type": "code",
   "execution_count": 12,
   "metadata": {},
   "outputs": [
    {
     "data": {
      "text/html": [
       "<div>\n",
       "<style scoped>\n",
       "    .dataframe tbody tr th:only-of-type {\n",
       "        vertical-align: middle;\n",
       "    }\n",
       "\n",
       "    .dataframe tbody tr th {\n",
       "        vertical-align: top;\n",
       "    }\n",
       "\n",
       "    .dataframe thead th {\n",
       "        text-align: right;\n",
       "    }\n",
       "</style>\n",
       "<table border=\"1\" class=\"dataframe\">\n",
       "  <thead>\n",
       "    <tr style=\"text-align: right;\">\n",
       "      <th></th>\n",
       "      <th>PassengerId</th>\n",
       "      <th>Survived</th>\n",
       "      <th>Pclass</th>\n",
       "      <th>Name</th>\n",
       "      <th>Sex</th>\n",
       "      <th>Age</th>\n",
       "      <th>SibSp</th>\n",
       "      <th>Parch</th>\n",
       "      <th>Ticket</th>\n",
       "      <th>Fare</th>\n",
       "      <th>Cabin</th>\n",
       "      <th>Embarked</th>\n",
       "      <th>SibSp_bin</th>\n",
       "      <th>Parch_bin</th>\n",
       "    </tr>\n",
       "  </thead>\n",
       "  <tbody>\n",
       "    <tr>\n",
       "      <th>5</th>\n",
       "      <td>6</td>\n",
       "      <td>0</td>\n",
       "      <td>3</td>\n",
       "      <td>Moran, Mr. James</td>\n",
       "      <td>male</td>\n",
       "      <td>NaN</td>\n",
       "      <td>0</td>\n",
       "      <td>0</td>\n",
       "      <td>330877</td>\n",
       "      <td>8.4583</td>\n",
       "      <td>NaN</td>\n",
       "      <td>Q</td>\n",
       "      <td>0</td>\n",
       "      <td>0</td>\n",
       "    </tr>\n",
       "    <tr>\n",
       "      <th>17</th>\n",
       "      <td>18</td>\n",
       "      <td>1</td>\n",
       "      <td>2</td>\n",
       "      <td>Williams, Mr. Charles Eugene</td>\n",
       "      <td>male</td>\n",
       "      <td>NaN</td>\n",
       "      <td>0</td>\n",
       "      <td>0</td>\n",
       "      <td>244373</td>\n",
       "      <td>13.0000</td>\n",
       "      <td>NaN</td>\n",
       "      <td>S</td>\n",
       "      <td>0</td>\n",
       "      <td>0</td>\n",
       "    </tr>\n",
       "    <tr>\n",
       "      <th>19</th>\n",
       "      <td>20</td>\n",
       "      <td>1</td>\n",
       "      <td>3</td>\n",
       "      <td>Masselmani, Mrs. Fatima</td>\n",
       "      <td>female</td>\n",
       "      <td>NaN</td>\n",
       "      <td>0</td>\n",
       "      <td>0</td>\n",
       "      <td>2649</td>\n",
       "      <td>7.2250</td>\n",
       "      <td>NaN</td>\n",
       "      <td>C</td>\n",
       "      <td>0</td>\n",
       "      <td>0</td>\n",
       "    </tr>\n",
       "    <tr>\n",
       "      <th>26</th>\n",
       "      <td>27</td>\n",
       "      <td>0</td>\n",
       "      <td>3</td>\n",
       "      <td>Emir, Mr. Farred Chehab</td>\n",
       "      <td>male</td>\n",
       "      <td>NaN</td>\n",
       "      <td>0</td>\n",
       "      <td>0</td>\n",
       "      <td>2631</td>\n",
       "      <td>7.2250</td>\n",
       "      <td>NaN</td>\n",
       "      <td>C</td>\n",
       "      <td>0</td>\n",
       "      <td>0</td>\n",
       "    </tr>\n",
       "    <tr>\n",
       "      <th>28</th>\n",
       "      <td>29</td>\n",
       "      <td>1</td>\n",
       "      <td>3</td>\n",
       "      <td>O'Dwyer, Miss. Ellen \"Nellie\"</td>\n",
       "      <td>female</td>\n",
       "      <td>NaN</td>\n",
       "      <td>0</td>\n",
       "      <td>0</td>\n",
       "      <td>330959</td>\n",
       "      <td>7.8792</td>\n",
       "      <td>NaN</td>\n",
       "      <td>Q</td>\n",
       "      <td>0</td>\n",
       "      <td>0</td>\n",
       "    </tr>\n",
       "  </tbody>\n",
       "</table>\n",
       "</div>"
      ],
      "text/plain": [
       "    PassengerId  Survived  Pclass                           Name     Sex  Age  \\\n",
       "5             6         0       3               Moran, Mr. James    male  NaN   \n",
       "17           18         1       2   Williams, Mr. Charles Eugene    male  NaN   \n",
       "19           20         1       3        Masselmani, Mrs. Fatima  female  NaN   \n",
       "26           27         0       3        Emir, Mr. Farred Chehab    male  NaN   \n",
       "28           29         1       3  O'Dwyer, Miss. Ellen \"Nellie\"  female  NaN   \n",
       "\n",
       "    SibSp  Parch  Ticket     Fare Cabin Embarked SibSp_bin Parch_bin  \n",
       "5       0      0  330877   8.4583   NaN        Q         0         0  \n",
       "17      0      0  244373  13.0000   NaN        S         0         0  \n",
       "19      0      0    2649   7.2250   NaN        C         0         0  \n",
       "26      0      0    2631   7.2250   NaN        C         0         0  \n",
       "28      0      0  330959   7.8792   NaN        Q         0         0  "
      ]
     },
     "execution_count": 12,
     "metadata": {},
     "output_type": "execute_result"
    }
   ],
   "source": [
    "train[train.Age.isnull()].head()"
   ]
  },
  {
   "cell_type": "code",
   "execution_count": 13,
   "metadata": {},
   "outputs": [
    {
     "data": {
      "text/plain": [
       "<seaborn.axisgrid.FacetGrid at 0x14a51f57198>"
      ]
     },
     "execution_count": 13,
     "metadata": {},
     "output_type": "execute_result"
    },
    {
     "data": {
      "image/png": "[encoded data removed]",
      "text/plain": [
       "<Figure size 915.875x288 with 1 Axes>"
      ]
     },
     "metadata": {},
     "output_type": "display_data"
    },
    {
     "data": {
      "image/png": "[encoded data removed]",
      "text/plain": [
       "<Figure size 915.875x288 with 1 Axes>"
      ]
     },
     "metadata": {},
     "output_type": "display_data"
    }
   ],
   "source": [
    "# for continuous variables, let's plot kde over survived and dead population\n",
    "sns.FacetGrid(data=train,hue='Survived',size=4,aspect=3).map(sns.kdeplot,'Age',shade=True).add_legend()\n",
    "sns.FacetGrid(data=train,hue='Survived',size=4,aspect=3).map(sns.kdeplot,'Fare',shade=True).add_legend()"
   ]
  },
  {
   "cell_type": "markdown",
   "metadata": {},
   "source": [
    "# Fare is a right skewed data. If we used it as continuous data, we need to do log transformation. But we may not have enough samples at each age value. So we should create bins."
   ]
  },
  {
   "cell_type": "code",
   "execution_count": 14,
   "metadata": {},
   "outputs": [
    {
     "data": {
      "text/plain": [
       "<matplotlib.legend.Legend at 0x14a52308c18>"
      ]
     },
     "execution_count": 14,
     "metadata": {},
     "output_type": "execute_result"
    },
    {
     "data": {
      "image/png": "[encoded data removed]",
      "text/plain": [
       "<Figure size 864x432 with 2 Axes>"
      ]
     },
     "metadata": {},
     "output_type": "display_data"
    }
   ],
   "source": [
    "# make log for 'Fare' feature in order to decrease skewness\n",
    "train['Fare_log'] = train['Fare'].map(lambda i: np.log(i) if i > 0 else 0)\n",
    "plt.figure(figsize=(12,6))\n",
    "plt.subplot(1,2,1)\n",
    "sns.distplot(train['Fare_log'], color='r', label='skewness:%.2f'%train['Fare'].skew()).legend(loc='best')\n",
    "test['Fare_log'] = test['Fare'].map(lambda i: np.log(i) if i>0 else 0)\n",
    "plt.subplot(1,2,2)\n",
    "sns.distplot(test['Fare_log'], color='r', label='skewness:%.2f'%train['Fare'].skew()).legend(loc='best')"
   ]
  },
  {
   "cell_type": "code",
   "execution_count": 15,
   "metadata": {},
   "outputs": [],
   "source": [
    "fare = train[['Fare','Fare_log','Survived']]\n",
    "nbins = 4\n",
    "fare['fare_bins']= pd.qcut(fare.Fare,nbins)\n",
    "fare['fare_log_bins'] = pd.qcut(fare.Fare_log,nbins)\n"
   ]
  },
  {
   "cell_type": "code",
   "execution_count": 16,
   "metadata": {},
   "outputs": [
    {
     "data": {
      "text/plain": [
       "<matplotlib.axes._subplots.AxesSubplot at 0x14a52101278>"
      ]
     },
     "execution_count": 16,
     "metadata": {},
     "output_type": "execute_result"
    },
    {
     "data": {
      "image/png": "[encoded data removed]",
      "text/plain": [
       "<Figure size 432x288 with 4 Axes>"
      ]
     },
     "metadata": {},
     "output_type": "display_data"
    }
   ],
   "source": [
    "plt.subplot(2,2,1)\n",
    "fare.groupby('fare_log_bins').Survived.mean().plot.bar()\n",
    "plt.title('Fare in log')\n",
    "plt.subplot(2,2,2)\n",
    "plt.title('Fare in log')\n",
    "fare.groupby('fare_log_bins').size().plot.bar()\n",
    "\n",
    "plt.subplot(2,2,3)\n",
    "plt.title('Fare')\n",
    "fare.groupby('fare_bins').Survived.mean().plot.bar()\n",
    "plt.subplot(2,2,4)\n",
    "plt.title('Fare')\n",
    "fare.groupby('fare_bins').size().plot.bar()"
   ]
  },
  {
   "cell_type": "code",
   "execution_count": 17,
   "metadata": {},
   "outputs": [],
   "source": [
    "dfall = pd.concat([train,test])\n",
    "dfall['Fare_4bins'] = pd.qcut(dfall['Fare'],4,labels=False)\n",
    "dfall['Fare_5bins'] = pd.qcut(dfall['Fare'],5,labels=False)\n",
    "dfall['Fare_10bins'] = pd.qcut(dfall['Fare'],10,labels=False)"
   ]
  },
  {
   "cell_type": "code",
   "execution_count": 18,
   "metadata": {},
   "outputs": [
    {
     "data": {
      "text/plain": [
       "((891, 18), (418, 18))"
      ]
     },
     "execution_count": 18,
     "metadata": {},
     "output_type": "execute_result"
    }
   ],
   "source": [
    "train = dfall[dfall.Survived.notnull()]\n",
    "test = dfall[dfall.Survived.isnull()]\n",
    "train.shape, test.shape"
   ]
  },
  {
   "cell_type": "code",
   "execution_count": 19,
   "metadata": {},
   "outputs": [
    {
     "data": {
      "text/plain": [
       "<matplotlib.axes._subplots.AxesSubplot at 0x14a52154e80>"
      ]
     },
     "execution_count": 19,
     "metadata": {},
     "output_type": "execute_result"
    },
    {
     "data": {
      "image/png": "[encoded data removed]",
      "text/plain": [
       "<Figure size 432x288 with 1 Axes>"
      ]
     },
     "metadata": {},
     "output_type": "display_data"
    }
   ],
   "source": [
    "# Another way to bin Fare\n",
    "def fare_func(row):\n",
    "    if row['Fare'] <=10:\n",
    "        return '10'\n",
    "    elif row['Fare'] <= 20:\n",
    "        return '20'\n",
    "    elif row['Fare'] <= 30:\n",
    "        return '30'\n",
    "    else:\n",
    "        return '30+'\n",
    "    \n",
    "train['Fare_bin_tao'] = train.apply(fare_func,axis=1)\n",
    "test['Fare_bin_tao'] = test.apply(fare_func,axis=1)\n",
    "sns.pointplot(x='Fare_bin_tao',y='Survived',data=train)"
   ]
  },
  {
   "cell_type": "code",
   "execution_count": 20,
   "metadata": {},
   "outputs": [
    {
     "name": "stdout",
     "output_type": "stream",
     "text": [
      "<class 'pandas.core.frame.DataFrame'>\n",
      "Int64Index: 891 entries, 0 to 890\n",
      "Data columns (total 19 columns):\n",
      "Age             714 non-null float64\n",
      "Cabin           204 non-null object\n",
      "Embarked        889 non-null object\n",
      "Fare            891 non-null float64\n",
      "Fare_log        891 non-null float64\n",
      "Name            891 non-null object\n",
      "Parch           891 non-null int64\n",
      "Parch_bin       891 non-null object\n",
      "PassengerId     891 non-null int64\n",
      "Pclass          891 non-null int64\n",
      "Sex             891 non-null object\n",
      "SibSp           891 non-null int64\n",
      "SibSp_bin       891 non-null object\n",
      "Survived        891 non-null float64\n",
      "Ticket          891 non-null object\n",
      "Fare_4bins      891 non-null float64\n",
      "Fare_5bins      891 non-null float64\n",
      "Fare_10bins     891 non-null float64\n",
      "Fare_bin_tao    891 non-null object\n",
      "dtypes: float64(7), int64(4), object(8)\n",
      "memory usage: 179.2+ KB\n",
      "*-*-*-*-*-*-*-*-*-*-*-*-*-*-*-*-*-*-*-*-\n",
      "<class 'pandas.core.frame.DataFrame'>\n",
      "Int64Index: 418 entries, 0 to 417\n",
      "Data columns (total 19 columns):\n",
      "Age             332 non-null float64\n",
      "Cabin           91 non-null object\n",
      "Embarked        418 non-null object\n",
      "Fare            417 non-null float64\n",
      "Fare_log        418 non-null float64\n",
      "Name            418 non-null object\n",
      "Parch           418 non-null int64\n",
      "Parch_bin       418 non-null object\n",
      "PassengerId     418 non-null int64\n",
      "Pclass          418 non-null int64\n",
      "Sex             418 non-null object\n",
      "SibSp           418 non-null int64\n",
      "SibSp_bin       418 non-null object\n",
      "Survived        0 non-null float64\n",
      "Ticket          418 non-null object\n",
      "Fare_4bins      417 non-null float64\n",
      "Fare_5bins      417 non-null float64\n",
      "Fare_10bins     417 non-null float64\n",
      "Fare_bin_tao    418 non-null object\n",
      "dtypes: float64(7), int64(4), object(8)\n",
      "memory usage: 65.3+ KB\n"
     ]
    }
   ],
   "source": [
    "train.info()\n",
    "print('*-'*20)\n",
    "test.info()"
   ]
  },
  {
   "cell_type": "markdown",
   "metadata": {},
   "source": [
    "### Plot age"
   ]
  },
  {
   "cell_type": "code",
   "execution_count": 21,
   "metadata": {},
   "outputs": [
    {
     "data": {
      "text/plain": [
       "(0.419, 19.0]    164\n",
       "(31.8, 41.0]     144\n",
       "(41.0, 80.0]     142\n",
       "(19.0, 25.0]     137\n",
       "(25.0, 31.8]     127\n",
       "Name: Age, dtype: int64"
      ]
     },
     "execution_count": 21,
     "metadata": {},
     "output_type": "execute_result"
    }
   ],
   "source": [
    "age = train.loc[train.Age.notnull(),'Age']\n",
    "age_bin = pd.qcut(age,5)\n",
    "# age_bin = pd.qcut(train[train.Age.notnull(),'Age'],5)\n",
    "age_bin.value_counts()"
   ]
  },
  {
   "cell_type": "code",
   "execution_count": 22,
   "metadata": {},
   "outputs": [],
   "source": [
    "def plot_survived_agegroups(n):\n",
    "    age_df = train[['Survived','Age']]\n",
    "    age_df['age_cut'] = pd.qcut(age_df['Age'],n)\n",
    "    print(age_df.age_cut.value_counts())\n",
    "    plt.figure(figsize=(12,6))\n",
    "    age_df.head()\n",
    "    plt.subplot(1,2,1)\n",
    "    sns.pointplot(x='age_cut',y='Survived', data=age_df)\n",
    "    plt.subplot(1,2,2)\n",
    "    age_df.groupby('age_cut')['Survived'].size().plot.bar()"
   ]
  },
  {
   "cell_type": "code",
   "execution_count": 23,
   "metadata": {},
   "outputs": [
    {
     "name": "stdout",
     "output_type": "stream",
     "text": [
      "(20.125, 28.0]     183\n",
      "(0.419, 20.125]    179\n",
      "(38.0, 80.0]       177\n",
      "(28.0, 38.0]       175\n",
      "Name: age_cut, dtype: int64\n",
      "(0.419, 19.0]    164\n",
      "(31.8, 41.0]     144\n",
      "(41.0, 80.0]     142\n",
      "(19.0, 25.0]     137\n",
      "(25.0, 31.8]     127\n",
      "Name: age_cut, dtype: int64\n",
      "(0.419, 16.0]     100\n",
      "(20.125, 24.0]     98\n",
      "(32.312, 38.0]     91\n",
      "(47.0, 80.0]       89\n",
      "(38.0, 47.0]       88\n",
      "(24.0, 28.0]       85\n",
      "(28.0, 32.312]     84\n",
      "(16.0, 20.125]     79\n",
      "Name: age_cut, dtype: int64\n"
     ]
    },
    {
     "data": {
      "image/png": "[encoded data removed]",
      "text/plain": [
       "<Figure size 864x432 with 2 Axes>"
      ]
     },
     "metadata": {},
     "output_type": "display_data"
    },
    {
     "data": {
      "image/png": "[encoded data removed]",
      "text/plain": [
       "<Figure size 864x432 with 2 Axes>"
      ]
     },
     "metadata": {},
     "output_type": "display_data"
    },
    {
     "data": {
      "image/png": "[encoded data removed]",
      "text/plain": [
       "<Figure size 864x432 with 2 Axes>"
      ]
     },
     "metadata": {},
     "output_type": "display_data"
    }
   ],
   "source": [
    "plot_survived_agegroups(4)\n",
    "plot_survived_agegroups(5)\n",
    "plot_survived_agegroups(8)"
   ]
  },
  {
   "cell_type": "code",
   "execution_count": 24,
   "metadata": {},
   "outputs": [
    {
     "name": "stdout",
     "output_type": "stream",
     "text": [
      "(30, 45]    202\n",
      "(16, 25]    201\n",
      "(25, 30]    108\n",
      "(45, 80]    103\n",
      "(0, 16]     100\n",
      "Name: age_cut, dtype: int64\n"
     ]
    },
    {
     "data": {
      "text/plain": [
       "<matplotlib.axes._subplots.AxesSubplot at 0x14a52429668>"
      ]
     },
     "execution_count": 24,
     "metadata": {},
     "output_type": "execute_result"
    },
    {
     "data": {
      "image/png": "[encoded data removed]",
      "text/plain": [
       "<Figure size 864x432 with 2 Axes>"
      ]
     },
     "metadata": {},
     "output_type": "display_data"
    }
   ],
   "source": [
    "# I tried to find a good bins, not based on qcut, but on survival rate. It looks better than above age_4bins, age_5bins, etc.\n",
    "bins = [0,16,25,30,45,80]\n",
    "age_df = train[['Survived','Age']]\n",
    "age_df['age_cut'] = pd.cut(age_df['Age'],bins)\n",
    "print(age_df.age_cut.value_counts())\n",
    "plt.figure(figsize=(12,6))\n",
    "age_df.head()\n",
    "plt.subplot(1,2,1)\n",
    "sns.pointplot(x='age_cut',y='Survived', data=age_df)\n",
    "plt.subplot(1,2,2)\n",
    "age_df.groupby('age_cut')['Survived'].size().plot.bar()"
   ]
  },
  {
   "cell_type": "markdown",
   "metadata": {},
   "source": [
    "### Observations: The young population has a higher chance to survive. The population with higher fare has a higher chance to survive. Both are good candidates\n",
    "\n",
    "### After imputing ages in the later analysis, we will create binnings"
   ]
  },
  {
   "cell_type": "markdown",
   "metadata": {},
   "source": [
    "## Object Variables"
   ]
  },
  {
   "cell_type": "code",
   "execution_count": 25,
   "metadata": {},
   "outputs": [
    {
     "name": "stdout",
     "output_type": "stream",
     "text": [
      "0           A/5 21171\n",
      "1            PC 17599\n",
      "2    STON/O2. 3101282\n",
      "3              113803\n",
      "4              373450\n",
      "5              330877\n",
      "6               17463\n",
      "7              349909\n",
      "8              347742\n",
      "9              237736\n",
      "Name: Ticket, dtype: object\n",
      "3       301\n",
      "2       183\n",
      "1       146\n",
      "PC       60\n",
      "C.A.     27\n",
      "Name: Ticket, dtype: int64\n"
     ]
    },
    {
     "data": {
      "text/plain": [
       "<matplotlib.axes._subplots.AxesSubplot at 0x14a53b54630>"
      ]
     },
     "execution_count": 25,
     "metadata": {},
     "output_type": "execute_result"
    },
    {
     "data": {
      "image/png": "[encoded data removed]",
      "text/plain": [
       "<Figure size 576x288 with 1 Axes>"
      ]
     },
     "metadata": {},
     "output_type": "display_data"
    }
   ],
   "source": [
    "# For object variabels: Name, Sex, Ticket and Embarked and Cabin\n",
    "# Ticket\n",
    "print(train['Ticket'].head(10))\n",
    "prefix = train['Ticket'].apply(lambda x:  x.split(' ')[0] if ' ' in x  else str(x)[0])\n",
    "plt.figure(figsize=(8,4))\n",
    "print(prefix.value_counts().head())\n",
    "prefix.value_counts().plot.bar()\n"
   ]
  },
  {
   "cell_type": "code",
   "execution_count": 26,
   "metadata": {},
   "outputs": [
    {
     "data": {
      "text/plain": [
       "3        301\n",
       "Other    201\n",
       "2        183\n",
       "1        146\n",
       "PC        60\n",
       "dtype: int64"
      ]
     },
     "execution_count": 26,
     "metadata": {},
     "output_type": "execute_result"
    }
   ],
   "source": [
    "def get_prefix_grp(row):\n",
    "    if ' ' in row['Ticket']:\n",
    "        x = row['Ticket'].split(' ')[0]\n",
    "        if x in ['PC']:\n",
    "            return x\n",
    "        else: return 'Other'\n",
    "    else:\n",
    "        x = str(row['Ticket'])[0]\n",
    "        if x in ['1','2','3']:\n",
    "            return x\n",
    "        else: return 'Other'\n",
    "\n",
    "prefix_grp = train.apply(get_prefix_grp, axis= 1)\n",
    "prefix_grp.value_counts()"
   ]
  },
  {
   "cell_type": "code",
   "execution_count": 27,
   "metadata": {},
   "outputs": [
    {
     "name": "stdout",
     "output_type": "stream",
     "text": [
      "1        0.630137\n",
      "2        0.464481\n",
      "3        0.239203\n",
      "Other    0.268657\n",
      "PC       0.650000\n",
      "Name: Survived, dtype: float64\n"
     ]
    },
    {
     "data": {
      "image/png": "[encoded data removed]",
      "text/plain": [
       "<Figure size 432x288 with 1 Axes>"
      ]
     },
     "metadata": {},
     "output_type": "display_data"
    }
   ],
   "source": [
    "train.groupby(prefix_grp)['Survived'].mean().plot.bar()\n",
    "print(train.groupby(prefix_grp)['Survived'].mean())"
   ]
  },
  {
   "cell_type": "code",
   "execution_count": 28,
   "metadata": {},
   "outputs": [
    {
     "name": "stdout",
     "output_type": "stream",
     "text": [
      "<class 'pandas.core.frame.DataFrame'>\n",
      "Int64Index: 891 entries, 0 to 890\n",
      "Data columns (total 20 columns):\n",
      "Age                  714 non-null float64\n",
      "Cabin                204 non-null object\n",
      "Embarked             889 non-null object\n",
      "Fare                 891 non-null float64\n",
      "Fare_log             891 non-null float64\n",
      "Name                 891 non-null object\n",
      "Parch                891 non-null int64\n",
      "Parch_bin            891 non-null object\n",
      "PassengerId          891 non-null int64\n",
      "Pclass               891 non-null int64\n",
      "Sex                  891 non-null object\n",
      "SibSp                891 non-null int64\n",
      "SibSp_bin            891 non-null object\n",
      "Survived             891 non-null float64\n",
      "Ticket               891 non-null object\n",
      "Fare_4bins           891 non-null float64\n",
      "Fare_5bins           891 non-null float64\n",
      "Fare_10bins          891 non-null float64\n",
      "Fare_bin_tao         891 non-null object\n",
      "Ticket_prefix_grp    891 non-null object\n",
      "dtypes: float64(7), int64(4), object(9)\n",
      "memory usage: 186.2+ KB\n",
      "<class 'pandas.core.frame.DataFrame'>\n",
      "Int64Index: 418 entries, 0 to 417\n",
      "Data columns (total 20 columns):\n",
      "Age                  332 non-null float64\n",
      "Cabin                91 non-null object\n",
      "Embarked             418 non-null object\n",
      "Fare                 417 non-null float64\n",
      "Fare_log             418 non-null float64\n",
      "Name                 418 non-null object\n",
      "Parch                418 non-null int64\n",
      "Parch_bin            418 non-null object\n",
      "PassengerId          418 non-null int64\n",
      "Pclass               418 non-null int64\n",
      "Sex                  418 non-null object\n",
      "SibSp                418 non-null int64\n",
      "SibSp_bin            418 non-null object\n",
      "Survived             0 non-null float64\n",
      "Ticket               418 non-null object\n",
      "Fare_4bins           417 non-null float64\n",
      "Fare_5bins           417 non-null float64\n",
      "Fare_10bins          417 non-null float64\n",
      "Fare_bin_tao         418 non-null object\n",
      "Ticket_prefix_grp    418 non-null object\n",
      "dtypes: float64(7), int64(4), object(9)\n",
      "memory usage: 68.6+ KB\n"
     ]
    },
    {
     "data": {
      "text/plain": [
       "(None, None)"
      ]
     },
     "execution_count": 28,
     "metadata": {},
     "output_type": "execute_result"
    }
   ],
   "source": [
    "# Let's creat this prefix groups in train and test\n",
    "for df in [train,test]:\n",
    "    df['Ticket_prefix_grp'] = df.apply(get_prefix_grp, axis= 1)\n",
    "    \n",
    "train.info(),test.info()"
   ]
  },
  {
   "cell_type": "markdown",
   "metadata": {},
   "source": [
    "### Let's see family or friends that hold the same tickets\n"
   ]
  },
  {
   "cell_type": "code",
   "execution_count": 29,
   "metadata": {},
   "outputs": [
    {
     "data": {
      "text/plain": [
       "count          891\n",
       "unique         681\n",
       "top       CA. 2343\n",
       "freq             7\n",
       "Name: Ticket, dtype: object"
      ]
     },
     "execution_count": 29,
     "metadata": {},
     "output_type": "execute_result"
    }
   ],
   "source": [
    "train['Ticket'].describe()"
   ]
  },
  {
   "cell_type": "code",
   "execution_count": 30,
   "metadata": {},
   "outputs": [
    {
     "name": "stdout",
     "output_type": "stream",
     "text": [
      "(344, 6)\n"
     ]
    },
    {
     "data": {
      "text/html": [
       "<div>\n",
       "<style scoped>\n",
       "    .dataframe tbody tr th:only-of-type {\n",
       "        vertical-align: middle;\n",
       "    }\n",
       "\n",
       "    .dataframe tbody tr th {\n",
       "        vertical-align: top;\n",
       "    }\n",
       "\n",
       "    .dataframe thead th {\n",
       "        text-align: right;\n",
       "    }\n",
       "</style>\n",
       "<table border=\"1\" class=\"dataframe\">\n",
       "  <thead>\n",
       "    <tr style=\"text-align: right;\">\n",
       "      <th></th>\n",
       "      <th>PassengerId</th>\n",
       "      <th>Survived</th>\n",
       "      <th>Ticket</th>\n",
       "      <th>SibSp</th>\n",
       "      <th>Parch</th>\n",
       "      <th>Cabin</th>\n",
       "    </tr>\n",
       "  </thead>\n",
       "  <tbody>\n",
       "    <tr>\n",
       "      <th>257</th>\n",
       "      <td>258</td>\n",
       "      <td>1.0</td>\n",
       "      <td>110152</td>\n",
       "      <td>0</td>\n",
       "      <td>0</td>\n",
       "      <td>B77</td>\n",
       "    </tr>\n",
       "    <tr>\n",
       "      <th>504</th>\n",
       "      <td>505</td>\n",
       "      <td>1.0</td>\n",
       "      <td>110152</td>\n",
       "      <td>0</td>\n",
       "      <td>0</td>\n",
       "      <td>B79</td>\n",
       "    </tr>\n",
       "    <tr>\n",
       "      <th>759</th>\n",
       "      <td>760</td>\n",
       "      <td>1.0</td>\n",
       "      <td>110152</td>\n",
       "      <td>0</td>\n",
       "      <td>0</td>\n",
       "      <td>B77</td>\n",
       "    </tr>\n",
       "    <tr>\n",
       "      <th>262</th>\n",
       "      <td>263</td>\n",
       "      <td>0.0</td>\n",
       "      <td>110413</td>\n",
       "      <td>1</td>\n",
       "      <td>1</td>\n",
       "      <td>E67</td>\n",
       "    </tr>\n",
       "    <tr>\n",
       "      <th>558</th>\n",
       "      <td>559</td>\n",
       "      <td>1.0</td>\n",
       "      <td>110413</td>\n",
       "      <td>1</td>\n",
       "      <td>1</td>\n",
       "      <td>E67</td>\n",
       "    </tr>\n",
       "    <tr>\n",
       "      <th>585</th>\n",
       "      <td>586</td>\n",
       "      <td>1.0</td>\n",
       "      <td>110413</td>\n",
       "      <td>0</td>\n",
       "      <td>2</td>\n",
       "      <td>E68</td>\n",
       "    </tr>\n",
       "    <tr>\n",
       "      <th>110</th>\n",
       "      <td>111</td>\n",
       "      <td>0.0</td>\n",
       "      <td>110465</td>\n",
       "      <td>0</td>\n",
       "      <td>0</td>\n",
       "      <td>C110</td>\n",
       "    </tr>\n",
       "    <tr>\n",
       "      <th>475</th>\n",
       "      <td>476</td>\n",
       "      <td>0.0</td>\n",
       "      <td>110465</td>\n",
       "      <td>0</td>\n",
       "      <td>0</td>\n",
       "      <td>A14</td>\n",
       "    </tr>\n",
       "    <tr>\n",
       "      <th>329</th>\n",
       "      <td>330</td>\n",
       "      <td>1.0</td>\n",
       "      <td>111361</td>\n",
       "      <td>0</td>\n",
       "      <td>1</td>\n",
       "      <td>B18</td>\n",
       "    </tr>\n",
       "    <tr>\n",
       "      <th>523</th>\n",
       "      <td>524</td>\n",
       "      <td>1.0</td>\n",
       "      <td>111361</td>\n",
       "      <td>0</td>\n",
       "      <td>1</td>\n",
       "      <td>B18</td>\n",
       "    </tr>\n",
       "    <tr>\n",
       "      <th>166</th>\n",
       "      <td>167</td>\n",
       "      <td>1.0</td>\n",
       "      <td>113505</td>\n",
       "      <td>0</td>\n",
       "      <td>1</td>\n",
       "      <td>E33</td>\n",
       "    </tr>\n",
       "    <tr>\n",
       "      <th>356</th>\n",
       "      <td>357</td>\n",
       "      <td>1.0</td>\n",
       "      <td>113505</td>\n",
       "      <td>0</td>\n",
       "      <td>1</td>\n",
       "      <td>E33</td>\n",
       "    </tr>\n",
       "    <tr>\n",
       "      <th>61</th>\n",
       "      <td>62</td>\n",
       "      <td>1.0</td>\n",
       "      <td>113572</td>\n",
       "      <td>0</td>\n",
       "      <td>0</td>\n",
       "      <td>B28</td>\n",
       "    </tr>\n",
       "    <tr>\n",
       "      <th>829</th>\n",
       "      <td>830</td>\n",
       "      <td>1.0</td>\n",
       "      <td>113572</td>\n",
       "      <td>0</td>\n",
       "      <td>0</td>\n",
       "      <td>B28</td>\n",
       "    </tr>\n",
       "    <tr>\n",
       "      <th>390</th>\n",
       "      <td>391</td>\n",
       "      <td>1.0</td>\n",
       "      <td>113760</td>\n",
       "      <td>1</td>\n",
       "      <td>2</td>\n",
       "      <td>B96 B98</td>\n",
       "    </tr>\n",
       "    <tr>\n",
       "      <th>435</th>\n",
       "      <td>436</td>\n",
       "      <td>1.0</td>\n",
       "      <td>113760</td>\n",
       "      <td>1</td>\n",
       "      <td>2</td>\n",
       "      <td>B96 B98</td>\n",
       "    </tr>\n",
       "    <tr>\n",
       "      <th>763</th>\n",
       "      <td>764</td>\n",
       "      <td>1.0</td>\n",
       "      <td>113760</td>\n",
       "      <td>1</td>\n",
       "      <td>2</td>\n",
       "      <td>B96 B98</td>\n",
       "    </tr>\n",
       "    <tr>\n",
       "      <th>802</th>\n",
       "      <td>803</td>\n",
       "      <td>1.0</td>\n",
       "      <td>113760</td>\n",
       "      <td>1</td>\n",
       "      <td>2</td>\n",
       "      <td>B96 B98</td>\n",
       "    </tr>\n",
       "    <tr>\n",
       "      <th>151</th>\n",
       "      <td>152</td>\n",
       "      <td>1.0</td>\n",
       "      <td>113776</td>\n",
       "      <td>1</td>\n",
       "      <td>0</td>\n",
       "      <td>C2</td>\n",
       "    </tr>\n",
       "    <tr>\n",
       "      <th>336</th>\n",
       "      <td>337</td>\n",
       "      <td>0.0</td>\n",
       "      <td>113776</td>\n",
       "      <td>1</td>\n",
       "      <td>0</td>\n",
       "      <td>C2</td>\n",
       "    </tr>\n",
       "  </tbody>\n",
       "</table>\n",
       "</div>"
      ],
      "text/plain": [
       "     PassengerId  Survived  Ticket  SibSp  Parch    Cabin\n",
       "257          258       1.0  110152      0      0      B77\n",
       "504          505       1.0  110152      0      0      B79\n",
       "759          760       1.0  110152      0      0      B77\n",
       "262          263       0.0  110413      1      1      E67\n",
       "558          559       1.0  110413      1      1      E67\n",
       "585          586       1.0  110413      0      2      E68\n",
       "110          111       0.0  110465      0      0     C110\n",
       "475          476       0.0  110465      0      0      A14\n",
       "329          330       1.0  111361      0      1      B18\n",
       "523          524       1.0  111361      0      1      B18\n",
       "166          167       1.0  113505      0      1      E33\n",
       "356          357       1.0  113505      0      1      E33\n",
       "61            62       1.0  113572      0      0      B28\n",
       "829          830       1.0  113572      0      0      B28\n",
       "390          391       1.0  113760      1      2  B96 B98\n",
       "435          436       1.0  113760      1      2  B96 B98\n",
       "763          764       1.0  113760      1      2  B96 B98\n",
       "802          803       1.0  113760      1      2  B96 B98\n",
       "151          152       1.0  113776      1      0       C2\n",
       "336          337       0.0  113776      1      0       C2"
      ]
     },
     "execution_count": 30,
     "metadata": {},
     "output_type": "execute_result"
    }
   ],
   "source": [
    "# There are a some cases family or friends were holding the same ticket. Let's find out those groups and see what we can use\n",
    "tickets = pd.concat(grp[['PassengerId','Survived','Ticket','SibSp','Parch','Cabin']] for name,grp in train.groupby(['Ticket']) if len(grp)>1) \n",
    "print(tickets.shape)\n",
    "tickets.head(20)"
   ]
  },
  {
   "cell_type": "code",
   "execution_count": 31,
   "metadata": {},
   "outputs": [
    {
     "name": "stdout",
     "output_type": "stream",
     "text": [
      "Ticket\n",
      "110152    1.000000\n",
      "110413    0.666667\n",
      "110465    0.000000\n",
      "111361    1.000000\n",
      "113505    1.000000\n",
      "Name: Survived, dtype: float64\n"
     ]
    },
    {
     "data": {
      "text/plain": [
       "1.000000    48\n",
       "0.000000    37\n",
       "0.500000    32\n",
       "0.666667    11\n",
       "0.750000     3\n",
       "0.714286     1\n",
       "0.333333     1\n",
       "0.250000     1\n",
       "Name: Survived, dtype: int64"
      ]
     },
     "execution_count": 31,
     "metadata": {},
     "output_type": "execute_result"
    }
   ],
   "source": [
    "grp = tickets.groupby('Ticket')\n",
    "print(grp.Survived.mean().head())\n",
    "# sns.pointplot(x='Ticket',y='Survived', data=tickets)\n",
    "\n",
    "ticket_survival = tickets.groupby('Ticket')['Survived'].mean()\n",
    "ticket_survival.value_counts()"
   ]
  },
  {
   "cell_type": "code",
   "execution_count": 32,
   "metadata": {},
   "outputs": [
    {
     "name": "stdout",
     "output_type": "stream",
     "text": [
      "115\n",
      "{'36928', 'SC/PARIS 2167', '36568', '113059', 'F.C. 12750', 'PC 17755', 'PC 17759', '4133', '17463', '29105', '19950', '237789', '349910', '382652', '236853', 'SC/Paris 2123', '315153', '113509', '2680', '3101295', '113503', '33638', 'W./C. 6608', '349909', 'C.A. 33595', 'A/5. 3337', 'W./C. 6607', '11769', '386525', '112058', 'PC 17761', 'PC 17760', 'PC 17599', '230136', '392091', '364498', '2661', '29103', '29750', '244358', '17464', 'CA 2144', '11753', '345572', 'S.C./PARIS 2079', '2625', '345763', 'PC 17569', '370129', 'F.C.C. 13528', '228414', 'PC 17756', 'SC/AH 3085', 'PC 17603', '3101298', 'C.A. 34651', 'C.A. 2673', 'C.A. 6212', '19928', 'PC 17757', 'PC 17758', '370371', '250651', 'W.E.P. 5734', 'PC 17483', '2662', '371362', '113773', '16966', '113796', '26360', 'PC 17558', 'PC 17585', '367226', '11767', '347080', 'PP 9549', '24160', 'C.A. 2315', '113781', '11765', '26707', '376566', '19877', 'S.O.C. 14879', 'C 4001', 'A/4 48871', '2653', '350026', '110813', 'PC 17592', '28220', '2668', 'PC 17608', '1601', '349256', 'C.A. 37671', '2689', '2678', 'SC/AH 29037', 'C.A. 33112', '2003', '11813', 'CA. 2343', 'A/5. 851', '2650', '226875', '248738', '28664', '2926', '12749', 'PC 17597', '13567', '347077', '220845'}\n"
     ]
    }
   ],
   "source": [
    "s1 = train['Ticket']\n",
    "s2 = test['Ticket']\n",
    "m = set(s1) & set(s2)   # overlapped Tickets\n",
    "print(len(m))\n",
    "print(m)"
   ]
  },
  {
   "cell_type": "code",
   "execution_count": 33,
   "metadata": {},
   "outputs": [
    {
     "data": {
      "text/plain": [
       "(1309, 20)"
      ]
     },
     "execution_count": 33,
     "metadata": {},
     "output_type": "execute_result"
    }
   ],
   "source": [
    "# Since the friends/family holding same tickets data came across both Train and Test datasets. \n",
    "# For each Ticket group, calculate the survival rate excluding him/herself. \n",
    "train_copy = train.copy()\n",
    "test_copy = test.copy()\n",
    "dfall = pd.concat([train,test])\n",
    "dfall.shape"
   ]
  },
  {
   "cell_type": "code",
   "execution_count": 34,
   "metadata": {},
   "outputs": [
    {
     "data": {
      "text/html": [
       "<div>\n",
       "<style scoped>\n",
       "    .dataframe tbody tr th:only-of-type {\n",
       "        vertical-align: middle;\n",
       "    }\n",
       "\n",
       "    .dataframe tbody tr th {\n",
       "        vertical-align: top;\n",
       "    }\n",
       "\n",
       "    .dataframe thead th {\n",
       "        text-align: right;\n",
       "    }\n",
       "</style>\n",
       "<table border=\"1\" class=\"dataframe\">\n",
       "  <thead>\n",
       "    <tr style=\"text-align: right;\">\n",
       "      <th></th>\n",
       "      <th>A</th>\n",
       "      <th>B</th>\n",
       "    </tr>\n",
       "  </thead>\n",
       "  <tbody>\n",
       "    <tr>\n",
       "      <th>1</th>\n",
       "      <td>2</td>\n",
       "      <td>20</td>\n",
       "    </tr>\n",
       "    <tr>\n",
       "      <th>2</th>\n",
       "      <td>3</td>\n",
       "      <td>30</td>\n",
       "    </tr>\n",
       "    <tr>\n",
       "      <th>3</th>\n",
       "      <td>4</td>\n",
       "      <td>40</td>\n",
       "    </tr>\n",
       "  </tbody>\n",
       "</table>\n",
       "</div>"
      ],
      "text/plain": [
       "   A   B\n",
       "1  2  20\n",
       "2  3  30\n",
       "3  4  40"
      ]
     },
     "execution_count": 34,
     "metadata": {},
     "output_type": "execute_result"
    }
   ],
   "source": [
    "a = pd.DataFrame({'A':[1,2,3,4],'B':[10,20,30,40]})\n",
    "a.drop(0)\n"
   ]
  },
  {
   "cell_type": "code",
   "execution_count": 35,
   "metadata": {},
   "outputs": [
    {
     "data": {
      "text/plain": [
       "0.5    888\n",
       "1.0    219\n",
       "0.0    202\n",
       "Name: connected_survived, dtype: int64"
      ]
     },
     "execution_count": 35,
     "metadata": {},
     "output_type": "execute_result"
    }
   ],
   "source": [
    "dfall['connected_survived'] = 0.5\n",
    "for _,grp in dfall.groupby('Ticket'):\n",
    "    if len(grp) > 1:\n",
    "        for index, rows in grp.iterrows():\n",
    "            survival_rate = grp.drop(index)['Survived'].mean()  # removed itself and calculate the survival rate\n",
    "            passID = rows['PassengerId']\n",
    "            if survival_rate == 1 or survival_rate == 0:\n",
    "                dfall.loc[dfall.PassengerId == passID,'connected_survived'] = survival_rate\n",
    "\n",
    "\n",
    "dfall.connected_survived.value_counts()\n"
   ]
  },
  {
   "cell_type": "code",
   "execution_count": 36,
   "metadata": {},
   "outputs": [
    {
     "name": "stdout",
     "output_type": "stream",
     "text": [
      "(891, 21) (418, 21)\n",
      "<class 'pandas.core.frame.DataFrame'>\n",
      "Int64Index: 891 entries, 0 to 890\n",
      "Data columns (total 21 columns):\n",
      "Age                   714 non-null float64\n",
      "Cabin                 204 non-null object\n",
      "Embarked              889 non-null object\n",
      "Fare                  891 non-null float64\n",
      "Fare_log              891 non-null float64\n",
      "Name                  891 non-null object\n",
      "Parch                 891 non-null int64\n",
      "Parch_bin             891 non-null object\n",
      "PassengerId           891 non-null int64\n",
      "Pclass                891 non-null int64\n",
      "Sex                   891 non-null object\n",
      "SibSp                 891 non-null int64\n",
      "SibSp_bin             891 non-null object\n",
      "Survived              891 non-null float64\n",
      "Ticket                891 non-null object\n",
      "Fare_4bins            891 non-null float64\n",
      "Fare_5bins            891 non-null float64\n",
      "Fare_10bins           891 non-null float64\n",
      "Fare_bin_tao          891 non-null object\n",
      "Ticket_prefix_grp     891 non-null object\n",
      "connected_survived    891 non-null float64\n",
      "dtypes: float64(8), int64(4), object(9)\n",
      "memory usage: 153.1+ KB\n",
      "<class 'pandas.core.frame.DataFrame'>\n",
      "Int64Index: 418 entries, 0 to 417\n",
      "Data columns (total 21 columns):\n",
      "Age                   332 non-null float64\n",
      "Cabin                 91 non-null object\n",
      "Embarked              418 non-null object\n",
      "Fare                  417 non-null float64\n",
      "Fare_log              418 non-null float64\n",
      "Name                  418 non-null object\n",
      "Parch                 418 non-null int64\n",
      "Parch_bin             418 non-null object\n",
      "PassengerId           418 non-null int64\n",
      "Pclass                418 non-null int64\n",
      "Sex                   418 non-null object\n",
      "SibSp                 418 non-null int64\n",
      "SibSp_bin             418 non-null object\n",
      "Survived              0 non-null float64\n",
      "Ticket                418 non-null object\n",
      "Fare_4bins            417 non-null float64\n",
      "Fare_5bins            417 non-null float64\n",
      "Fare_10bins           417 non-null float64\n",
      "Fare_bin_tao          418 non-null object\n",
      "Ticket_prefix_grp     418 non-null object\n",
      "connected_survived    418 non-null float64\n",
      "dtypes: float64(8), int64(4), object(9)\n",
      "memory usage: 71.8+ KB\n"
     ]
    },
    {
     "data": {
      "text/plain": [
       "(None, None)"
      ]
     },
     "execution_count": 36,
     "metadata": {},
     "output_type": "execute_result"
    }
   ],
   "source": [
    "train = dfall[dfall.Survived.notnull()]\n",
    "test = dfall[dfall.Survived.isnull()]\n",
    "print(train.shape,test.shape)\n",
    "train.info(),test.info()"
   ]
  },
  {
   "cell_type": "markdown",
   "metadata": {},
   "source": [
    "### Sex and Embarked"
   ]
  },
  {
   "cell_type": "code",
   "execution_count": 37,
   "metadata": {},
   "outputs": [
    {
     "data": {
      "image/png": "[encoded data removed]",
      "text/plain": [
       "<Figure size 576x288 with 2 Axes>"
      ]
     },
     "metadata": {},
     "output_type": "display_data"
    },
    {
     "data": {
      "image/png": "[encoded data removed]",
      "text/plain": [
       "<Figure size 576x288 with 2 Axes>"
      ]
     },
     "metadata": {},
     "output_type": "display_data"
    }
   ],
   "source": [
    "eda_by_level('Sex',train)\n",
    "eda_by_level('Embarked',train)"
   ]
  },
  {
   "cell_type": "code",
   "execution_count": 38,
   "metadata": {},
   "outputs": [
    {
     "data": {
      "text/plain": [
       "<seaborn.axisgrid.FacetGrid at 0x14a53781630>"
      ]
     },
     "execution_count": 38,
     "metadata": {},
     "output_type": "execute_result"
    },
    {
     "data": {
      "image/png": "[encoded data removed]",
      "text/plain": [
       "<Figure size 358.5x288 with 1 Axes>"
      ]
     },
     "metadata": {},
     "output_type": "display_data"
    },
    {
     "data": {
      "image/png": "[encoded data removed]",
      "text/plain": [
       "<Figure size 358.5x288 with 1 Axes>"
      ]
     },
     "metadata": {},
     "output_type": "display_data"
    }
   ],
   "source": [
    "sns.factorplot(x='Pclass',y='Survived', hue ='Sex',data=train)\n",
    "sns.factorplot(x='Embarked',y='Survived', hue ='Sex',data=train)"
   ]
  },
  {
   "cell_type": "code",
   "execution_count": 39,
   "metadata": {},
   "outputs": [
    {
     "name": "stdout",
     "output_type": "stream",
     "text": [
      "0                              Braund, Mr. Owen Harris\n",
      "1    Cumings, Mrs. John Bradley (Florence Briggs Th...\n",
      "2                               Heikkinen, Miss. Laina\n",
      "3         Futrelle, Mrs. Jacques Heath (Lily May Peel)\n",
      "4                             Allen, Mr. William Henry\n",
      "Name: Name, dtype: object\n"
     ]
    }
   ],
   "source": [
    "# Name\n",
    "print(train['Name'].head())"
   ]
  },
  {
   "cell_type": "markdown",
   "metadata": {},
   "source": [
    "### Based on discussions on Kaggle, we can create title using Name column."
   ]
  },
  {
   "cell_type": "code",
   "execution_count": 40,
   "metadata": {},
   "outputs": [
    {
     "data": {
      "text/plain": [
       "<matplotlib.axes._subplots.AxesSubplot at 0x14a537a47f0>"
      ]
     },
     "execution_count": 40,
     "metadata": {},
     "output_type": "execute_result"
    },
    {
     "data": {
      "image/png": "[encoded data removed]",
      "text/plain": [
       "<Figure size 432x288 with 1 Axes>"
      ]
     },
     "metadata": {},
     "output_type": "display_data"
    }
   ],
   "source": [
    "title=train['Name'].apply(lambda x: x.split(',')[1].split('.')[0].strip())\n",
    "title.value_counts().plot.bar()"
   ]
  },
  {
   "cell_type": "markdown",
   "metadata": {},
   "source": [
    "### Mr. Miss, Mrs and Master have decent counts. Maybe we should group other categories. It's suggested to impute the age based on title. Let's check the mean or median age by title groups"
   ]
  },
  {
   "cell_type": "code",
   "execution_count": 41,
   "metadata": {},
   "outputs": [
    {
     "name": "stdout",
     "output_type": "stream",
     "text": [
      "Mr        517\n",
      "Miss      182\n",
      "Mrs       125\n",
      "Master     40\n",
      "Other      27\n",
      "Name: Name, dtype: int64\n",
      "*-*-*-*-*-*-*-*-*-*-*-*-*-*-*-*-*-*-*-*-\n",
      "             mean  median\n",
      "Name                     \n",
      "Master   4.574167     3.5\n",
      "Miss    21.773973    21.0\n",
      "Mr      32.368090    30.0\n",
      "Mrs     35.898148    35.0\n",
      "Other   42.384615    44.5\n"
     ]
    }
   ],
   "source": [
    "title_cat = title.apply(lambda x: x if x in ['Mr','Miss','Mrs','Master'] else 'Other')\n",
    "print(title_cat.value_counts())\n",
    "print(\"*-\"*20)\n",
    "print(train.groupby(title_cat)['Age'].agg(['mean','median']))"
   ]
  },
  {
   "cell_type": "markdown",
   "metadata": {},
   "source": [
    "### Master looks werid to me. The median age is only 3.5. Let's check the missing value by title groups. See if the missing value biased the median "
   ]
  },
  {
   "cell_type": "code",
   "execution_count": 42,
   "metadata": {},
   "outputs": [
    {
     "data": {
      "text/plain": [
       "Text(0.5,1,'Total data counts by title groups')"
      ]
     },
     "execution_count": 42,
     "metadata": {},
     "output_type": "execute_result"
    },
    {
     "data": {
      "image/png": "[encoded data removed]",
      "text/plain": [
       "<Figure size 864x576 with 2 Axes>"
      ]
     },
     "metadata": {},
     "output_type": "display_data"
    }
   ],
   "source": [
    "plt.figure(figsize=(12,8))\n",
    "plt.subplot(2,1,1)\n",
    "train.groupby(title_cat).apply(lambda x: x['Age'].isnull().sum()).plot.bar()\n",
    "plt.title('Missing age data counts by title groups')\n",
    "plt.subplot(2,1,2)\n",
    "train.groupby(title_cat).size().plot.bar()\n",
    "plt.title(\"Total data counts by title groups\")\n"
   ]
  },
  {
   "cell_type": "markdown",
   "metadata": {},
   "source": [
    "### Looks like the missing ages are random event. So it's ok to impute missing age by median value in each title group. But we shouldn't use Master because it's median age is too small."
   ]
  },
  {
   "cell_type": "code",
   "execution_count": 43,
   "metadata": {},
   "outputs": [
    {
     "name": "stdout",
     "output_type": "stream",
     "text": [
      "<class 'pandas.core.frame.DataFrame'>\n",
      "Int64Index: 891 entries, 0 to 890\n",
      "Data columns (total 23 columns):\n",
      "Age                   714 non-null float64\n",
      "Cabin                 204 non-null object\n",
      "Embarked              889 non-null object\n",
      "Fare                  891 non-null float64\n",
      "Fare_log              891 non-null float64\n",
      "Name                  891 non-null object\n",
      "Parch                 891 non-null int64\n",
      "Parch_bin             891 non-null object\n",
      "PassengerId           891 non-null int64\n",
      "Pclass                891 non-null int64\n",
      "Sex                   891 non-null object\n",
      "SibSp                 891 non-null int64\n",
      "SibSp_bin             891 non-null object\n",
      "Survived              891 non-null float64\n",
      "Ticket                891 non-null object\n",
      "Fare_4bins            891 non-null float64\n",
      "Fare_5bins            891 non-null float64\n",
      "Fare_10bins           891 non-null float64\n",
      "Fare_bin_tao          891 non-null object\n",
      "Ticket_prefix_grp     891 non-null object\n",
      "connected_survived    891 non-null float64\n",
      "title                 891 non-null object\n",
      "title_cat             891 non-null object\n",
      "dtypes: float64(8), int64(4), object(11)\n",
      "memory usage: 207.1+ KB\n",
      "<class 'pandas.core.frame.DataFrame'>\n",
      "Int64Index: 418 entries, 0 to 417\n",
      "Data columns (total 23 columns):\n",
      "Age                   332 non-null float64\n",
      "Cabin                 91 non-null object\n",
      "Embarked              418 non-null object\n",
      "Fare                  417 non-null float64\n",
      "Fare_log              418 non-null float64\n",
      "Name                  418 non-null object\n",
      "Parch                 418 non-null int64\n",
      "Parch_bin             418 non-null object\n",
      "PassengerId           418 non-null int64\n",
      "Pclass                418 non-null int64\n",
      "Sex                   418 non-null object\n",
      "SibSp                 418 non-null int64\n",
      "SibSp_bin             418 non-null object\n",
      "Survived              0 non-null float64\n",
      "Ticket                418 non-null object\n",
      "Fare_4bins            417 non-null float64\n",
      "Fare_5bins            417 non-null float64\n",
      "Fare_10bins           417 non-null float64\n",
      "Fare_bin_tao          418 non-null object\n",
      "Ticket_prefix_grp     418 non-null object\n",
      "connected_survived    418 non-null float64\n",
      "title                 418 non-null object\n",
      "title_cat             418 non-null object\n",
      "dtypes: float64(8), int64(4), object(11)\n",
      "memory usage: 78.4+ KB\n"
     ]
    },
    {
     "data": {
      "text/plain": [
       "(None, None)"
      ]
     },
     "execution_count": 43,
     "metadata": {},
     "output_type": "execute_result"
    }
   ],
   "source": [
    "# Create title_cat in train and test datasets\n",
    "\n",
    "for df in [train,test]:\n",
    "    df['title'] = df['Name'].apply(lambda x: x.split(',')[1].split('.')[0].strip())\n",
    "    df['title_cat'] = df['title'].apply(lambda x: x if x in ['Mr','Miss','Mrs'] else 'Other')\n",
    "\n",
    "train.info(),test.info()\n",
    "\n"
   ]
  },
  {
   "cell_type": "markdown",
   "metadata": {},
   "source": [
    "## Object Variables - Cabin  \n",
    "## Cabin has a lot of missing values. But before throwing it away, let's check the data first"
   ]
  },
  {
   "cell_type": "code",
   "execution_count": 44,
   "metadata": {},
   "outputs": [
    {
     "data": {
      "text/html": [
       "<div>\n",
       "<style scoped>\n",
       "    .dataframe tbody tr th:only-of-type {\n",
       "        vertical-align: middle;\n",
       "    }\n",
       "\n",
       "    .dataframe tbody tr th {\n",
       "        vertical-align: top;\n",
       "    }\n",
       "\n",
       "    .dataframe thead th {\n",
       "        text-align: right;\n",
       "    }\n",
       "</style>\n",
       "<table border=\"1\" class=\"dataframe\">\n",
       "  <thead>\n",
       "    <tr style=\"text-align: right;\">\n",
       "      <th></th>\n",
       "      <th>Cabin</th>\n",
       "    </tr>\n",
       "  </thead>\n",
       "  <tbody>\n",
       "    <tr>\n",
       "      <th>1</th>\n",
       "      <td>C85</td>\n",
       "    </tr>\n",
       "    <tr>\n",
       "      <th>3</th>\n",
       "      <td>C123</td>\n",
       "    </tr>\n",
       "    <tr>\n",
       "      <th>6</th>\n",
       "      <td>E46</td>\n",
       "    </tr>\n",
       "    <tr>\n",
       "      <th>10</th>\n",
       "      <td>G6</td>\n",
       "    </tr>\n",
       "    <tr>\n",
       "      <th>11</th>\n",
       "      <td>C103</td>\n",
       "    </tr>\n",
       "    <tr>\n",
       "      <th>21</th>\n",
       "      <td>D56</td>\n",
       "    </tr>\n",
       "    <tr>\n",
       "      <th>23</th>\n",
       "      <td>A6</td>\n",
       "    </tr>\n",
       "    <tr>\n",
       "      <th>27</th>\n",
       "      <td>C23 C25 C27</td>\n",
       "    </tr>\n",
       "    <tr>\n",
       "      <th>31</th>\n",
       "      <td>B78</td>\n",
       "    </tr>\n",
       "    <tr>\n",
       "      <th>52</th>\n",
       "      <td>D33</td>\n",
       "    </tr>\n",
       "    <tr>\n",
       "      <th>54</th>\n",
       "      <td>B30</td>\n",
       "    </tr>\n",
       "    <tr>\n",
       "      <th>55</th>\n",
       "      <td>C52</td>\n",
       "    </tr>\n",
       "    <tr>\n",
       "      <th>61</th>\n",
       "      <td>B28</td>\n",
       "    </tr>\n",
       "    <tr>\n",
       "      <th>62</th>\n",
       "      <td>C83</td>\n",
       "    </tr>\n",
       "    <tr>\n",
       "      <th>66</th>\n",
       "      <td>F33</td>\n",
       "    </tr>\n",
       "    <tr>\n",
       "      <th>75</th>\n",
       "      <td>F G73</td>\n",
       "    </tr>\n",
       "    <tr>\n",
       "      <th>88</th>\n",
       "      <td>C23 C25 C27</td>\n",
       "    </tr>\n",
       "    <tr>\n",
       "      <th>92</th>\n",
       "      <td>E31</td>\n",
       "    </tr>\n",
       "    <tr>\n",
       "      <th>96</th>\n",
       "      <td>A5</td>\n",
       "    </tr>\n",
       "    <tr>\n",
       "      <th>97</th>\n",
       "      <td>D10 D12</td>\n",
       "    </tr>\n",
       "  </tbody>\n",
       "</table>\n",
       "</div>"
      ],
      "text/plain": [
       "          Cabin\n",
       "1           C85\n",
       "3          C123\n",
       "6           E46\n",
       "10           G6\n",
       "11         C103\n",
       "21          D56\n",
       "23           A6\n",
       "27  C23 C25 C27\n",
       "31          B78\n",
       "52          D33\n",
       "54          B30\n",
       "55          C52\n",
       "61          B28\n",
       "62          C83\n",
       "66          F33\n",
       "75        F G73\n",
       "88  C23 C25 C27\n",
       "92          E31\n",
       "96           A5\n",
       "97      D10 D12"
      ]
     },
     "execution_count": 44,
     "metadata": {},
     "output_type": "execute_result"
    }
   ],
   "source": [
    "mask = train['Cabin'].isnull()\n",
    "train.loc[mask == False,['Cabin']].head(20)"
   ]
  },
  {
   "cell_type": "code",
   "execution_count": 45,
   "metadata": {},
   "outputs": [
    {
     "name": "stdout",
     "output_type": "stream",
     "text": [
      "0    687\n",
      "C     59\n",
      "B     47\n",
      "D     33\n",
      "E     32\n",
      "A     15\n",
      "F     13\n",
      "G      4\n",
      "T      1\n",
      "dtype: int64\n"
     ]
    },
    {
     "data": {
      "text/plain": [
       "<matplotlib.axes._subplots.AxesSubplot at 0x14a5372a0b8>"
      ]
     },
     "execution_count": 45,
     "metadata": {},
     "output_type": "execute_result"
    },
    {
     "data": {
      "image/png": "[encoded data removed]",
      "text/plain": [
       "<Figure size 432x288 with 1 Axes>"
      ]
     },
     "metadata": {},
     "output_type": "display_data"
    }
   ],
   "source": [
    "# let's take the first letter out\n",
    "cabin_letter = train.apply(lambda x: '0' if pd.isnull(x['Cabin']) else str(x['Cabin'])[0], axis=1)\n",
    "print(cabin_letter.value_counts())\n",
    "cabin_letter.value_counts().plot('bar')"
   ]
  },
  {
   "cell_type": "code",
   "execution_count": 46,
   "metadata": {},
   "outputs": [
    {
     "data": {
      "text/plain": [
       "<matplotlib.axes._subplots.AxesSubplot at 0x14a53ac4ef0>"
      ]
     },
     "execution_count": 46,
     "metadata": {},
     "output_type": "execute_result"
    },
    {
     "data": {
      "image/png": "[encoded data removed]",
      "text/plain": [
       "<Figure size 432x288 with 1 Axes>"
      ]
     },
     "metadata": {},
     "output_type": "display_data"
    }
   ],
   "source": [
    "sns.pointplot(x=cabin_letter, y='Survived',data=train)"
   ]
  },
  {
   "cell_type": "code",
   "execution_count": 47,
   "metadata": {},
   "outputs": [
    {
     "name": "stdout",
     "output_type": "stream",
     "text": [
      "0.7710437710437711\n"
     ]
    },
    {
     "data": {
      "text/plain": [
       "<matplotlib.axes._subplots.AxesSubplot at 0x14a539e8dd8>"
      ]
     },
     "execution_count": 47,
     "metadata": {},
     "output_type": "execute_result"
    },
    {
     "data": {
      "image/png": "[encoded data removed]",
      "text/plain": [
       "<Figure size 432x288 with 1 Axes>"
      ]
     },
     "metadata": {},
     "output_type": "display_data"
    }
   ],
   "source": [
    "# 77% of train dataset has NaN in Cabin\n",
    "print(train['Cabin'].isnull().mean())\n",
    "\n",
    "# Check the survival rate\n",
    "train['Cabin_isnull'] = train['Cabin'].isnull()*1\n",
    "test['Cabin_isnull'] = test['Cabin'].isnull()*1\n",
    "train.groupby('Cabin_isnull')['Survived'].mean().plot.bar()"
   ]
  },
  {
   "cell_type": "code",
   "execution_count": 48,
   "metadata": {},
   "outputs": [
    {
     "name": "stdout",
     "output_type": "stream",
     "text": [
      "<class 'pandas.core.frame.DataFrame'>\n",
      "Int64Index: 891 entries, 0 to 890\n",
      "Data columns (total 24 columns):\n",
      "Age                   714 non-null float64\n",
      "Cabin                 204 non-null object\n",
      "Embarked              889 non-null object\n",
      "Fare                  891 non-null float64\n",
      "Fare_log              891 non-null float64\n",
      "Name                  891 non-null object\n",
      "Parch                 891 non-null int64\n",
      "Parch_bin             891 non-null object\n",
      "PassengerId           891 non-null int64\n",
      "Pclass                891 non-null int64\n",
      "Sex                   891 non-null object\n",
      "SibSp                 891 non-null int64\n",
      "SibSp_bin             891 non-null object\n",
      "Survived              891 non-null float64\n",
      "Ticket                891 non-null object\n",
      "Fare_4bins            891 non-null float64\n",
      "Fare_5bins            891 non-null float64\n",
      "Fare_10bins           891 non-null float64\n",
      "Fare_bin_tao          891 non-null object\n",
      "Ticket_prefix_grp     891 non-null object\n",
      "connected_survived    891 non-null float64\n",
      "title                 891 non-null object\n",
      "title_cat             891 non-null object\n",
      "Cabin_isnull          891 non-null int32\n",
      "dtypes: float64(8), int32(1), int64(4), object(11)\n",
      "memory usage: 210.5+ KB\n",
      "<class 'pandas.core.frame.DataFrame'>\n",
      "Int64Index: 418 entries, 0 to 417\n",
      "Data columns (total 24 columns):\n",
      "Age                   332 non-null float64\n",
      "Cabin                 91 non-null object\n",
      "Embarked              418 non-null object\n",
      "Fare                  417 non-null float64\n",
      "Fare_log              418 non-null float64\n",
      "Name                  418 non-null object\n",
      "Parch                 418 non-null int64\n",
      "Parch_bin             418 non-null object\n",
      "PassengerId           418 non-null int64\n",
      "Pclass                418 non-null int64\n",
      "Sex                   418 non-null object\n",
      "SibSp                 418 non-null int64\n",
      "SibSp_bin             418 non-null object\n",
      "Survived              0 non-null float64\n",
      "Ticket                418 non-null object\n",
      "Fare_4bins            417 non-null float64\n",
      "Fare_5bins            417 non-null float64\n",
      "Fare_10bins           417 non-null float64\n",
      "Fare_bin_tao          418 non-null object\n",
      "Ticket_prefix_grp     418 non-null object\n",
      "connected_survived    418 non-null float64\n",
      "title                 418 non-null object\n",
      "title_cat             418 non-null object\n",
      "Cabin_isnull          418 non-null int32\n",
      "dtypes: float64(8), int32(1), int64(4), object(11)\n",
      "memory usage: 80.0+ KB\n"
     ]
    },
    {
     "data": {
      "text/plain": [
       "(None, None)"
      ]
     },
     "execution_count": 48,
     "metadata": {},
     "output_type": "execute_result"
    }
   ],
   "source": [
    "# for df in [train,test]:\n",
    "#     df['Cabin_fillna'] = df.Cabin.fillna(0)\n",
    "#     df.loc[df.Cabin.str[0] == 'A', 'Cabin_fillna'] = 1\n",
    "#     df.loc[df.Cabin.str[0] == 'B', 'Cabin_fillna'] = 2\n",
    "#     df.loc[df.Cabin.str[0] == 'C', 'Cabin_fillna'] = 3\n",
    "#     df.loc[df.Cabin.str[0] == 'D', 'Cabin_fillna'] = 4\n",
    "#     df.loc[df.Cabin.str[0] == 'E', 'Cabin_fillna'] = 5\n",
    "#     df.loc[df.Cabin.str[0] == 'F', 'Cabin_fillna'] = 6\n",
    "#     df.loc[df.Cabin.str[0] == 'G', 'Cabin_fillna'] = 7\n",
    "#     df.loc[df.Cabin.str[0] == 'T', 'Cabin_fillna'] = 8\n",
    "\n",
    "train.info(),test.info()"
   ]
  },
  {
   "cell_type": "markdown",
   "metadata": {},
   "source": [
    "# Impute missing age"
   ]
  },
  {
   "cell_type": "markdown",
   "metadata": {},
   "source": [
    "### Impute missing ages using median value across title_cat"
   ]
  },
  {
   "cell_type": "code",
   "execution_count": 49,
   "metadata": {},
   "outputs": [
    {
     "name": "stdout",
     "output_type": "stream",
     "text": [
      "title_cat\n",
      "Miss     21.0\n",
      "Mr       30.0\n",
      "Mrs      35.0\n",
      "Other     9.0\n",
      "Name: Age, dtype: float64\n",
      "{'Miss': 21.0, 'Mr': 30.0, 'Mrs': 35.0, 'Other': 9.0}\n",
      "*-*-*-*-*-*-*-*-*-*-*-*-*-*-*-*-*-*-*-*-\n",
      "title_cat\n",
      "Miss     22.0\n",
      "Mr       28.5\n",
      "Mrs      36.5\n",
      "Other    10.0\n",
      "Name: Age, dtype: float64\n",
      "{'Miss': 22.0, 'Mr': 28.5, 'Mrs': 36.5, 'Other': 10.0}\n"
     ]
    }
   ],
   "source": [
    "def get_age_dict(df):\n",
    "    median_age = df.groupby('title_cat')['Age'].median()\n",
    "    print(median_age)\n",
    "    age_dict = median_age.to_dict()\n",
    "    print(age_dict)\n",
    "    return age_dict\n",
    "\n",
    "age_dict_train = get_age_dict(train)\n",
    "print('*-'*20)\n",
    "age_dict_test = get_age_dict(test)\n"
   ]
  },
  {
   "cell_type": "code",
   "execution_count": 50,
   "metadata": {},
   "outputs": [],
   "source": [
    "def impute_age(newvar,df,age_dict):\n",
    "    df[newvar] = df.apply(lambda x: age_dict[x['title_cat']] if pd.isnull(x['Age']) else x['Age'], axis=1)\n",
    "\n",
    "impute_age('Age_fillna',train, age_dict_train)\n",
    "impute_age('Age_fillna',test, age_dict_test)"
   ]
  },
  {
   "cell_type": "code",
   "execution_count": 51,
   "metadata": {},
   "outputs": [
    {
     "data": {
      "text/plain": [
       "Age                   177\n",
       "Cabin                 687\n",
       "Embarked                2\n",
       "Fare                    0\n",
       "Fare_log                0\n",
       "Name                    0\n",
       "Parch                   0\n",
       "Parch_bin               0\n",
       "PassengerId             0\n",
       "Pclass                  0\n",
       "Sex                     0\n",
       "SibSp                   0\n",
       "SibSp_bin               0\n",
       "Survived                0\n",
       "Ticket                  0\n",
       "Fare_4bins              0\n",
       "Fare_5bins              0\n",
       "Fare_10bins             0\n",
       "Fare_bin_tao            0\n",
       "Ticket_prefix_grp       0\n",
       "connected_survived      0\n",
       "title                   0\n",
       "title_cat               0\n",
       "Cabin_isnull            0\n",
       "Age_fillna              0\n",
       "dtype: int64"
      ]
     },
     "execution_count": 51,
     "metadata": {},
     "output_type": "execute_result"
    }
   ],
   "source": [
    "# check imputation result\n",
    "train.isnull().sum(axis=0)   # axis=0 meaning across all rows"
   ]
  },
  {
   "cell_type": "code",
   "execution_count": 52,
   "metadata": {},
   "outputs": [
    {
     "data": {
      "text/plain": [
       "Age                    86\n",
       "Cabin                 327\n",
       "Embarked                0\n",
       "Fare                    1\n",
       "Fare_log                0\n",
       "Name                    0\n",
       "Parch                   0\n",
       "Parch_bin               0\n",
       "PassengerId             0\n",
       "Pclass                  0\n",
       "Sex                     0\n",
       "SibSp                   0\n",
       "SibSp_bin               0\n",
       "Survived              418\n",
       "Ticket                  0\n",
       "Fare_4bins              1\n",
       "Fare_5bins              1\n",
       "Fare_10bins             1\n",
       "Fare_bin_tao            0\n",
       "Ticket_prefix_grp       0\n",
       "connected_survived      0\n",
       "title                   0\n",
       "title_cat               0\n",
       "Cabin_isnull            0\n",
       "Age_fillna              0\n",
       "dtype: int64"
      ]
     },
     "execution_count": 52,
     "metadata": {},
     "output_type": "execute_result"
    }
   ],
   "source": [
    "test.isnull().sum(axis=0)"
   ]
  },
  {
   "cell_type": "code",
   "execution_count": 53,
   "metadata": {},
   "outputs": [
    {
     "name": "stdout",
     "output_type": "stream",
     "text": [
      "<class 'pandas.core.frame.DataFrame'>\n",
      "Int64Index: 891 entries, 0 to 890\n",
      "Data columns (total 25 columns):\n",
      "Age                   714 non-null float64\n",
      "Cabin                 204 non-null object\n",
      "Embarked              889 non-null object\n",
      "Fare                  891 non-null float64\n",
      "Fare_log              891 non-null float64\n",
      "Name                  891 non-null object\n",
      "Parch                 891 non-null int64\n",
      "Parch_bin             891 non-null object\n",
      "PassengerId           891 non-null int64\n",
      "Pclass                891 non-null int64\n",
      "Sex                   891 non-null object\n",
      "SibSp                 891 non-null int64\n",
      "SibSp_bin             891 non-null object\n",
      "Survived              891 non-null float64\n",
      "Ticket                891 non-null object\n",
      "Fare_4bins            891 non-null float64\n",
      "Fare_5bins            891 non-null float64\n",
      "Fare_10bins           891 non-null float64\n",
      "Fare_bin_tao          891 non-null object\n",
      "Ticket_prefix_grp     891 non-null object\n",
      "connected_survived    891 non-null float64\n",
      "title                 891 non-null object\n",
      "title_cat             891 non-null object\n",
      "Cabin_isnull          891 non-null int32\n",
      "Age_fillna            891 non-null float64\n",
      "dtypes: float64(9), int32(1), int64(4), object(11)\n",
      "memory usage: 217.5+ KB\n",
      "<class 'pandas.core.frame.DataFrame'>\n",
      "Int64Index: 418 entries, 0 to 417\n",
      "Data columns (total 25 columns):\n",
      "Age                   332 non-null float64\n",
      "Cabin                 91 non-null object\n",
      "Embarked              418 non-null object\n",
      "Fare                  417 non-null float64\n",
      "Fare_log              418 non-null float64\n",
      "Name                  418 non-null object\n",
      "Parch                 418 non-null int64\n",
      "Parch_bin             418 non-null object\n",
      "PassengerId           418 non-null int64\n",
      "Pclass                418 non-null int64\n",
      "Sex                   418 non-null object\n",
      "SibSp                 418 non-null int64\n",
      "SibSp_bin             418 non-null object\n",
      "Survived              0 non-null float64\n",
      "Ticket                418 non-null object\n",
      "Fare_4bins            417 non-null float64\n",
      "Fare_5bins            417 non-null float64\n",
      "Fare_10bins           417 non-null float64\n",
      "Fare_bin_tao          418 non-null object\n",
      "Ticket_prefix_grp     418 non-null object\n",
      "connected_survived    418 non-null float64\n",
      "title                 418 non-null object\n",
      "title_cat             418 non-null object\n",
      "Cabin_isnull          418 non-null int32\n",
      "Age_fillna            418 non-null float64\n",
      "dtypes: float64(9), int32(1), int64(4), object(11)\n",
      "memory usage: 83.3+ KB\n"
     ]
    },
    {
     "data": {
      "text/plain": [
       "(None, None)"
      ]
     },
     "execution_count": 53,
     "metadata": {},
     "output_type": "execute_result"
    }
   ],
   "source": [
    "train.info(),test.info()"
   ]
  },
  {
   "cell_type": "markdown",
   "metadata": {},
   "source": [
    "### qcut is tricy. If you have many repeated values, the results may not give you the same counts across bins. See the example below. "
   ]
  },
  {
   "cell_type": "code",
   "execution_count": 54,
   "metadata": {},
   "outputs": [
    {
     "name": "stdout",
     "output_type": "stream",
     "text": [
      "803    0.42\n",
      "755    0.67\n",
      "469    0.75\n",
      "644    0.75\n",
      "831    0.83\n",
      "Name: Age_fillna, dtype: float64\n"
     ]
    },
    {
     "data": {
      "text/plain": [
       "Text(0.5,1,'count by 5 qcut bins')"
      ]
     },
     "execution_count": 54,
     "metadata": {},
     "output_type": "execute_result"
    },
    {
     "data": {
      "image/png": "[encoded data removed]",
      "text/plain": [
       "<Figure size 432x288 with 1 Axes>"
      ]
     },
     "metadata": {},
     "output_type": "display_data"
    },
    {
     "data": {
      "image/png": "[encoded data removed]",
      "text/plain": [
       "<Figure size 432x288 with 1 Axes>"
      ]
     },
     "metadata": {},
     "output_type": "display_data"
    }
   ],
   "source": [
    "x=train.Age_fillna.sort_values()\n",
    "print(x.head())\n",
    "plt.subplots()\n",
    "plt.plot(x.values)\n",
    "plt.ylabel(\"Age\")\n",
    "plt.xlabel(\"data points\")\n",
    "\n",
    "\n",
    "# split into 5 bins.\n",
    "x2 = pd.qcut(x,5)\n",
    "s = pd.Series(x2)\n",
    "plt.subplots()\n",
    "s.value_counts().plot.bar()\n",
    "plt.title(\"count by 5 qcut bins\")"
   ]
  },
  {
   "cell_type": "markdown",
   "metadata": {},
   "source": [
    "### The reason why the counts above are not same across 5 bins is because we have repeated values. Check the result below. Below shows all the records that have repeated values in Age_fillna"
   ]
  },
  {
   "cell_type": "code",
   "execution_count": 55,
   "metadata": {},
   "outputs": [
    {
     "data": {
      "text/html": [
       "<div>\n",
       "<style scoped>\n",
       "    .dataframe tbody tr th:only-of-type {\n",
       "        vertical-align: middle;\n",
       "    }\n",
       "\n",
       "    .dataframe tbody tr th {\n",
       "        vertical-align: top;\n",
       "    }\n",
       "\n",
       "    .dataframe thead th {\n",
       "        text-align: right;\n",
       "    }\n",
       "</style>\n",
       "<table border=\"1\" class=\"dataframe\">\n",
       "  <thead>\n",
       "    <tr style=\"text-align: right;\">\n",
       "      <th></th>\n",
       "      <th>Age_fillna</th>\n",
       "    </tr>\n",
       "  </thead>\n",
       "  <tbody>\n",
       "    <tr>\n",
       "      <th>469</th>\n",
       "      <td>0.75</td>\n",
       "    </tr>\n",
       "    <tr>\n",
       "      <th>644</th>\n",
       "      <td>0.75</td>\n",
       "    </tr>\n",
       "    <tr>\n",
       "      <th>78</th>\n",
       "      <td>0.83</td>\n",
       "    </tr>\n",
       "    <tr>\n",
       "      <th>831</th>\n",
       "      <td>0.83</td>\n",
       "    </tr>\n",
       "    <tr>\n",
       "      <th>164</th>\n",
       "      <td>1.00</td>\n",
       "    </tr>\n",
       "  </tbody>\n",
       "</table>\n",
       "</div>"
      ],
      "text/plain": [
       "     Age_fillna\n",
       "469        0.75\n",
       "644        0.75\n",
       "78         0.83\n",
       "831        0.83\n",
       "164        1.00"
      ]
     },
     "execution_count": 55,
     "metadata": {},
     "output_type": "execute_result"
    }
   ],
   "source": [
    "dup_age = pd.concat(grp[['Age_fillna']] for name,grp in train.groupby(['Age_fillna']) if len(grp)>1)\n",
    "\n",
    "dup_age.head()"
   ]
  },
  {
   "cell_type": "markdown",
   "metadata": {},
   "source": [
    "### Let's work on age binning"
   ]
  },
  {
   "cell_type": "code",
   "execution_count": 56,
   "metadata": {},
   "outputs": [],
   "source": [
    "def age_group(row):\n",
    "    if np.isnan(row['Age']):  # row['Age'] is a float type number, can't use .isnull()\n",
    "        return 'nan'\n",
    "    elif row['Age'] <= 10:\n",
    "        return '10'\n",
    "    elif row['Age']<=20:\n",
    "        return '20'\n",
    "    elif row['Age']<=25:\n",
    "        return '25'\n",
    "    elif row['Age']<=30:\n",
    "        return '30'\n",
    "    elif row['Age']<=40:\n",
    "        return '40'\n",
    "    elif row['Age']<=50:\n",
    "        return '50'\n",
    "    else:\n",
    "        return '50+'"
   ]
  },
  {
   "cell_type": "code",
   "execution_count": 57,
   "metadata": {},
   "outputs": [
    {
     "name": "stdout",
     "output_type": "stream",
     "text": [
      "nan    177\n",
      "40     155\n",
      "25     122\n",
      "20     115\n",
      "30     108\n",
      "50      86\n",
      "10      64\n",
      "50+     64\n",
      "Name: age_bin_tao, dtype: int64\n"
     ]
    },
    {
     "data": {
      "text/plain": [
       "(2    311\n",
       " 1    219\n",
       " 0    184\n",
       " 3    177\n",
       " Name: age_4bins, dtype: int64, 2    246\n",
       " 1    173\n",
       " 0    169\n",
       " 3    161\n",
       " 4    142\n",
       " Name: age_5bins, dtype: int64, 3    235\n",
       " 0    144\n",
       " 1    143\n",
       " 4    138\n",
       " 2    116\n",
       " 5    115\n",
       " Name: age_6bins, dtype: int64, (16, 25]    237\n",
       " (25, 30]    227\n",
       " (30, 45]    219\n",
       " (0, 16]     105\n",
       " (45, 80]    103\n",
       " Name: age_bin, dtype: int64)"
      ]
     },
     "execution_count": 57,
     "metadata": {},
     "output_type": "execute_result"
    }
   ],
   "source": [
    "# I created different ways of binning. My favoriate is age_le16 and age_bin. Because their survival rate is clearly separable\n",
    "# between groups\n",
    "\n",
    "bins = [0,16,25,30,45,80]\n",
    "for df in [train,test]:\n",
    "    df['age_4bins'] = pd.cut(df['Age_fillna'], [0,20,28,38,80], labels=False)\n",
    "    df['age_5bins'] = pd.cut(df['Age_fillna'],[0,19,25,31,41,80], labels=False)\n",
    "    df['age_6bins'] = pd.cut(df['Age_fillna'],[0,18,23,28,34,44,80], labels=False)\n",
    "    df['age_bin'] = pd.cut(df['Age_fillna'],bins)\n",
    "    df['age_le16'] = df.apply(lambda x:  1 if x['Age_fillna'] <= 16 else 0, axis=1)\n",
    "    df['age_bin_tao'] = df.apply(age_group,axis=1)\n",
    "    \n",
    "print(train['age_bin_tao'].value_counts())\n",
    "train.age_4bins.value_counts(),train.age_5bins.value_counts(),train.age_6bins.value_counts(), train.age_bin.value_counts()"
   ]
  },
  {
   "cell_type": "code",
   "execution_count": 58,
   "metadata": {},
   "outputs": [
    {
     "name": "stdout",
     "output_type": "stream",
     "text": [
      "<class 'pandas.core.frame.DataFrame'>\n",
      "Int64Index: 891 entries, 0 to 890\n",
      "Data columns (total 31 columns):\n",
      "Age                   714 non-null float64\n",
      "Cabin                 204 non-null object\n",
      "Embarked              889 non-null object\n",
      "Fare                  891 non-null float64\n",
      "Fare_log              891 non-null float64\n",
      "Name                  891 non-null object\n",
      "Parch                 891 non-null int64\n",
      "Parch_bin             891 non-null object\n",
      "PassengerId           891 non-null int64\n",
      "Pclass                891 non-null int64\n",
      "Sex                   891 non-null object\n",
      "SibSp                 891 non-null int64\n",
      "SibSp_bin             891 non-null object\n",
      "Survived              891 non-null float64\n",
      "Ticket                891 non-null object\n",
      "Fare_4bins            891 non-null float64\n",
      "Fare_5bins            891 non-null float64\n",
      "Fare_10bins           891 non-null float64\n",
      "Fare_bin_tao          891 non-null object\n",
      "Ticket_prefix_grp     891 non-null object\n",
      "connected_survived    891 non-null float64\n",
      "title                 891 non-null object\n",
      "title_cat             891 non-null object\n",
      "Cabin_isnull          891 non-null int32\n",
      "Age_fillna            891 non-null float64\n",
      "age_4bins             891 non-null int64\n",
      "age_5bins             891 non-null int64\n",
      "age_6bins             891 non-null int64\n",
      "age_bin               891 non-null category\n",
      "age_le16              891 non-null int64\n",
      "age_bin_tao           891 non-null object\n",
      "dtypes: category(1), float64(9), int32(1), int64(8), object(12)\n",
      "memory usage: 253.3+ KB\n",
      "<class 'pandas.core.frame.DataFrame'>\n",
      "Int64Index: 418 entries, 0 to 417\n",
      "Data columns (total 31 columns):\n",
      "Age                   332 non-null float64\n",
      "Cabin                 91 non-null object\n",
      "Embarked              418 non-null object\n",
      "Fare                  417 non-null float64\n",
      "Fare_log              418 non-null float64\n",
      "Name                  418 non-null object\n",
      "Parch                 418 non-null int64\n",
      "Parch_bin             418 non-null object\n",
      "PassengerId           418 non-null int64\n",
      "Pclass                418 non-null int64\n",
      "Sex                   418 non-null object\n",
      "SibSp                 418 non-null int64\n",
      "SibSp_bin             418 non-null object\n",
      "Survived              0 non-null float64\n",
      "Ticket                418 non-null object\n",
      "Fare_4bins            417 non-null float64\n",
      "Fare_5bins            417 non-null float64\n",
      "Fare_10bins           417 non-null float64\n",
      "Fare_bin_tao          418 non-null object\n",
      "Ticket_prefix_grp     418 non-null object\n",
      "connected_survived    418 non-null float64\n",
      "title                 418 non-null object\n",
      "title_cat             418 non-null object\n",
      "Cabin_isnull          418 non-null int32\n",
      "Age_fillna            418 non-null float64\n",
      "age_4bins             418 non-null int64\n",
      "age_5bins             418 non-null int64\n",
      "age_6bins             418 non-null int64\n",
      "age_bin               418 non-null category\n",
      "age_le16              418 non-null int64\n",
      "age_bin_tao           418 non-null object\n",
      "dtypes: category(1), float64(9), int32(1), int64(8), object(12)\n",
      "memory usage: 100.1+ KB\n"
     ]
    },
    {
     "data": {
      "text/plain": [
       "(None, None)"
      ]
     },
     "execution_count": 58,
     "metadata": {},
     "output_type": "execute_result"
    }
   ],
   "source": [
    "train.info(),test.info()"
   ]
  },
  {
   "cell_type": "code",
   "execution_count": 59,
   "metadata": {},
   "outputs": [],
   "source": [
    "# def create_age_bin(newvar, df,bins):\n",
    "#     df[newvar] = pd.cut(train['Age_fillna'],bins)\n",
    "    \n",
    "# create_age_bin('Age_bin',train,[0,20,26,30,38,80])\n",
    "# create_age_bin('Age_bin',test,[0,20,26,30,38,80])\n",
    "\n",
    "# plt.figure(figsize=(10,5))\n",
    "# plt.subplot(1,2,1)\n",
    "# train['Age_bin'].value_counts().plot.bar()\n",
    "# plt.title('train')\n",
    "# plt.xlabel('age bin')\n",
    "# plt.ylabel('count')\n",
    "# plt.subplot(1,2,2)\n",
    "# test['Age_bin'].value_counts().plot.bar()\n",
    "# plt.title('test')\n",
    "# plt.xlabel('age bin')\n",
    "# plt.ylabel('count')"
   ]
  },
  {
   "cell_type": "markdown",
   "metadata": {},
   "source": [
    "# Impute Embarked using Mode"
   ]
  },
  {
   "cell_type": "code",
   "execution_count": 60,
   "metadata": {},
   "outputs": [
    {
     "data": {
      "text/plain": [
       "'S'"
      ]
     },
     "execution_count": 60,
     "metadata": {},
     "output_type": "execute_result"
    }
   ],
   "source": [
    "embarked_mode = train['Embarked'].mode()\n",
    "embarked_mode[0]"
   ]
  },
  {
   "cell_type": "code",
   "execution_count": 61,
   "metadata": {},
   "outputs": [],
   "source": [
    "def impute_embarked(newvar, df, fillvalue):\n",
    "    df[newvar] = df.apply(lambda x: fillvalue if pd.isnull(x['Embarked']) else x['Embarked'], axis=1)\n",
    "\n",
    "# train['Embarked_fillna'] = train.apply(lambda x: embarked_mode[0] if pd.isnull(x['Embarked']) else x['Embarked'], axis=1)\n",
    "v_train = train['Embarked'].mode()[0]\n",
    "v_test = test['Embarked'].mode()[0]\n",
    "\n",
    "impute_embarked('Embarked_fillna',train,v_train)\n",
    "impute_embarked('Embarked_fillna',test,v_train)\n"
   ]
  },
  {
   "cell_type": "code",
   "execution_count": 62,
   "metadata": {},
   "outputs": [
    {
     "name": "stdout",
     "output_type": "stream",
     "text": [
      "0\n",
      "*-*-*-*-*-*-*-*-*-*-*-*-*-*-*-*-*-*-*-*-\n",
      "0\n"
     ]
    }
   ],
   "source": [
    "print(train['Embarked_fillna'].isnull().sum())\n",
    "print('*-'*20)\n",
    "print(test['Embarked_fillna'].isnull().sum())"
   ]
  },
  {
   "cell_type": "code",
   "execution_count": 63,
   "metadata": {},
   "outputs": [
    {
     "name": "stdout",
     "output_type": "stream",
     "text": [
      "<class 'pandas.core.frame.DataFrame'>\n",
      "Int64Index: 891 entries, 0 to 890\n",
      "Data columns (total 32 columns):\n",
      "Age                   714 non-null float64\n",
      "Cabin                 204 non-null object\n",
      "Embarked              889 non-null object\n",
      "Fare                  891 non-null float64\n",
      "Fare_log              891 non-null float64\n",
      "Name                  891 non-null object\n",
      "Parch                 891 non-null int64\n",
      "Parch_bin             891 non-null object\n",
      "PassengerId           891 non-null int64\n",
      "Pclass                891 non-null int64\n",
      "Sex                   891 non-null object\n",
      "SibSp                 891 non-null int64\n",
      "SibSp_bin             891 non-null object\n",
      "Survived              891 non-null float64\n",
      "Ticket                891 non-null object\n",
      "Fare_4bins            891 non-null float64\n",
      "Fare_5bins            891 non-null float64\n",
      "Fare_10bins           891 non-null float64\n",
      "Fare_bin_tao          891 non-null object\n",
      "Ticket_prefix_grp     891 non-null object\n",
      "connected_survived    891 non-null float64\n",
      "title                 891 non-null object\n",
      "title_cat             891 non-null object\n",
      "Cabin_isnull          891 non-null int32\n",
      "Age_fillna            891 non-null float64\n",
      "age_4bins             891 non-null int64\n",
      "age_5bins             891 non-null int64\n",
      "age_6bins             891 non-null int64\n",
      "age_bin               891 non-null category\n",
      "age_le16              891 non-null int64\n",
      "age_bin_tao           891 non-null object\n",
      "Embarked_fillna       891 non-null object\n",
      "dtypes: category(1), float64(9), int32(1), int64(8), object(13)\n",
      "memory usage: 260.2+ KB\n",
      "<class 'pandas.core.frame.DataFrame'>\n",
      "Int64Index: 418 entries, 0 to 417\n",
      "Data columns (total 32 columns):\n",
      "Age                   332 non-null float64\n",
      "Cabin                 91 non-null object\n",
      "Embarked              418 non-null object\n",
      "Fare                  417 non-null float64\n",
      "Fare_log              418 non-null float64\n",
      "Name                  418 non-null object\n",
      "Parch                 418 non-null int64\n",
      "Parch_bin             418 non-null object\n",
      "PassengerId           418 non-null int64\n",
      "Pclass                418 non-null int64\n",
      "Sex                   418 non-null object\n",
      "SibSp                 418 non-null int64\n",
      "SibSp_bin             418 non-null object\n",
      "Survived              0 non-null float64\n",
      "Ticket                418 non-null object\n",
      "Fare_4bins            417 non-null float64\n",
      "Fare_5bins            417 non-null float64\n",
      "Fare_10bins           417 non-null float64\n",
      "Fare_bin_tao          418 non-null object\n",
      "Ticket_prefix_grp     418 non-null object\n",
      "connected_survived    418 non-null float64\n",
      "title                 418 non-null object\n",
      "title_cat             418 non-null object\n",
      "Cabin_isnull          418 non-null int32\n",
      "Age_fillna            418 non-null float64\n",
      "age_4bins             418 non-null int64\n",
      "age_5bins             418 non-null int64\n",
      "age_6bins             418 non-null int64\n",
      "age_bin               418 non-null category\n",
      "age_le16              418 non-null int64\n",
      "age_bin_tao           418 non-null object\n",
      "Embarked_fillna       418 non-null object\n",
      "dtypes: category(1), float64(9), int32(1), int64(8), object(13)\n",
      "memory usage: 103.4+ KB\n"
     ]
    },
    {
     "data": {
      "text/plain": [
       "(None, None)"
      ]
     },
     "execution_count": 63,
     "metadata": {},
     "output_type": "execute_result"
    }
   ],
   "source": [
    "train.info(),test.info()"
   ]
  },
  {
   "cell_type": "markdown",
   "metadata": {},
   "source": [
    "# Feature Engineering, create family, etc."
   ]
  },
  {
   "cell_type": "code",
   "execution_count": 64,
   "metadata": {},
   "outputs": [
    {
     "name": "stdout",
     "output_type": "stream",
     "text": [
      "<class 'pandas.core.frame.DataFrame'>\n",
      "Int64Index: 891 entries, 0 to 890\n",
      "Data columns (total 33 columns):\n",
      "Age                   714 non-null float64\n",
      "Cabin                 204 non-null object\n",
      "Embarked              889 non-null object\n",
      "Fare                  891 non-null float64\n",
      "Fare_log              891 non-null float64\n",
      "Name                  891 non-null object\n",
      "Parch                 891 non-null int64\n",
      "Parch_bin             891 non-null object\n",
      "PassengerId           891 non-null int64\n",
      "Pclass                891 non-null int64\n",
      "Sex                   891 non-null object\n",
      "SibSp                 891 non-null int64\n",
      "SibSp_bin             891 non-null object\n",
      "Survived              891 non-null float64\n",
      "Ticket                891 non-null object\n",
      "Fare_4bins            891 non-null float64\n",
      "Fare_5bins            891 non-null float64\n",
      "Fare_10bins           891 non-null float64\n",
      "Fare_bin_tao          891 non-null object\n",
      "Ticket_prefix_grp     891 non-null object\n",
      "connected_survived    891 non-null float64\n",
      "title                 891 non-null object\n",
      "title_cat             891 non-null object\n",
      "Cabin_isnull          891 non-null int32\n",
      "Age_fillna            891 non-null float64\n",
      "age_4bins             891 non-null int64\n",
      "age_5bins             891 non-null int64\n",
      "age_6bins             891 non-null int64\n",
      "age_bin               891 non-null category\n",
      "age_le16              891 non-null int64\n",
      "age_bin_tao           891 non-null object\n",
      "Embarked_fillna       891 non-null object\n",
      "family                891 non-null int64\n",
      "dtypes: category(1), float64(9), int32(1), int64(9), object(13)\n",
      "memory usage: 267.2+ KB\n",
      "<class 'pandas.core.frame.DataFrame'>\n",
      "Int64Index: 418 entries, 0 to 417\n",
      "Data columns (total 33 columns):\n",
      "Age                   332 non-null float64\n",
      "Cabin                 91 non-null object\n",
      "Embarked              418 non-null object\n",
      "Fare                  417 non-null float64\n",
      "Fare_log              418 non-null float64\n",
      "Name                  418 non-null object\n",
      "Parch                 418 non-null int64\n",
      "Parch_bin             418 non-null object\n",
      "PassengerId           418 non-null int64\n",
      "Pclass                418 non-null int64\n",
      "Sex                   418 non-null object\n",
      "SibSp                 418 non-null int64\n",
      "SibSp_bin             418 non-null object\n",
      "Survived              0 non-null float64\n",
      "Ticket                418 non-null object\n",
      "Fare_4bins            417 non-null float64\n",
      "Fare_5bins            417 non-null float64\n",
      "Fare_10bins           417 non-null float64\n",
      "Fare_bin_tao          418 non-null object\n",
      "Ticket_prefix_grp     418 non-null object\n",
      "connected_survived    418 non-null float64\n",
      "title                 418 non-null object\n",
      "title_cat             418 non-null object\n",
      "Cabin_isnull          418 non-null int32\n",
      "Age_fillna            418 non-null float64\n",
      "age_4bins             418 non-null int64\n",
      "age_5bins             418 non-null int64\n",
      "age_6bins             418 non-null int64\n",
      "age_bin               418 non-null category\n",
      "age_le16              418 non-null int64\n",
      "age_bin_tao           418 non-null object\n",
      "Embarked_fillna       418 non-null object\n",
      "family                418 non-null int64\n",
      "dtypes: category(1), float64(9), int32(1), int64(9), object(13)\n",
      "memory usage: 106.6+ KB\n"
     ]
    },
    {
     "data": {
      "text/plain": [
       "(None, None)"
      ]
     },
     "execution_count": 64,
     "metadata": {},
     "output_type": "execute_result"
    },
    {
     "data": {
      "image/png": "[encoded data removed]",
      "text/plain": [
       "<Figure size 432x288 with 2 Axes>"
      ]
     },
     "metadata": {},
     "output_type": "display_data"
    }
   ],
   "source": [
    "# Family numbers\n",
    "def create_family(df):\n",
    "    df['family'] = df['SibSp'] + df['Parch'] + 1\n",
    "\n",
    "create_family(train)\n",
    "create_family(test)\n",
    "\n",
    "ax = plt.subplot(1,2,1)\n",
    "sns.pointplot(x='family',y='Survived',data=train)\n",
    "plt.title('train')\n",
    "plt.subplot(1,2,2)\n",
    "train['family'].value_counts().plot.bar()\n",
    "train.info(),test.info()"
   ]
  },
  {
   "cell_type": "code",
   "execution_count": 65,
   "metadata": {},
   "outputs": [
    {
     "data": {
      "text/plain": [
       "(1    537\n",
       " 3    193\n",
       " 2    161\n",
       " Name: family_bin, dtype: int64,\n",
       " <matplotlib.axes._subplots.AxesSubplot at 0x14a53c2aa90>)"
      ]
     },
     "execution_count": 65,
     "metadata": {},
     "output_type": "execute_result"
    },
    {
     "data": {
      "image/png": "[encoded data removed]",
      "text/plain": [
       "<Figure size 432x288 with 1 Axes>"
      ]
     },
     "metadata": {},
     "output_type": "display_data"
    }
   ],
   "source": [
    "def create_family_bin(row):\n",
    "    if row['family']>=3:\n",
    "        return 3\n",
    "    else: return row['family']\n",
    "    \n",
    "train['family_bin'] = train.apply(create_family_bin, axis=1)\n",
    "test['family_bin'] = test.apply(create_family_bin, axis=1)\n",
    "train['family_bin'].value_counts(), train.groupby(['family_bin'])['Survived'].mean().plot.bar()"
   ]
  },
  {
   "cell_type": "code",
   "execution_count": 66,
   "metadata": {},
   "outputs": [],
   "source": [
    "# isalone or not\n",
    "def create_isalone(df):\n",
    "    df['isalone'] = df.apply(lambda x: 1 if x['family'] == 1 else 0, axis=1)"
   ]
  },
  {
   "cell_type": "code",
   "execution_count": 67,
   "metadata": {},
   "outputs": [
    {
     "name": "stdout",
     "output_type": "stream",
     "text": [
      "<class 'pandas.core.frame.DataFrame'>\n",
      "Int64Index: 891 entries, 0 to 890\n",
      "Data columns (total 35 columns):\n",
      "Age                   714 non-null float64\n",
      "Cabin                 204 non-null object\n",
      "Embarked              889 non-null object\n",
      "Fare                  891 non-null float64\n",
      "Fare_log              891 non-null float64\n",
      "Name                  891 non-null object\n",
      "Parch                 891 non-null int64\n",
      "Parch_bin             891 non-null object\n",
      "PassengerId           891 non-null int64\n",
      "Pclass                891 non-null int64\n",
      "Sex                   891 non-null object\n",
      "SibSp                 891 non-null int64\n",
      "SibSp_bin             891 non-null object\n",
      "Survived              891 non-null float64\n",
      "Ticket                891 non-null object\n",
      "Fare_4bins            891 non-null float64\n",
      "Fare_5bins            891 non-null float64\n",
      "Fare_10bins           891 non-null float64\n",
      "Fare_bin_tao          891 non-null object\n",
      "Ticket_prefix_grp     891 non-null object\n",
      "connected_survived    891 non-null float64\n",
      "title                 891 non-null object\n",
      "title_cat             891 non-null object\n",
      "Cabin_isnull          891 non-null int32\n",
      "Age_fillna            891 non-null float64\n",
      "age_4bins             891 non-null int64\n",
      "age_5bins             891 non-null int64\n",
      "age_6bins             891 non-null int64\n",
      "age_bin               891 non-null category\n",
      "age_le16              891 non-null int64\n",
      "age_bin_tao           891 non-null object\n",
      "Embarked_fillna       891 non-null object\n",
      "family                891 non-null int64\n",
      "family_bin            891 non-null int64\n",
      "isalone               891 non-null int64\n",
      "dtypes: category(1), float64(9), int32(1), int64(11), object(13)\n",
      "memory usage: 281.1+ KB\n",
      "<class 'pandas.core.frame.DataFrame'>\n",
      "Int64Index: 418 entries, 0 to 417\n",
      "Data columns (total 35 columns):\n",
      "Age                   332 non-null float64\n",
      "Cabin                 91 non-null object\n",
      "Embarked              418 non-null object\n",
      "Fare                  417 non-null float64\n",
      "Fare_log              418 non-null float64\n",
      "Name                  418 non-null object\n",
      "Parch                 418 non-null int64\n",
      "Parch_bin             418 non-null object\n",
      "PassengerId           418 non-null int64\n",
      "Pclass                418 non-null int64\n",
      "Sex                   418 non-null object\n",
      "SibSp                 418 non-null int64\n",
      "SibSp_bin             418 non-null object\n",
      "Survived              0 non-null float64\n",
      "Ticket                418 non-null object\n",
      "Fare_4bins            417 non-null float64\n",
      "Fare_5bins            417 non-null float64\n",
      "Fare_10bins           417 non-null float64\n",
      "Fare_bin_tao          418 non-null object\n",
      "Ticket_prefix_grp     418 non-null object\n",
      "connected_survived    418 non-null float64\n",
      "title                 418 non-null object\n",
      "title_cat             418 non-null object\n",
      "Cabin_isnull          418 non-null int32\n",
      "Age_fillna            418 non-null float64\n",
      "age_4bins             418 non-null int64\n",
      "age_5bins             418 non-null int64\n",
      "age_6bins             418 non-null int64\n",
      "age_bin               418 non-null category\n",
      "age_le16              418 non-null int64\n",
      "age_bin_tao           418 non-null object\n",
      "Embarked_fillna       418 non-null object\n",
      "family                418 non-null int64\n",
      "family_bin            418 non-null int64\n",
      "isalone               418 non-null int64\n",
      "dtypes: category(1), float64(9), int32(1), int64(11), object(13)\n",
      "memory usage: 113.2+ KB\n"
     ]
    },
    {
     "data": {
      "text/plain": [
       "(None, None)"
      ]
     },
     "execution_count": 67,
     "metadata": {},
     "output_type": "execute_result"
    }
   ],
   "source": [
    "create_isalone(train)\n",
    "create_isalone(test)\n",
    "train.info(),test.info()"
   ]
  },
  {
   "cell_type": "code",
   "execution_count": 68,
   "metadata": {},
   "outputs": [
    {
     "data": {
      "text/plain": [
       "<matplotlib.axes._subplots.AxesSubplot at 0x14a53cd0518>"
      ]
     },
     "execution_count": 68,
     "metadata": {},
     "output_type": "execute_result"
    },
    {
     "data": {
      "image/png": "[encoded data removed]",
      "text/plain": [
       "<Figure size 432x288 with 1 Axes>"
      ]
     },
     "metadata": {},
     "output_type": "display_data"
    }
   ],
   "source": [
    "sns.pointplot(x='isalone',y='Survived',data=train)"
   ]
  },
  {
   "cell_type": "code",
   "execution_count": 69,
   "metadata": {},
   "outputs": [
    {
     "data": {
      "text/plain": [
       "<seaborn.axisgrid.FacetGrid at 0x14a53755160>"
      ]
     },
     "execution_count": 69,
     "metadata": {},
     "output_type": "execute_result"
    },
    {
     "data": {
      "image/png": "[encoded data removed]",
      "text/plain": [
       "<Figure size 358.5x288 with 1 Axes>"
      ]
     },
     "metadata": {},
     "output_type": "display_data"
    }
   ],
   "source": [
    "sns.factorplot(x='isalone',y='Survived',hue='Sex',data=train)"
   ]
  },
  {
   "cell_type": "code",
   "execution_count": 70,
   "metadata": {},
   "outputs": [
    {
     "data": {
      "text/plain": [
       "<seaborn.axisgrid.FacetGrid at 0x14a53efb320>"
      ]
     },
     "execution_count": 70,
     "metadata": {},
     "output_type": "execute_result"
    },
    {
     "data": {
      "image/png": "[encoded data removed]",
      "text/plain": [
       "<Figure size 331.625x288 with 1 Axes>"
      ]
     },
     "metadata": {},
     "output_type": "display_data"
    }
   ],
   "source": [
    "sns.factorplot(x='Pclass',y='Survived',data=train,hue='isalone')"
   ]
  },
  {
   "cell_type": "code",
   "execution_count": 71,
   "metadata": {},
   "outputs": [
    {
     "name": "stdout",
     "output_type": "stream",
     "text": [
      "<class 'pandas.core.frame.DataFrame'>\n",
      "Int64Index: 891 entries, 0 to 890\n",
      "Data columns (total 36 columns):\n",
      "Age                   714 non-null float64\n",
      "Cabin                 204 non-null object\n",
      "Embarked              889 non-null object\n",
      "Fare                  891 non-null float64\n",
      "Fare_log              891 non-null float64\n",
      "Name                  891 non-null object\n",
      "Parch                 891 non-null int64\n",
      "Parch_bin             891 non-null object\n",
      "PassengerId           891 non-null int64\n",
      "Pclass                891 non-null int64\n",
      "Sex                   891 non-null object\n",
      "SibSp                 891 non-null int64\n",
      "SibSp_bin             891 non-null object\n",
      "Survived              891 non-null float64\n",
      "Ticket                891 non-null object\n",
      "Fare_4bins            891 non-null float64\n",
      "Fare_5bins            891 non-null float64\n",
      "Fare_10bins           891 non-null float64\n",
      "Fare_bin_tao          891 non-null object\n",
      "Ticket_prefix_grp     891 non-null object\n",
      "connected_survived    891 non-null float64\n",
      "title                 891 non-null object\n",
      "title_cat             891 non-null object\n",
      "Cabin_isnull          891 non-null int32\n",
      "Age_fillna            891 non-null float64\n",
      "age_4bins             891 non-null int64\n",
      "age_5bins             891 non-null int64\n",
      "age_6bins             891 non-null int64\n",
      "age_bin               891 non-null category\n",
      "age_le16              891 non-null int64\n",
      "age_bin_tao           891 non-null object\n",
      "Embarked_fillna       891 non-null object\n",
      "family                891 non-null int64\n",
      "family_bin            891 non-null int64\n",
      "isalone               891 non-null int64\n",
      "Pclass_isalone        891 non-null int64\n",
      "dtypes: category(1), float64(9), int32(1), int64(12), object(13)\n",
      "memory usage: 288.1+ KB\n",
      "<class 'pandas.core.frame.DataFrame'>\n",
      "Int64Index: 418 entries, 0 to 417\n",
      "Data columns (total 36 columns):\n",
      "Age                   332 non-null float64\n",
      "Cabin                 91 non-null object\n",
      "Embarked              418 non-null object\n",
      "Fare                  417 non-null float64\n",
      "Fare_log              418 non-null float64\n",
      "Name                  418 non-null object\n",
      "Parch                 418 non-null int64\n",
      "Parch_bin             418 non-null object\n",
      "PassengerId           418 non-null int64\n",
      "Pclass                418 non-null int64\n",
      "Sex                   418 non-null object\n",
      "SibSp                 418 non-null int64\n",
      "SibSp_bin             418 non-null object\n",
      "Survived              0 non-null float64\n",
      "Ticket                418 non-null object\n",
      "Fare_4bins            417 non-null float64\n",
      "Fare_5bins            417 non-null float64\n",
      "Fare_10bins           417 non-null float64\n",
      "Fare_bin_tao          418 non-null object\n",
      "Ticket_prefix_grp     418 non-null object\n",
      "connected_survived    418 non-null float64\n",
      "title                 418 non-null object\n",
      "title_cat             418 non-null object\n",
      "Cabin_isnull          418 non-null int32\n",
      "Age_fillna            418 non-null float64\n",
      "age_4bins             418 non-null int64\n",
      "age_5bins             418 non-null int64\n",
      "age_6bins             418 non-null int64\n",
      "age_bin               418 non-null category\n",
      "age_le16              418 non-null int64\n",
      "age_bin_tao           418 non-null object\n",
      "Embarked_fillna       418 non-null object\n",
      "family                418 non-null int64\n",
      "family_bin            418 non-null int64\n",
      "isalone               418 non-null int64\n",
      "Pclass_isalone        418 non-null int64\n",
      "dtypes: category(1), float64(9), int32(1), int64(12), object(13)\n",
      "memory usage: 116.4+ KB\n"
     ]
    },
    {
     "data": {
      "text/plain": [
       "(None, None)"
      ]
     },
     "execution_count": 71,
     "metadata": {},
     "output_type": "execute_result"
    }
   ],
   "source": [
    "def create_pclass_isalone(df):\n",
    "    df['Pclass_isalone'] = df.apply(lambda x: x['Pclass']*10+x['isalone'],axis=1)\n",
    "\n",
    "create_pclass_isalone(train)\n",
    "\n",
    "create_pclass_isalone(test)\n",
    "train.info(),test.info()"
   ]
  },
  {
   "cell_type": "markdown",
   "metadata": {},
   "source": [
    "# Check whether columns are same between train and test (except for Survived)"
   ]
  },
  {
   "cell_type": "code",
   "execution_count": 72,
   "metadata": {},
   "outputs": [
    {
     "name": "stdout",
     "output_type": "stream",
     "text": [
      "['Age', 'Cabin', 'Embarked', 'Fare', 'Fare_log', 'Name', 'Parch', 'Parch_bin', 'PassengerId', 'Pclass', 'Sex', 'SibSp', 'SibSp_bin', 'Survived', 'Ticket', 'Fare_4bins', 'Fare_5bins', 'Fare_10bins', 'Fare_bin_tao', 'Ticket_prefix_grp', 'connected_survived', 'title', 'title_cat', 'Cabin_isnull', 'Age_fillna', 'age_4bins', 'age_5bins', 'age_6bins', 'age_bin', 'age_le16', 'age_bin_tao', 'Embarked_fillna', 'family', 'family_bin', 'isalone', 'Pclass_isalone']\n",
      "['Age', 'Cabin', 'Embarked', 'Fare', 'Fare_log', 'Name', 'Parch', 'Parch_bin', 'PassengerId', 'Pclass', 'Sex', 'SibSp', 'SibSp_bin', 'Survived', 'Ticket', 'Fare_4bins', 'Fare_5bins', 'Fare_10bins', 'Fare_bin_tao', 'Ticket_prefix_grp', 'connected_survived', 'title', 'title_cat', 'Cabin_isnull', 'Age_fillna', 'age_4bins', 'age_5bins', 'age_6bins', 'age_bin', 'age_le16', 'age_bin_tao', 'Embarked_fillna', 'family', 'family_bin', 'isalone', 'Pclass_isalone']\n"
     ]
    }
   ],
   "source": [
    "v1 = list(train.columns.values)\n",
    "v2 = list(test.columns.values) \n",
    "print(v1)\n",
    "print(v2)"
   ]
  },
  {
   "cell_type": "code",
   "execution_count": 73,
   "metadata": {},
   "outputs": [
    {
     "name": "stdout",
     "output_type": "stream",
     "text": [
      "['Age', 'Age_fillna', 'Cabin', 'Cabin_isnull', 'Embarked', 'Embarked_fillna', 'Fare', 'Fare_10bins', 'Fare_4bins', 'Fare_5bins', 'Fare_bin_tao', 'Fare_log', 'Name', 'Parch', 'Parch_bin', 'PassengerId', 'Pclass', 'Pclass_isalone', 'Sex', 'SibSp', 'SibSp_bin', 'Survived', 'Ticket', 'Ticket_prefix_grp', 'age_4bins', 'age_5bins', 'age_6bins', 'age_bin', 'age_bin_tao', 'age_le16', 'connected_survived', 'family', 'family_bin', 'isalone', 'title', 'title_cat']\n",
      "['Age', 'Age_fillna', 'Cabin', 'Cabin_isnull', 'Embarked', 'Embarked_fillna', 'Fare', 'Fare_10bins', 'Fare_4bins', 'Fare_5bins', 'Fare_bin_tao', 'Fare_log', 'Name', 'Parch', 'Parch_bin', 'PassengerId', 'Pclass', 'Pclass_isalone', 'Sex', 'SibSp', 'SibSp_bin', 'Survived', 'Ticket', 'Ticket_prefix_grp', 'age_4bins', 'age_5bins', 'age_6bins', 'age_bin', 'age_bin_tao', 'age_le16', 'connected_survived', 'family', 'family_bin', 'isalone', 'title', 'title_cat']\n"
     ]
    }
   ],
   "source": [
    "v1.sort()\n",
    "v2.sort()\n",
    "print(v1)\n",
    "print(v2)"
   ]
  },
  {
   "cell_type": "code",
   "execution_count": 74,
   "metadata": {},
   "outputs": [],
   "source": [
    "# Xlist = ['age_4bins','Cabin_fillna',\n",
    "#          'Embarked_fillna','Fare_4bins','Parch','Pclass','Sex','SibSp','Ticket_prefix_grp',\n",
    "#         'connected_survived','title_cat','isalone','Pclass_isalone']"
   ]
  },
  {
   "cell_type": "code",
   "execution_count": 75,
   "metadata": {},
   "outputs": [],
   "source": [
    "\n",
    "# Xlist = ['Pclass_isalone', 'isalone','Cabin_fillna','Age_fillna','age_bin','Embarked_fillna','Fare','Parch','Pclass','Sex','SibSp','family','title_cat']\n",
    "\n",
    "# print(Xlist)\n",
    "# print(len(Xlist))\n",
    "# print(train[Xlist].info())"
   ]
  },
  {
   "cell_type": "markdown",
   "metadata": {},
   "source": [
    "# Convert Object into Integers"
   ]
  },
  {
   "cell_type": "code",
   "execution_count": 76,
   "metadata": {},
   "outputs": [
    {
     "data": {
      "text/plain": [
       "male      577\n",
       "female    314\n",
       "Name: Sex, dtype: int64"
      ]
     },
     "execution_count": 76,
     "metadata": {},
     "output_type": "execute_result"
    }
   ],
   "source": [
    "train['Sex'].value_counts()"
   ]
  },
  {
   "cell_type": "code",
   "execution_count": 77,
   "metadata": {},
   "outputs": [
    {
     "data": {
      "text/plain": [
       "S    646\n",
       "C    168\n",
       "Q     77\n",
       "Name: Embarked_fillna, dtype: int64"
      ]
     },
     "execution_count": 77,
     "metadata": {},
     "output_type": "execute_result"
    }
   ],
   "source": [
    "train['Embarked_fillna'].value_counts()"
   ]
  },
  {
   "cell_type": "code",
   "execution_count": 78,
   "metadata": {},
   "outputs": [
    {
     "data": {
      "text/plain": [
       "3        301\n",
       "Other    201\n",
       "2        183\n",
       "1        146\n",
       "PC        60\n",
       "Name: Ticket_prefix_grp, dtype: int64"
      ]
     },
     "execution_count": 78,
     "metadata": {},
     "output_type": "execute_result"
    }
   ],
   "source": [
    "train['Ticket_prefix_grp'].value_counts()"
   ]
  },
  {
   "cell_type": "code",
   "execution_count": 79,
   "metadata": {},
   "outputs": [
    {
     "data": {
      "text/plain": [
       "Mr       517\n",
       "Miss     182\n",
       "Mrs      125\n",
       "Other     67\n",
       "Name: title_cat, dtype: int64"
      ]
     },
     "execution_count": 79,
     "metadata": {},
     "output_type": "execute_result"
    }
   ],
   "source": [
    "train['title_cat'].value_counts()"
   ]
  },
  {
   "cell_type": "code",
   "execution_count": 80,
   "metadata": {},
   "outputs": [],
   "source": [
    "# train_copy = train.copy()\n",
    "# train['Sex'] = train['Sex'].map({'male':0,'female':1})\n",
    "# train['Embarked_fillna'] = train['Embarked_fillna'].map({'S':0,'C':1,'Q': 2})\n",
    "# train['Ticket_prefix_grp'] = train['Ticket_prefix_grp'].map({'Other':0,'1':1,'2':2,'3':3,'PC':4})\n",
    "# train['title_cat'] = train['title_cat'].map({'Mr':0,'Miss':1,'Mrs':2,'Other':3})\n",
    "\n",
    "\n"
   ]
  },
  {
   "cell_type": "code",
   "execution_count": 81,
   "metadata": {},
   "outputs": [
    {
     "data": {
      "text/plain": [
       "male      577\n",
       "female    314\n",
       "Name: Sex, dtype: int64"
      ]
     },
     "execution_count": 81,
     "metadata": {},
     "output_type": "execute_result"
    }
   ],
   "source": [
    "train.Sex.value_counts()"
   ]
  },
  {
   "cell_type": "code",
   "execution_count": 83,
   "metadata": {},
   "outputs": [
    {
     "name": "stdout",
     "output_type": "stream",
     "text": [
      "<class 'pandas.core.frame.DataFrame'>\n",
      "Int64Index: 891 entries, 0 to 890\n",
      "Data columns (total 36 columns):\n",
      "Age                   714 non-null float64\n",
      "Cabin                 204 non-null object\n",
      "Embarked              889 non-null object\n",
      "Fare                  891 non-null float64\n",
      "Fare_log              891 non-null float64\n",
      "Name                  891 non-null object\n",
      "Parch                 891 non-null int64\n",
      "Parch_bin             891 non-null object\n",
      "PassengerId           891 non-null int64\n",
      "Pclass                891 non-null int64\n",
      "Sex                   891 non-null object\n",
      "SibSp                 891 non-null int64\n",
      "SibSp_bin             891 non-null object\n",
      "Survived              891 non-null float64\n",
      "Ticket                891 non-null object\n",
      "Fare_4bins            891 non-null float64\n",
      "Fare_5bins            891 non-null float64\n",
      "Fare_10bins           891 non-null float64\n",
      "Fare_bin_tao          891 non-null object\n",
      "Ticket_prefix_grp     891 non-null object\n",
      "connected_survived    891 non-null float64\n",
      "title                 891 non-null object\n",
      "title_cat             891 non-null object\n",
      "Cabin_isnull          891 non-null int32\n",
      "Age_fillna            891 non-null float64\n",
      "age_4bins             891 non-null int64\n",
      "age_5bins             891 non-null int64\n",
      "age_6bins             891 non-null int64\n",
      "age_bin               891 non-null category\n",
      "age_le16              891 non-null int64\n",
      "age_bin_tao           891 non-null object\n",
      "Embarked_fillna       891 non-null object\n",
      "family                891 non-null int64\n",
      "family_bin            891 non-null int64\n",
      "isalone               891 non-null int64\n",
      "Pclass_isalone        891 non-null int64\n",
      "dtypes: category(1), float64(9), int32(1), int64(12), object(13)\n",
      "memory usage: 288.1+ KB\n"
     ]
    }
   ],
   "source": [
    "train.info()"
   ]
  },
  {
   "cell_type": "markdown",
   "metadata": {},
   "source": [
    "# Feature Selection -- Very Important!"
   ]
  },
  {
   "cell_type": "code",
   "execution_count": 101,
   "metadata": {},
   "outputs": [
    {
     "name": "stdout",
     "output_type": "stream",
     "text": [
      "Age_bins don't exist in the dataframe\n",
      "\n",
      "Columns are :\n",
      "\n",
      "Index(['Pclass', 'connected_survived', 'Cabin_isnull', 'family_bin',\n",
      "       'Sex_female', 'Sex_male', 'SibSp_bin_0', 'SibSp_bin_1+', 'Parch_bin_0',\n",
      "       'Parch_bin_1', 'Parch_bin_2', 'age_bin_tao_10', 'age_bin_tao_20',\n",
      "       'age_bin_tao_25', 'age_bin_tao_30', 'age_bin_tao_40', 'age_bin_tao_50',\n",
      "       'age_bin_tao_50+', 'age_bin_tao_nan', 'Fare_bin_tao_10',\n",
      "       'Fare_bin_tao_20', 'Fare_bin_tao_30', 'Fare_bin_tao_30+',\n",
      "       'title_cat_Miss', 'title_cat_Mr', 'title_cat_Mrs', 'title_cat_Other'],\n",
      "      dtype='object')\n",
      "Age_bins don't exist in the dataframe\n",
      "\n",
      "Columns are :\n",
      "\n",
      "Index(['Pclass', 'connected_survived', 'Cabin_isnull', 'family_bin',\n",
      "       'Sex_female', 'Sex_male', 'SibSp_bin_0', 'SibSp_bin_1+', 'Parch_bin_0',\n",
      "       'Parch_bin_1', 'Parch_bin_2', 'age_bin_tao_10', 'age_bin_tao_20',\n",
      "       'age_bin_tao_25', 'age_bin_tao_30', 'age_bin_tao_40', 'age_bin_tao_50',\n",
      "       'age_bin_tao_50+', 'age_bin_tao_nan', 'Fare_bin_tao_10',\n",
      "       'Fare_bin_tao_20', 'Fare_bin_tao_30', 'Fare_bin_tao_30+',\n",
      "       'title_cat_Miss', 'title_cat_Mr', 'title_cat_Mrs', 'title_cat_Other'],\n",
      "      dtype='object')\n"
     ]
    }
   ],
   "source": [
    "features = ['Pclass','Sex','SibSp_bin','Parch_bin','age_bin_tao','Fare_bin_tao', \n",
    "            'connected_survived','title_cat','Cabin_isnull','family_bin']\n",
    "# create dummy variables\n",
    "train_dummy = pd.get_dummies(train[features])\n",
    "train_y = train['Survived']\n",
    "\n",
    "test_dummy = pd.get_dummies(test[features])\n",
    "\n",
    "def rename_age_bin(df):\n",
    "    if 'age_bin_(0, 16]' in df.columns:\n",
    "        mapper={'age_bin_(0, 16]': 'Age_bin_0_16',\n",
    "                'age_bin_(16, 25]': 'Age_bin_16_25',\n",
    "                'age_bin_(25, 30]': 'Age_bin_25_30',\n",
    "                'age_bin_(30, 45]': 'Age_bin_30_45',\n",
    "                'age_bin_(45, 80]': 'Age_bin_45_80'}\n",
    "        df.rename(mapper,axis='columns',inplace=True)\n",
    "        \n",
    "    else:\n",
    "        print(\"Age_bins don't exist in the dataframe\\n\")\n",
    "    \n",
    "    print(\"Columns are :\\n\")\n",
    "    print(df.columns)\n",
    "\n",
    "rename_age_bin(train_dummy)\n",
    "rename_age_bin(test_dummy)\n"
   ]
  },
  {
   "cell_type": "code",
   "execution_count": 103,
   "metadata": {},
   "outputs": [
    {
     "data": {
      "text/plain": [
       "((891, 27), (891,))"
      ]
     },
     "execution_count": 103,
     "metadata": {},
     "output_type": "execute_result"
    }
   ],
   "source": [
    "train_dummy.isnull().sum().sum()\n",
    "train_dummy.shape,train_y.shape"
   ]
  },
  {
   "cell_type": "markdown",
   "metadata": {},
   "source": [
    "# Models\n",
    "# Split data into train and test, apply several models to the train data and compare the accuracy_score on the test data across all the models"
   ]
  },
  {
   "cell_type": "code",
   "execution_count": 104,
   "metadata": {},
   "outputs": [
    {
     "name": "stdout",
     "output_type": "stream",
     "text": [
      "[0.88550725 0.85625823 0.8894385  0.86564171 0.9051538 ]\n",
      "0.8803998998881564\n"
     ]
    }
   ],
   "source": [
    "# This is working. Rewirte\n",
    "\n",
    "y = np.ravel(train_y)\n",
    "X_train, X_test, y_train, y_test = train_test_split(train_dummy,train_y, \n",
    "                                                    test_size=0.1, random_state=0)\n",
    "logreg = LogisticRegression()\n",
    "# Use RFECV to pick best features, using Stratified Kfold\n",
    "rfecv = RFECV(estimator=logreg, cv=StratifiedKFold(y, 5), scoring='roc_auc')\n",
    "# Fit the features to the response variable\n",
    "rfecv.fit(train_dummy, train_y)\n",
    "\n",
    "X_red = rfecv.transform(train_dummy)\n",
    "# Put the best features into new df X_new\n",
    "X_red_train = rfecv.transform(X_train)\n",
    "X_red_test = rfecv.transform(X_test)\n",
    "\n",
    "r_train = model_selection.cross_val_score(logreg, X_red, y, cv=StratifiedKFold(y, 5), scoring='roc_auc')\n",
    "print(r_train)\n",
    "print(np.mean(r_train))\n"
   ]
  },
  {
   "cell_type": "code",
   "execution_count": 105,
   "metadata": {},
   "outputs": [
    {
     "name": "stdout",
     "output_type": "stream",
     "text": [
      "[[-0.49343862  2.56951084 -0.68944748  0.08846008  0.9953601  -1.01425199\n",
      "   0.34327848 -0.36217037  0.54035629 -0.00810557 -0.55114261  1.22225343\n",
      "   0.32910856 -0.13544997  0.13536556  0.10484038 -0.68062762 -0.96561317\n",
      "  -0.02876907 -0.27897609 -0.15061968  0.17957889  0.23112498 -0.22659001\n",
      "  -1.08681548  0.86209894  0.43241465]]\n",
      "[-0.01889189]\n"
     ]
    }
   ],
   "source": [
    "clf = LogisticRegression()\n",
    "clf.fit(train_dummy,train_y)\n",
    "print(clf.coef_)\n",
    "print(clf.intercept_)\n"
   ]
  },
  {
   "cell_type": "markdown",
   "metadata": {},
   "source": [
    "# NOTE: roc_auc_score(y_test,y_pred_prob) Provide probability into this function !!!"
   ]
  },
  {
   "cell_type": "code",
   "execution_count": 106,
   "metadata": {},
   "outputs": [
    {
     "name": "stdout",
     "output_type": "stream",
     "text": [
      "LogisticRegression \n",
      "\n",
      "------- n_features is:  22\n",
      "------- good features are: \n",
      " ['Pclass' 'connected_survived' 'Cabin_isnull' 'Sex_female' 'Sex_male'\n",
      " 'SibSp_bin_0' 'SibSp_bin_1+' 'Parch_bin_0' 'Parch_bin_2' 'age_bin_tao_10'\n",
      " 'age_bin_tao_20' 'age_bin_tao_30' 'age_bin_tao_40' 'age_bin_tao_50'\n",
      " 'age_bin_tao_50+' 'Fare_bin_tao_10' 'Fare_bin_tao_30' 'Fare_bin_tao_30+'\n",
      " 'title_cat_Miss' 'title_cat_Mr' 'title_cat_Mrs' 'title_cat_Other']\n",
      "------- mean cv score is:  0.8803998998881564\n",
      "*-*-*-*-*-*-*-*-*-*-*-*-*-*-*-*-*-*-*-*-\n",
      "DecisionTreeClassifier \n",
      "\n",
      "------- n_features is:  6\n",
      "------- good features are: \n",
      " ['Pclass' 'connected_survived' 'Cabin_isnull' 'age_bin_tao_40'\n",
      " 'Fare_bin_tao_10' 'title_cat_Mr']\n",
      "------- mean cv score is:  0.8674657092049569\n",
      "*-*-*-*-*-*-*-*-*-*-*-*-*-*-*-*-*-*-*-*-\n",
      "RandomForestClassifier \n",
      "\n",
      "------- n_features is:  14\n",
      "------- good features are: \n",
      " ['Pclass' 'connected_survived' 'Cabin_isnull' 'family_bin' 'Sex_female'\n",
      " 'Sex_male' 'Parch_bin_0' 'age_bin_tao_25' 'age_bin_tao_30'\n",
      " 'age_bin_tao_40' 'Fare_bin_tao_10' 'Fare_bin_tao_30+' 'title_cat_Miss'\n",
      " 'title_cat_Mr']\n",
      "------- mean cv score is:  0.8858633384455787\n",
      "*-*-*-*-*-*-*-*-*-*-*-*-*-*-*-*-*-*-*-*-\n",
      "AdaBoostClassifier \n",
      "\n",
      "------- n_features is:  22\n",
      "------- good features are: \n",
      " ['Pclass' 'connected_survived' 'Cabin_isnull' 'family_bin' 'Sex_female'\n",
      " 'SibSp_bin_1+' 'Parch_bin_0' 'Parch_bin_2' 'age_bin_tao_10'\n",
      " 'age_bin_tao_20' 'age_bin_tao_30' 'age_bin_tao_40' 'age_bin_tao_50'\n",
      " 'age_bin_tao_50+' 'age_bin_tao_nan' 'Fare_bin_tao_10' 'Fare_bin_tao_20'\n",
      " 'Fare_bin_tao_30+' 'title_cat_Miss' 'title_cat_Mr' 'title_cat_Mrs'\n",
      " 'title_cat_Other']\n",
      "------- mean cv score is:  0.8769154886816024\n",
      "*-*-*-*-*-*-*-*-*-*-*-*-*-*-*-*-*-*-*-*-\n",
      "GradientBoostingClassifier \n",
      "\n",
      "------- n_features is:  7\n",
      "------- good features are: \n",
      " ['Pclass' 'connected_survived' 'family_bin' 'Sex_female' 'Sex_male'\n",
      " 'Fare_bin_tao_30+' 'title_cat_Mr']\n",
      "------- mean cv score is:  0.884558416469536\n",
      "*-*-*-*-*-*-*-*-*-*-*-*-*-*-*-*-*-*-*-*-\n",
      "XGBClassifier \n",
      "\n",
      "------- n_features is:  16\n",
      "------- good features are: \n",
      " ['Pclass' 'connected_survived' 'Cabin_isnull' 'family_bin' 'Sex_female'\n",
      " 'Parch_bin_0' 'Parch_bin_2' 'age_bin_tao_10' 'age_bin_tao_20'\n",
      " 'age_bin_tao_30' 'age_bin_tao_40' 'age_bin_tao_50' 'Fare_bin_tao_30'\n",
      " 'Fare_bin_tao_30+' 'title_cat_Mrs' 'title_cat_Other']\n",
      "------- mean cv score is:  0.8721894790842326\n",
      "*-*-*-*-*-*-*-*-*-*-*-*-*-*-*-*-*-*-*-*-\n"
     ]
    }
   ],
   "source": [
    "models = [\n",
    "            LogisticRegression(),\n",
    "            DecisionTreeClassifier(max_depth=10),\n",
    "            RandomForestClassifier(n_estimators=100),\n",
    "            AdaBoostClassifier(DecisionTreeClassifier(max_depth=1),\n",
    "                         algorithm=\"SAMME\",\n",
    "                         n_estimators=100),\n",
    "            GradientBoostingClassifier(n_estimators=100,learning_rate=0.1,subsample=1),\n",
    "            xgb.XGBClassifier(n_estimators=500)\n",
    "            ]\n",
    "\n",
    "\n",
    "y = np.ravel(train_y)\n",
    "X_train, X_test, y_train, y_test = train_test_split(train_dummy,train_y, \n",
    "                                                        test_size=0.2, random_state=0)\n",
    "\n",
    "cv_score_list = []\n",
    "test_score_list = []\n",
    "good_feature_list = []\n",
    "for model in models:\n",
    "    print(str(model).split('(')[0],\"\\n\")\n",
    "    rfecv = RFECV(estimator=model, cv=StratifiedKFold(y, 5), scoring='roc_auc')\n",
    "    rfecv.fit(train_dummy, train_y)\n",
    "    \n",
    "    features= np.array(train_dummy.columns)\n",
    "    index = list(rfecv.support_==True)\n",
    "    good_feature_list.append(features[index])\n",
    "#     print(\"support:\\n\", rfecv.support_)\n",
    "    print(\"------- n_features is: \", rfecv.n_features_)\n",
    "#     print(\"shape of training data and support_: \\n\", train_dummy.shape, len(rfecv.support_))\n",
    "#     print(\"all features are: \\n\", features)\n",
    "    print(\"------- good features are: \\n\", features[index])\n",
    "    \n",
    "    # Use rfecv.transform to create X_reduced\n",
    "#     X_reduced = rfecv.transform(train_dummy)\n",
    "#     X_reduced_train = rfecv.transform(X_train)\n",
    "#     X_reduced_test = rfecv.transform(X_test)\n",
    "    \n",
    "    X_reduced = train_dummy[features[index]]\n",
    "    \n",
    "    cv_score = model_selection.cross_val_score(model, X_reduced, y, cv=StratifiedKFold(y, 5), scoring='roc_auc')\n",
    "    cv_score_list.append(cv_score)\n",
    "    print(\"------- mean cv score is: \", np.mean(cv_score))\n",
    "    print(\"*-\"*20)"
   ]
  },
  {
   "cell_type": "code",
   "execution_count": 109,
   "metadata": {},
   "outputs": [
    {
     "name": "stdout",
     "output_type": "stream",
     "text": [
      "['Pclass' 'connected_survived' 'family_bin' 'Sex_female' 'Sex_male'\n",
      " 'Fare_bin_tao_30+' 'title_cat_Mr']\n"
     ]
    }
   ],
   "source": [
    "print(good_feature_list[-2])"
   ]
  },
  {
   "cell_type": "markdown",
   "metadata": {},
   "source": [
    "# Models\n",
    "# Try the learning curve plots\n",
    "#### LogisticRegression http://scikit-learn.org/stable/modules/generated/sklearn.linear_model.LogisticRegression.html\n",
    "#### DecisionTreeClassifier http://scikit-learn.org/stable/modules/generated/sklearn.tree.DecisionTreeClassifier.html"
   ]
  },
  {
   "cell_type": "code",
   "execution_count": 92,
   "metadata": {},
   "outputs": [],
   "source": [
    "def plot_learning_curve(estimator, title, X, y, ylim=None, cv=None,\n",
    "                        n_jobs=None, train_sizes=np.linspace(.1, 1.0, 5)):\n",
    "    plt.figure()\n",
    "    plt.title(title)\n",
    "    if ylim is not None:\n",
    "        plt.ylim(*ylim)\n",
    "    \n",
    "    plt.xlabel(\"Training examples\")\n",
    "    plt.ylabel(\"Score\")\n",
    "    train_sizes, train_scores, test_scores = learning_curve(\n",
    "    estimator, X, y, cv=cv, n_jobs=n_jobs, train_sizes=train_sizes,scoring='roc_auc' )\n",
    "    train_scores_mean = np.mean(train_scores, axis=1)\n",
    "    train_scores_std = np.std(train_scores, axis=1)\n",
    "    test_scores_mean = np.mean(test_scores, axis=1)\n",
    "    test_scores_std = np.std(test_scores, axis=1)\n",
    "    plt.grid()\n",
    "\n",
    "    plt.fill_between(train_sizes, train_scores_mean - train_scores_std,\n",
    "                 train_scores_mean + train_scores_std, alpha=0.1,\n",
    "                 color=\"r\")\n",
    "    plt.fill_between(train_sizes, test_scores_mean - test_scores_std,\n",
    "                 test_scores_mean + test_scores_std, alpha=0.1, color=\"g\")\n",
    "    plt.plot(train_sizes, train_scores_mean, 'o-', color=\"r\",\n",
    "         label=\"Training score\")\n",
    "    plt.plot(train_sizes, test_scores_mean, 'o-', color=\"g\",\n",
    "         label=\"Cross-validation score\")\n",
    "\n",
    "    plt.legend(loc=\"best\")\n",
    "#     print(train_sizes)\n",
    "#     print(\"*-\"*20)\n",
    "    print(\"test_scores_mean is: \", test_scores_mean[-1])\n",
    "    return plt"
   ]
  },
  {
   "cell_type": "code",
   "execution_count": 108,
   "metadata": {},
   "outputs": [
    {
     "name": "stdout",
     "output_type": "stream",
     "text": [
      "LogisticRegression(C=1.0, class_weight=None, dual=False, fit_intercept=True,\n",
      "          intercept_scaling=1, max_iter=100, multi_class='ovr', n_jobs=1,\n",
      "          penalty='l2', random_state=None, solver='liblinear', tol=0.0001,\n",
      "          verbose=0, warm_start=False)\n",
      "test_scores_mean is:  0.8811844416990091\n",
      "DecisionTreeClassifier(class_weight=None, criterion='gini', max_depth=10,\n",
      "            max_features=None, max_leaf_nodes=None,\n",
      "            min_impurity_decrease=0.0, min_impurity_split=None,\n",
      "            min_samples_leaf=1, min_samples_split=2,\n",
      "            min_weight_fraction_leaf=0.0, presort=False, random_state=None,\n",
      "            splitter='best')\n",
      "test_scores_mean is:  0.8559248785181286\n",
      "RandomForestClassifier(bootstrap=True, class_weight=None, criterion='gini',\n",
      "            max_depth=None, max_features='auto', max_leaf_nodes=None,\n",
      "            min_impurity_decrease=0.0, min_impurity_split=None,\n",
      "            min_samples_leaf=1, min_samples_split=2,\n",
      "            min_weight_fraction_leaf=0.0, n_estimators=100, n_jobs=1,\n",
      "            oob_score=False, random_state=None, verbose=0,\n",
      "            warm_start=False)\n",
      "test_scores_mean is:  0.8878208554095306\n",
      "AdaBoostClassifier(algorithm='SAMME',\n",
      "          base_estimator=DecisionTreeClassifier(class_weight=None, criterion='gini', max_depth=1,\n",
      "            max_features=None, max_leaf_nodes=None,\n",
      "            min_impurity_decrease=0.0, min_impurity_split=None,\n",
      "            min_samples_leaf=1, min_samples_split=2,\n",
      "            min_weight_fraction_leaf=0.0, presort=False, random_state=None,\n",
      "            splitter='best'),\n",
      "          learning_rate=1.0, n_estimators=100, random_state=None)\n",
      "test_scores_mean is:  0.8773290199512827\n",
      "GradientBoostingClassifier(criterion='friedman_mse', init=None,\n",
      "              learning_rate=0.1, loss='deviance', max_depth=3,\n",
      "              max_features=None, max_leaf_nodes=None,\n",
      "              min_impurity_decrease=0.0, min_impurity_split=None,\n",
      "              min_samples_leaf=1, min_samples_split=2,\n",
      "              min_weight_fraction_leaf=0.0, n_estimators=100,\n",
      "              presort='auto', random_state=None, subsample=1, verbose=0,\n",
      "              warm_start=False)\n",
      "test_scores_mean is:  0.8848437845282746\n",
      "XGBClassifier(base_score=0.5, booster='gbtree', colsample_bylevel=1,\n",
      "       colsample_bytree=1, gamma=0, learning_rate=0.1, max_delta_step=0,\n",
      "       max_depth=3, min_child_weight=1, missing=None, n_estimators=500,\n",
      "       n_jobs=1, nthread=None, objective='binary:logistic', random_state=0,\n",
      "       reg_alpha=0, reg_lambda=1, scale_pos_weight=1, seed=None,\n",
      "       silent=True, subsample=1)\n",
      "test_scores_mean is:  0.8808445781935156\n"
     ]
    },
    {
     "data": {
      "image/png": "[encoded data removed]",
      "text/plain": [
       "<Figure size 432x288 with 1 Axes>"
      ]
     },
     "metadata": {},
     "output_type": "display_data"
    },
    {
     "data": {
      "image/png": "[encoded data removed]",
      "text/plain": [
       "<Figure size 432x288 with 1 Axes>"
      ]
     },
     "metadata": {},
     "output_type": "display_data"
    },
    {
     "data": {
      "image/png": "[encoded data removed]",
      "text/plain": [
       "<Figure size 432x288 with 1 Axes>"
      ]
     },
     "metadata": {},
     "output_type": "display_data"
    },
    {
     "data": {
      "image/png": "[encoded data removed]",
      "text/plain": [
       "<Figure size 432x288 with 1 Axes>"
      ]
     },
     "metadata": {},
     "output_type": "display_data"
    },
    {
     "data": {
      "image/png": "[encoded data removed]",
      "text/plain": [
       "<Figure size 432x288 with 1 Axes>"
      ]
     },
     "metadata": {},
     "output_type": "display_data"
    },
    {
     "data": {
      "image/png": "[encoded data removed]",
      "text/plain": [
       "<Figure size 432x288 with 1 Axes>"
      ]
     },
     "metadata": {},
     "output_type": "display_data"
    }
   ],
   "source": [
    " for i, m in enumerate(models):\n",
    "    title = \"Learning Curves \" + str(m).split('(')[0]\n",
    "    print(str(m))\n",
    "    # Cross validation with 100 iterations to get smoother mean test and train\n",
    "    # score curves, each time with 20% data randomly selected as a validation set.\n",
    "    cv = ShuffleSplit(n_splits=10, test_size=0.2, random_state=0)\n",
    "    estimator = m\n",
    "    plot_learning_curve(estimator, title, train_dummy[good_feature_list[i]], train_y, ylim=(0.5,1), cv=cv, n_jobs=4)"
   ]
  },
  {
   "cell_type": "markdown",
   "metadata": {},
   "source": [
    "# Gradient Boosting has good scores in RFECV and Learning Curve analyses. Now let's predict the test scores."
   ]
  },
  {
   "cell_type": "code",
   "execution_count": 133,
   "metadata": {},
   "outputs": [
    {
     "name": "stdout",
     "output_type": "stream",
     "text": [
      "['Pclass' 'connected_survived' 'family_bin' 'Sex_female' 'Sex_male'\n",
      " 'Fare_bin_tao_30+' 'title_cat_Mr']\n",
      "(891, 27) (418, 27)\n",
      "(891, 7) (891,) (418, 7)\n"
     ]
    },
    {
     "data": {
      "text/plain": [
       "GradientBoostingClassifier(criterion='friedman_mse', init=None,\n",
       "              learning_rate=0.1, loss='deviance', max_depth=3,\n",
       "              max_features=None, max_leaf_nodes=None,\n",
       "              min_impurity_decrease=0.0, min_impurity_split=None,\n",
       "              min_samples_leaf=1, min_samples_split=2,\n",
       "              min_weight_fraction_leaf=0.0, n_estimators=100,\n",
       "              presort='auto', random_state=None, subsample=1, verbose=0,\n",
       "              warm_start=False)"
      ]
     },
     "execution_count": 133,
     "metadata": {},
     "output_type": "execute_result"
    }
   ],
   "source": [
    "# Gradient Boosting is the 3rd model in models\n",
    "print(good_feature_list[-2])\n",
    "model = GradientBoostingClassifier(n_estimators=100,learning_rate=0.1,subsample=1)\n",
    "X = train_dummy[good_feature_list[-2]]\n",
    "y = train_y\n",
    "X_test = test_dummy[good_feature_list[-2]]\n",
    "print(train_dummy.shape, test_dummy.shape)\n",
    "print(X.shape,y.shape, X_test.shape)\n",
    "\n",
    "\n",
    "model.fit(X,y)\n"
   ]
  },
  {
   "cell_type": "code",
   "execution_count": 131,
   "metadata": {},
   "outputs": [
    {
     "name": "stdout",
     "output_type": "stream",
     "text": [
      "X columns are: \n",
      " Index(['Pclass', 'connected_survived', 'family_bin', 'Sex_female', 'Sex_male',\n",
      "       'Fare_bin_tao_30+', 'title_cat_Mr'],\n",
      "      dtype='object')\n",
      "model feature importance is: \n",
      " [0.24705651 0.13883055 0.14350708 0.07989944 0.06116192 0.17923083\n",
      " 0.15031367]\n",
      "index sorted by the importance descendingly \n",
      " [0 5 6 2 1 3 4]\n",
      "feature names \n",
      " ['Pclass' 'Fare_bin_tao_30+' 'title_cat_Mr' 'family_bin'\n",
      " 'connected_survived' 'Sex_female' 'Sex_male']\n",
      "feature importance: \n",
      " [0.2470565128424967, 0.17923083351175026, 0.15031366921788714, 0.14350708178451851, 0.13883054714838794, 0.07989943750858311, 0.061161917986376386]\n"
     ]
    },
    {
     "data": {
      "text/plain": [
       "<matplotlib.axes._subplots.AxesSubplot at 0x14a565a0fd0>"
      ]
     },
     "execution_count": 131,
     "metadata": {},
     "output_type": "execute_result"
    },
    {
     "data": {
      "image/png": "[encoded data removed]",
      "text/plain": [
       "<Figure size 720x432 with 1 Axes>"
      ]
     },
     "metadata": {},
     "output_type": "display_data"
    }
   ],
   "source": [
    "print(\"X columns are: \\n\",X.columns)\n",
    "print('model feature importance is: \\n',model.feature_importances_)\n",
    "imp_index = np.argsort(model.feature_importances_)[::-1]\n",
    "print('index sorted by the importance descendingly \\n',imp_index)\n",
    "x = np.array(X.columns)[imp_index]\n",
    "print('feature names \\n',x)\n",
    "imp_value = sorted(model.feature_importances_.tolist(), reverse = True)\n",
    "print('feature importance: \\n',imp_value)\n",
    "imp_df = pd.DataFrame({'feature_name':x,'feature_importance':imp_value})\n",
    "\n",
    "plt.figure(figsize=(10,6))\n",
    "sns.barplot(x='feature_name',y='feature_importance',data=imp_df)"
   ]
  },
  {
   "cell_type": "code",
   "execution_count": 136,
   "metadata": {},
   "outputs": [
    {
     "data": {
      "text/html": [
       "<div>\n",
       "<style scoped>\n",
       "    .dataframe tbody tr th:only-of-type {\n",
       "        vertical-align: middle;\n",
       "    }\n",
       "\n",
       "    .dataframe tbody tr th {\n",
       "        vertical-align: top;\n",
       "    }\n",
       "\n",
       "    .dataframe thead th {\n",
       "        text-align: right;\n",
       "    }\n",
       "</style>\n",
       "<table border=\"1\" class=\"dataframe\">\n",
       "  <thead>\n",
       "    <tr style=\"text-align: right;\">\n",
       "      <th></th>\n",
       "      <th>Age</th>\n",
       "      <th>Cabin</th>\n",
       "      <th>Embarked</th>\n",
       "      <th>Fare</th>\n",
       "      <th>Fare_log</th>\n",
       "      <th>Name</th>\n",
       "      <th>Parch</th>\n",
       "      <th>Parch_bin</th>\n",
       "      <th>PassengerId</th>\n",
       "      <th>Pclass</th>\n",
       "      <th>...</th>\n",
       "      <th>age_5bins</th>\n",
       "      <th>age_6bins</th>\n",
       "      <th>age_bin</th>\n",
       "      <th>age_le16</th>\n",
       "      <th>age_bin_tao</th>\n",
       "      <th>Embarked_fillna</th>\n",
       "      <th>family</th>\n",
       "      <th>family_bin</th>\n",
       "      <th>isalone</th>\n",
       "      <th>Pclass_isalone</th>\n",
       "    </tr>\n",
       "  </thead>\n",
       "  <tbody>\n",
       "    <tr>\n",
       "      <th>0</th>\n",
       "      <td>34.5</td>\n",
       "      <td>NaN</td>\n",
       "      <td>Q</td>\n",
       "      <td>7.8292</td>\n",
       "      <td>2.057860</td>\n",
       "      <td>Kelly, Mr. James</td>\n",
       "      <td>0</td>\n",
       "      <td>0</td>\n",
       "      <td>892</td>\n",
       "      <td>3</td>\n",
       "      <td>...</td>\n",
       "      <td>3</td>\n",
       "      <td>4</td>\n",
       "      <td>(30, 45]</td>\n",
       "      <td>0</td>\n",
       "      <td>40</td>\n",
       "      <td>Q</td>\n",
       "      <td>1</td>\n",
       "      <td>1</td>\n",
       "      <td>1</td>\n",
       "      <td>31</td>\n",
       "    </tr>\n",
       "    <tr>\n",
       "      <th>1</th>\n",
       "      <td>47.0</td>\n",
       "      <td>NaN</td>\n",
       "      <td>S</td>\n",
       "      <td>7.0000</td>\n",
       "      <td>1.945910</td>\n",
       "      <td>Wilkes, Mrs. James (Ellen Needs)</td>\n",
       "      <td>0</td>\n",
       "      <td>0</td>\n",
       "      <td>893</td>\n",
       "      <td>3</td>\n",
       "      <td>...</td>\n",
       "      <td>4</td>\n",
       "      <td>5</td>\n",
       "      <td>(45, 80]</td>\n",
       "      <td>0</td>\n",
       "      <td>50</td>\n",
       "      <td>S</td>\n",
       "      <td>2</td>\n",
       "      <td>2</td>\n",
       "      <td>0</td>\n",
       "      <td>30</td>\n",
       "    </tr>\n",
       "    <tr>\n",
       "      <th>2</th>\n",
       "      <td>62.0</td>\n",
       "      <td>NaN</td>\n",
       "      <td>Q</td>\n",
       "      <td>9.6875</td>\n",
       "      <td>2.270836</td>\n",
       "      <td>Myles, Mr. Thomas Francis</td>\n",
       "      <td>0</td>\n",
       "      <td>0</td>\n",
       "      <td>894</td>\n",
       "      <td>2</td>\n",
       "      <td>...</td>\n",
       "      <td>4</td>\n",
       "      <td>5</td>\n",
       "      <td>(45, 80]</td>\n",
       "      <td>0</td>\n",
       "      <td>50+</td>\n",
       "      <td>Q</td>\n",
       "      <td>1</td>\n",
       "      <td>1</td>\n",
       "      <td>1</td>\n",
       "      <td>21</td>\n",
       "    </tr>\n",
       "    <tr>\n",
       "      <th>3</th>\n",
       "      <td>27.0</td>\n",
       "      <td>NaN</td>\n",
       "      <td>S</td>\n",
       "      <td>8.6625</td>\n",
       "      <td>2.159003</td>\n",
       "      <td>Wirz, Mr. Albert</td>\n",
       "      <td>0</td>\n",
       "      <td>0</td>\n",
       "      <td>895</td>\n",
       "      <td>3</td>\n",
       "      <td>...</td>\n",
       "      <td>2</td>\n",
       "      <td>2</td>\n",
       "      <td>(25, 30]</td>\n",
       "      <td>0</td>\n",
       "      <td>30</td>\n",
       "      <td>S</td>\n",
       "      <td>1</td>\n",
       "      <td>1</td>\n",
       "      <td>1</td>\n",
       "      <td>31</td>\n",
       "    </tr>\n",
       "    <tr>\n",
       "      <th>4</th>\n",
       "      <td>22.0</td>\n",
       "      <td>NaN</td>\n",
       "      <td>S</td>\n",
       "      <td>12.2875</td>\n",
       "      <td>2.508582</td>\n",
       "      <td>Hirvonen, Mrs. Alexander (Helga E Lindqvist)</td>\n",
       "      <td>1</td>\n",
       "      <td>1</td>\n",
       "      <td>896</td>\n",
       "      <td>3</td>\n",
       "      <td>...</td>\n",
       "      <td>1</td>\n",
       "      <td>1</td>\n",
       "      <td>(16, 25]</td>\n",
       "      <td>0</td>\n",
       "      <td>25</td>\n",
       "      <td>S</td>\n",
       "      <td>3</td>\n",
       "      <td>3</td>\n",
       "      <td>0</td>\n",
       "      <td>30</td>\n",
       "    </tr>\n",
       "  </tbody>\n",
       "</table>\n",
       "<p>5 rows × 36 columns</p>\n",
       "</div>"
      ],
      "text/plain": [
       "    Age Cabin Embarked     Fare  Fare_log  \\\n",
       "0  34.5   NaN        Q   7.8292  2.057860   \n",
       "1  47.0   NaN        S   7.0000  1.945910   \n",
       "2  62.0   NaN        Q   9.6875  2.270836   \n",
       "3  27.0   NaN        S   8.6625  2.159003   \n",
       "4  22.0   NaN        S  12.2875  2.508582   \n",
       "\n",
       "                                           Name  Parch Parch_bin  PassengerId  \\\n",
       "0                              Kelly, Mr. James      0         0          892   \n",
       "1              Wilkes, Mrs. James (Ellen Needs)      0         0          893   \n",
       "2                     Myles, Mr. Thomas Francis      0         0          894   \n",
       "3                              Wirz, Mr. Albert      0         0          895   \n",
       "4  Hirvonen, Mrs. Alexander (Helga E Lindqvist)      1         1          896   \n",
       "\n",
       "   Pclass      ...       age_5bins  age_6bins   age_bin  age_le16 age_bin_tao  \\\n",
       "0       3      ...               3          4  (30, 45]         0          40   \n",
       "1       3      ...               4          5  (45, 80]         0          50   \n",
       "2       2      ...               4          5  (45, 80]         0         50+   \n",
       "3       3      ...               2          2  (25, 30]         0          30   \n",
       "4       3      ...               1          1  (16, 25]         0          25   \n",
       "\n",
       "   Embarked_fillna  family  family_bin isalone Pclass_isalone  \n",
       "0                Q       1           1       1             31  \n",
       "1                S       2           2       0             30  \n",
       "2                Q       1           1       1             21  \n",
       "3                S       1           1       1             31  \n",
       "4                S       3           3       0             30  \n",
       "\n",
       "[5 rows x 36 columns]"
      ]
     },
     "execution_count": 136,
     "metadata": {},
     "output_type": "execute_result"
    }
   ],
   "source": [
    "test.head()"
   ]
  },
  {
   "cell_type": "code",
   "execution_count": 139,
   "metadata": {},
   "outputs": [],
   "source": [
    "y_hat = model.predict(X_test)\n",
    "output = pd.DataFrame({'PassengerId':test['PassengerId'],'Survived':y_hat})\n",
    "# output.to_csv(\"titanic_submission_Oct172018.csv\",index=False)"
   ]
  },
  {
   "cell_type": "markdown",
   "metadata": {},
   "source": [
    "# Also tried Random Forest and submitted"
   ]
  },
  {
   "cell_type": "code",
   "execution_count": 140,
   "metadata": {},
   "outputs": [
    {
     "name": "stdout",
     "output_type": "stream",
     "text": [
      "['Pclass' 'connected_survived' 'Cabin_isnull' 'family_bin' 'Sex_female'\n",
      " 'Sex_male' 'Parch_bin_0' 'age_bin_tao_25' 'age_bin_tao_30'\n",
      " 'age_bin_tao_40' 'Fare_bin_tao_10' 'Fare_bin_tao_30+' 'title_cat_Miss'\n",
      " 'title_cat_Mr']\n"
     ]
    }
   ],
   "source": [
    "# Random Forecst is the 2rd model in models\n",
    "print(good_feature_list[2])\n",
    "model = RandomForestClassifier(n_estimators=250)\n",
    "model.fit(X,y)\n",
    "y_hat2 = model.predict(X_test)\n",
    "output = pd.DataFrame({'PassengerId':test['PassengerId'],'Survived':y_hat2})\n",
    "# output.to_csv(\"titanic_submission_Oct172018_RandomForecst.csv\",index=False)"
   ]
  },
  {
   "cell_type": "markdown",
   "metadata": {},
   "source": [
    "# Conclusions: \n",
    "# Binning the variables are very important. We didn't use WOE but by checking the Survived% across bins will give us a good idea.\n",
    "# Feature selection is very important. I created many dummy variables, RFECV helped a lot to reduce the # of features/bins\n",
    "# When we need to use roc_auc_score() function, make sure provide the probability not the labels."
   ]
  },
  {
   "cell_type": "code",
   "execution_count": null,
   "metadata": {},
   "outputs": [],
   "source": [
    "# def model_train_predict(model, X, y, metrics=metrics.roc_auc_score):\n",
    "#     X_train, X_test, y_train, y_test = train_test_split(X,y,test_size=0.1,random_state=42)\n",
    "#     model.fit(X_train,y_train)\n",
    "#     y_hat = model.predict(X_test)\n",
    "#     y_prob = model.predict_proba(X_test)\n",
    "#     return metrics(y_test,y_prob)"
   ]
  },
  {
   "cell_type": "markdown",
   "metadata": {},
   "source": [
    "# Now let's try xgboost\n",
    "# https://xgboost.readthedocs.io/en/latest/parameter.html"
   ]
  },
  {
   "cell_type": "code",
   "execution_count": null,
   "metadata": {},
   "outputs": [],
   "source": [
    "# from hyperopt import fmin, hp, tpe"
   ]
  },
  {
   "cell_type": "code",
   "execution_count": null,
   "metadata": {},
   "outputs": [],
   "source": [
    "# print(train_dummy_X.columns)"
   ]
  },
  {
   "cell_type": "markdown",
   "metadata": {},
   "source": [
    "### fmin function doesn't allow '(' or '[]' in column names. We need to rename it"
   ]
  },
  {
   "cell_type": "code",
   "execution_count": null,
   "metadata": {},
   "outputs": [],
   "source": [
    "# train_X_xgb = train_dummy_X.copy()\n",
    "# test_X_xgb = test_dummy_X.copy()   \n",
    "\n",
    "# def rename_age_bin(df):\n",
    "#     if 'Age_bin_(0, 20]' in df.columns:\n",
    "#         mapper={'Age_bin_(0, 20]': 'Age_bin_0_20',\n",
    "#                 'Age_bin_(20, 26]': 'Age_bin_20_26',\n",
    "#                 'Age_bin_(26, 30]': 'Age_bin_26_30',\n",
    "#                 'Age_bin_(30, 38]': 'Age_bin_30_38',\n",
    "#                 'Age_bin_(38, 80]': 'Age_bin_38_80'}\n",
    "#         train_X_xgb.rename(mapper,axis='columns',inplace=True)\n",
    "        \n",
    "#     else:\n",
    "#         print(\"Age_bins don't exist in the dataframe\\n\")\n",
    "    \n",
    "#     print(\"Columns are :\\n\")\n",
    "#     print(df.columns)\n",
    "        \n",
    "# rename_age_bin(train_X_xgb)\n",
    "# rename_age_bin(test_X_xgb)"
   ]
  },
  {
   "cell_type": "code",
   "execution_count": null,
   "metadata": {},
   "outputs": [],
   "source": [
    "# X_train, X_test, y_train, y_test = train_test_split(train_X_xgb,train_y,test_size=0.3,random_state=0)"
   ]
  },
  {
   "cell_type": "code",
   "execution_count": null,
   "metadata": {},
   "outputs": [],
   "source": [
    "# X_train.columns"
   ]
  },
  {
   "cell_type": "markdown",
   "metadata": {},
   "source": [
    "### NEED MORE WORK ON fmin()"
   ]
  },
  {
   "cell_type": "code",
   "execution_count": null,
   "metadata": {},
   "outputs": [],
   "source": [
    "# def lossfunc(params):\n",
    "#     model = xgb.XGBClassifier(**params)\n",
    "#     model.fit(X_train,y_train)\n",
    "#     y_hat = model.predict(X_test)\n",
    "#     score = metrics.accuracy_score(y_test,y_hat)\n",
    "#     return (1-score)\n",
    "# space = {\n",
    "#     'eta':hp.uniform('eta',0.3,0.5),   #[default=0.3, alias: learning_rate]\n",
    "#     'max_depth':  hp.choice('max_depth', range(4,6)),\n",
    "#     'gamma': hp.quniform('gamma', 0.5, 1, 0.05),\n",
    "#     'subsample': hp.quniform('subsample', 0.5, 1, 0.05)\n",
    "# }\n",
    "# best = fmin(lossfunc, space, algo=tpe.suggest, max_evals=100)\n",
    "# print(best)"
   ]
  },
  {
   "cell_type": "code",
   "execution_count": null,
   "metadata": {},
   "outputs": [],
   "source": [
    "# xgbmodel = xgb.XGBClassifier(**best)\n",
    "\n",
    "# %time score = model_train_predict(xgbmodel,train_X_xgb, train_y)\n",
    "# print(score)\n"
   ]
  },
  {
   "cell_type": "markdown",
   "metadata": {},
   "source": [
    "### NEED MORE WORK ON fmin()"
   ]
  },
  {
   "cell_type": "markdown",
   "metadata": {},
   "source": [
    "### The above tuning is based on a Kaggle kernel, but the result is not good. "
   ]
  },
  {
   "cell_type": "markdown",
   "metadata": {},
   "source": [
    "### Method 1 from internet \n",
    "### https://stats.stackexchange.com/questions/183984/how-to-use-xgboost-cv-with-hyperparameters-optimization"
   ]
  },
  {
   "cell_type": "code",
   "execution_count": null,
   "metadata": {},
   "outputs": [],
   "source": [
    "# len(train_X_xgb)"
   ]
  },
  {
   "cell_type": "code",
   "execution_count": null,
   "metadata": {},
   "outputs": [],
   "source": [
    "# from scipy import stats\n",
    "# from sklearn.model_selection import RandomizedSearchCV\n",
    "# from sklearn import cross_validation\n",
    "\n",
    "# clf_xgb = xgb.XGBClassifier(objective = 'binary:logistic')\n",
    "# param_dist = {'n_estimators': stats.randint(900, 1200),\n",
    "#               'learning_rate': stats.uniform(0.01, 0.07),\n",
    "#               'subsample': stats.uniform(0.3, 0.7),\n",
    "#               'max_depth': [3, 4, 5, 6, 7, 8, 9],\n",
    "#               'colsample_bytree': stats.uniform(0.25, 0.45),\n",
    "#               'min_child_weight': [1, 2, 3]\n",
    "#              }\n",
    "# clf = RandomizedSearchCV(clf_xgb, param_distributions = param_dist, n_iter = 25, scoring = 'accuracy', error_score = 0, verbose = 3, n_jobs = 4)\n",
    "\n",
    "# numFolds = 5\n",
    "# folds = cross_validation.KFold(n = len(train_X_xgb), shuffle = True, n_folds = numFolds)\n",
    "\n",
    "# estimators = []\n",
    "# results = np.zeros(len(X))\n",
    "# score = 0.0\n",
    "# for train_index, test_index in folds:\n",
    "#     X_train, X_test = train_X_xgb.iloc[train_index], train_X_xgb.iloc[test_index]\n",
    "#     y_train, y_test = train_y.iloc[train_index], train_y.iloc[test_index]\n",
    "#     clf.fit(X_train, y_train)\n",
    "\n",
    "#     estimators.append(clf.best_estimator_)\n",
    "#     results[test_index] = clf.predict(X_test)\n",
    "#     score += metrics.f1_score(y_test, results[test_index])\n",
    "# score /= numFolds"
   ]
  },
  {
   "cell_type": "code",
   "execution_count": null,
   "metadata": {},
   "outputs": [],
   "source": [
    "# print(len(train_index))\n",
    "# print(len(test_index))\n",
    "# print(score)"
   ]
  },
  {
   "cell_type": "code",
   "execution_count": null,
   "metadata": {},
   "outputs": [],
   "source": [
    "# print(estimators)"
   ]
  },
  {
   "cell_type": "markdown",
   "metadata": {},
   "source": [
    " # Method 2 from internet. "
   ]
  },
  {
   "cell_type": "markdown",
   "metadata": {},
   "source": [
    "# Try tune xgboost based on online article https://www.analyticsvidhya.com/blog/2016/03/complete-guide-parameter-tuning-xgboost-with-codes-python/"
   ]
  },
  {
   "cell_type": "markdown",
   "metadata": {},
   "source": [
    "### Step 1: Fix learning rate and number of estimators for tuning tree-based parameters"
   ]
  },
  {
   "cell_type": "code",
   "execution_count": null,
   "metadata": {},
   "outputs": [],
   "source": [
    "# function from the link above\n",
    "def modelfit(alg, X, y, useTrainCV=True, cv_folds=5, early_stopping_rounds=100, metrics_eval='error'):\n",
    "    \n",
    "    if useTrainCV:\n",
    "        xgb_param = alg.get_xgb_params()\n",
    "        xgtrain = xgb.DMatrix(X.values, label=y.values)\n",
    "        \n",
    "        # alg is sklearn.XGBClassifier, one parameter is n_estimators, which should be set as teh num_boost_round\n",
    "        # in xgb.cv(). \n",
    "        #check the post here https://stackoverflow.com/questions/46943674/how-to-get-predictions-with-xgboost-and-xgboost-using-scikit-learn-wrapper-to-ma\n",
    "        \n",
    "        n_estimators = alg.get_params()['n_estimators']\n",
    "        cvresult = xgb.cv(xgb_param, xgtrain, num_boost_round=n_estimators, nfold=cv_folds,\n",
    "            metrics=metrics_eval, early_stopping_rounds=early_stopping_rounds)\n",
    "        alg.set_params(n_estimators=cvresult.shape[0])\n",
    "        newcolumns = []\n",
    "        if metrics_eval == 'error':\n",
    "            # modify column name -error- to -accuracy-\n",
    "            for c in cvresult.columns:\n",
    "                newcolumns.append(c.replace('error','accuracy'))\n",
    "        cvresult = 1 - cvresult\n",
    "        cvresult.columns = newcolumns\n",
    "    \n",
    "    #Fit the algorithm on the data\n",
    "    alg.fit(X, y,eval_metric='auc')\n",
    "        \n",
    "    #Predict training set:\n",
    "    dtrain_predictions = alg.predict(X)\n",
    "    dtrain_predprob = alg.predict_proba(X)[:,1]\n",
    "       \n",
    "    #Print the final train and test results:\n",
    "    print(\"\\n Final cvresult after all the boosting iterations:\\n\")\n",
    "    print(cvresult.iloc[-1,:])\n",
    "                    \n",
    "    # modified by Tao\n",
    "    imp = alg.feature_importances_\n",
    "    indices = np.argsort(imp)[::-1]\n",
    "    ax = pd.Series(imp).sort_values(ascending=False).plot(kind='bar', title='Feature Importances')\n",
    "    plt.ylabel('Feature Importance Score')\n",
    "    plt.xlabel(\"features\")\n",
    "    ax.set_xticklabels(X.columns[indices])\n",
    "    \n",
    "      #from author, but I don't think it provides what we need \n",
    "#         Print model report:\n",
    "#     print(\"\\nModel Report\")\n",
    "#     print(\"Accuracy : %.4g\" % metrics.accuracy_score(y.values, dtrain_predictions))\n",
    "#     print(\"AUC Score (Train): %f\" % metrics.roc_auc_score(y, dtrain_predprob))\n",
    "    \n",
    "    return cvresult\n"
   ]
  },
  {
   "cell_type": "code",
   "execution_count": null,
   "metadata": {},
   "outputs": [],
   "source": [
    "target = 'Survived'"
   ]
  },
  {
   "cell_type": "code",
   "execution_count": null,
   "metadata": {},
   "outputs": [],
   "source": [
    "# # walk through the function modelfit\n",
    "# # num_boost_round determines how many boosting iterations we will have to correct the errors.\n",
    "# # It's possible that early_stopping_rounds takes effect before reaching num_boost_round.\n",
    "\n",
    "\n",
    "# alg = XGBClassifier()  # this is sklearn XGBClassifer wrapper. \n",
    "# xgtrain = xgb.DMatrix(train_X_xgb.values, label=train_y.values)\n",
    "# xgb_param = alg.get_xgb_params()\n",
    "\n",
    "# print('params are: \\n')\n",
    "# print(xgb_param)\n",
    "\n",
    "# cv_folds = 5\n",
    "# early_stopping_rounds = 50\n",
    "# metrics_eval = 'error'\n",
    "# cvresult = xgb.cv(xgb_param, xgtrain, num_boost_round=50, nfold=cv_folds,\n",
    "#             metrics=metrics_eval, early_stopping_rounds=early_stopping_rounds)\n",
    "\n",
    "# newcolumns = []\n",
    "# if metrics_eval == 'error':\n",
    "#     # modify column name -error- to -accuracy-\n",
    "#     for c in cvresult.columns:\n",
    "#         newcolumns.append(c.replace('error','accuracy'))\n",
    "# cvresult = 1 - cvresult\n",
    "# cvresult.columns = newcolumns\n",
    "\n",
    "\n",
    "# X = train_X_xgb.values\n",
    "# y=train_y.values\n",
    "# alg.fit(X,y)\n",
    "# print(\"feature importances: \\n\",alg.feature_importances_)\n",
    "# print(cvresult.iloc[-1,:])\n",
    "# print(cvresult.iloc[-10:,:])"
   ]
  },
  {
   "cell_type": "code",
   "execution_count": null,
   "metadata": {},
   "outputs": [],
   "source": [
    "# cvresult.head()"
   ]
  },
  {
   "cell_type": "code",
   "execution_count": null,
   "metadata": {},
   "outputs": [],
   "source": [
    "# alg.get_params"
   ]
  },
  {
   "cell_type": "markdown",
   "metadata": {},
   "source": [
    "### test score with max_depth=5, min_child_weight=1 is 0.831637. This is the starting model"
   ]
  },
  {
   "cell_type": "code",
   "execution_count": null,
   "metadata": {},
   "outputs": [],
   "source": [
    "# xgb1 = XGBClassifier(\n",
    "# learning_rate =0.1,\n",
    "# n_estimators=2000,\n",
    "# max_depth=5,\n",
    "# min_child_weight=1,\n",
    "# gamma=0,\n",
    "# subsample=0.8,\n",
    "# colsample_bytree=0.8,\n",
    "# objective= 'binary:logistic',\n",
    "# nthread=4,\n",
    "# scale_pos_weight=1,\n",
    "# seed=27)\n",
    "# cvresult1 = modelfit(xgb1, train_dummy_X[xlist2], train_y, metrics_eval = 'error')\n",
    "# print(cvresult1.iloc[-5:,:])"
   ]
  },
  {
   "cell_type": "markdown",
   "metadata": {},
   "source": [
    "### Step 2: Tune max_depth and min_child_weight"
   ]
  },
  {
   "cell_type": "code",
   "execution_count": null,
   "metadata": {},
   "outputs": [],
   "source": [
    "# Below is the code from https://stackoverflow.com/questions/42993550/gridsearchcv-xgboost-early-stopping\n",
    "# showing how to set early_stopping_rounds in GridSearchCV\n",
    "#****************************************************************\n",
    "\n",
    "# import xgboost as xgb\n",
    "# from sklearn.model_selection import GridSearchCV\n",
    "# from sklearn.model_selection import TimeSeriesSplit\n",
    "\n",
    "# cv = 2\n",
    "\n",
    "# trainX= [[1], [2], [3], [4], [5]]\n",
    "# trainY = [1, 2, 3, 4, 5]\n",
    "\n",
    "# # these are the evaluation sets\n",
    "# testX = trainX \n",
    "# testY = trainY\n",
    "\n",
    "# paramGrid = {\"subsample\" : [0.5, 0.8]}\n",
    "\n",
    "# fit_params={\"early_stopping_rounds\":42, \n",
    "#             \"eval_metric\" : \"mae\", \n",
    "#             \"eval_set\" : [[testX, testY]]}\n",
    "\n",
    "# model = xgb.XGBRegressor()\n",
    "# gridsearch = GridSearchCV(model, paramGrid, verbose=1 ,\n",
    "#          fit_params=fit_params,\n",
    "#          cv=TimeSeriesSplit(n_splits=cv).get_n_splits([trainX,trainY]))\n",
    "# gridsearch.fit(trainX,trainY)"
   ]
  },
  {
   "cell_type": "code",
   "execution_count": null,
   "metadata": {},
   "outputs": [],
   "source": [
    "\n",
    "# param_test1 = {\n",
    "#  'max_depth':range(3,7,2),\n",
    "#  'min_child_weight':range(1,5,2)\n",
    "# }\n",
    "\n",
    "# fit_params={\"early_stopping_rounds\":50,\n",
    "#             \"eval_metric\" : \"error\",\n",
    "#             \"eval_set\": [(train_X_xgb,train_y)]\n",
    "#            }\n",
    "\n",
    "\n",
    "# gsearch1 = GridSearchCV(estimator = XGBClassifier( learning_rate =0.1, n_estimators=1000, max_depth=5,\n",
    "#                                                    min_child_weight=1, gamma=0, subsample=0.8, colsample_bytree=0.8,\n",
    "#                                                    objective= 'binary:logistic', nthread=4, scale_pos_weight=1, seed=27),\n",
    "# param_grid = param_test1, scoring='accuracy',n_jobs=4, iid=False, cv=5,fit_params = fit_params)\n",
    "\n",
    "# gsearch1.fit(train_X_xgb, train_y)\n",
    "\n",
    "# gsearch1.grid_scores_, gsearch1.best_params_, gsearch1.best_score_\n",
    "\n"
   ]
  },
  {
   "cell_type": "markdown",
   "metadata": {},
   "source": [
    "### test score with max_depth=5, min_child_weight=3 is 0.830532"
   ]
  },
  {
   "cell_type": "code",
   "execution_count": null,
   "metadata": {},
   "outputs": [],
   "source": [
    "# cvresult = modelfit(XGBClassifier( learning_rate =0.1, n_estimators=1000, max_depth=5,\n",
    "# min_child_weight=3, gamma=0, subsample=0.8, colsample_bytree=0.8,\n",
    "# objective= 'binary:logistic', nthread=4, scale_pos_weight=1, seed=27), \n",
    "#          train_X_xgb, \n",
    "#          train_y,\n",
    "#          'error')\n"
   ]
  },
  {
   "cell_type": "code",
   "execution_count": null,
   "metadata": {},
   "outputs": [],
   "source": [
    "# cvresult['test-accuracy-mean'].plot()"
   ]
  },
  {
   "cell_type": "markdown",
   "metadata": {},
   "source": [
    "### Above, we used step =2 for searching. Now we do a finer search"
   ]
  },
  {
   "cell_type": "code",
   "execution_count": null,
   "metadata": {},
   "outputs": [],
   "source": [
    "# param_test1 = {\n",
    "#  'max_depth':range(1,5,1),\n",
    "#  'min_child_weight':range(1,6,1)\n",
    "# }\n",
    "# gsearch1 = GridSearchCV(estimator = xgb.XGBClassifier( learning_rate =0.1, n_estimators=1000, max_depth=5,\n",
    "# min_child_weight=3, gamma=0, subsample=0.8, colsample_bytree=0.8,\n",
    "# objective= 'binary:logistic', nthread=4, scale_pos_weight=1, seed=27),\n",
    "# param_grid = param_test1, scoring='accuracy',n_jobs=4, iid=False, cv=5, fit_params=fit_params)\n",
    "\n",
    "# gsearch1.fit(train_X_xgb,train_y)\n",
    "\n",
    "# print(\"The results are: \\n\")\n",
    "# gsearch1.grid_scores_, gsearch1.best_params_, gsearch1.best_score_"
   ]
  },
  {
   "cell_type": "markdown",
   "metadata": {},
   "source": [
    "### test score with max_depth=4, min_child_weight=5 is 0.833890"
   ]
  },
  {
   "cell_type": "code",
   "execution_count": null,
   "metadata": {},
   "outputs": [],
   "source": [
    "# cvresult = modelfit(XGBClassifier( learning_rate =0.1, n_estimators=1000, max_depth=4,\n",
    "# min_child_weight=5, gamma=0, subsample=0.8, colsample_bytree=0.8,\n",
    "# objective= 'binary:logistic', nthread=4, scale_pos_weight=1, seed=27), \n",
    "#          train_X_xgb, \n",
    "#          train_y,\n",
    "#          'error')"
   ]
  },
  {
   "cell_type": "markdown",
   "metadata": {},
   "source": [
    "### Test score is slightly better with max_depth=2 and min_child_weight=5"
   ]
  },
  {
   "cell_type": "markdown",
   "metadata": {},
   "source": [
    "### Step 3: Tune gamma"
   ]
  },
  {
   "cell_type": "code",
   "execution_count": null,
   "metadata": {},
   "outputs": [],
   "source": [
    "# param_test3 = {\n",
    "#  'gamma':[i/10.0 for i in range(0,10)]\n",
    "# }\n",
    "# gsearch3 = GridSearchCV(estimator = xgb.XGBClassifier( learning_rate =0.1, n_estimators=1000, max_depth=4,\n",
    "#  min_child_weight=5, gamma=0, subsample=0.8, colsample_bytree=0.8,\n",
    "#  objective= 'binary:logistic', nthread=4, scale_pos_weight=1,seed=27), \n",
    "#  param_grid = param_test3, scoring='accuracy',n_jobs=4,iid=False, cv=5)\n",
    "\n",
    "# gsearch3.fit(train_X_xgb,train_y)\n",
    "\n",
    "# print(\"The results are: \\n\")\n",
    "# gsearch3.grid_scores_, gsearch3.best_params_, gsearch3.best_score_"
   ]
  },
  {
   "cell_type": "markdown",
   "metadata": {},
   "source": [
    "### test score with max_depth=5, min_child_weight=3, gamma =0.7 is 0.835014"
   ]
  },
  {
   "cell_type": "code",
   "execution_count": null,
   "metadata": {},
   "outputs": [],
   "source": [
    "# cvresult = modelfit(XGBClassifier( learning_rate =0.1, n_estimators=1000, max_depth=4,\n",
    "# min_child_weight=5, gamma=0.7, subsample=0.8, colsample_bytree=0.8,\n",
    "# objective= 'binary:logistic', nthread=4, scale_pos_weight=1, seed=27), \n",
    "#          train_X_xgb, \n",
    "#          train_y,\n",
    "#          'error')"
   ]
  },
  {
   "cell_type": "markdown",
   "metadata": {},
   "source": [
    "### Testing score is slightly better. gamma = 0.5"
   ]
  },
  {
   "cell_type": "markdown",
   "metadata": {},
   "source": [
    "### Step 4: Tune subsample and colsample_bytree"
   ]
  },
  {
   "cell_type": "code",
   "execution_count": null,
   "metadata": {},
   "outputs": [],
   "source": [
    "# param_test4 = {\n",
    "#  'subsample':[i/10.0 for i in range(6,10)],\n",
    "#  'colsample_bytree':[i/10.0 for i in range(6,10)]\n",
    "# }\n",
    "# gsearch4 = GridSearchCV(estimator = xgb.XGBClassifier( learning_rate =0.1, n_estimators=1000, max_depth=4,\n",
    "#  min_child_weight=5, gamma=0.7, subsample=0.8, colsample_bytree=0.8,\n",
    "#  objective= 'binary:logistic', nthread=4, scale_pos_weight=1,seed=27), \n",
    "#  param_grid = param_test4, scoring='accuracy',n_jobs=4,iid=False, cv=5)\n",
    "# gsearch4.fit(train_X_xgb,train_y)\n",
    "# gsearch4.grid_scores_, gsearch4.best_params_, gsearch4.best_score_"
   ]
  },
  {
   "cell_type": "markdown",
   "metadata": {},
   "source": [
    "### test score with max_depth=5, min_child_weight=3, gamma =0.7, colsample_bytree=0.9, subsample=0.9 is 0.8372"
   ]
  },
  {
   "cell_type": "code",
   "execution_count": null,
   "metadata": {},
   "outputs": [],
   "source": [
    "# cvresult = modelfit(XGBClassifier( learning_rate =0.1, n_estimators=1000, max_depth=4,\n",
    "# min_child_weight=5, gamma=0.7, subsample=0.9, colsample_bytree=0.9,\n",
    "# objective= 'binary:logistic', nthread=4, scale_pos_weight=1, seed=27), \n",
    "#          train_X_xgb, \n",
    "#          train_y,\n",
    "#          'error')"
   ]
  },
  {
   "cell_type": "markdown",
   "metadata": {},
   "source": [
    "### A finer search on subsample and colsample_bytree"
   ]
  },
  {
   "cell_type": "code",
   "execution_count": null,
   "metadata": {},
   "outputs": [],
   "source": [
    "# param_test5 = {\n",
    "#  'subsample':[i/100.0 for i in range(85,105,5)],\n",
    "#  'colsample_bytree':[i/100.00 for i in range(85,105,5)]\n",
    "# }\n",
    "# gsearch5 = GridSearchCV(estimator = xgb.XGBClassifier( learning_rate =0.1, n_estimators=1000, max_depth=4,\n",
    "#  min_child_weight=5, gamma=0.7, subsample=0.8, colsample_bytree=0.8,\n",
    "#  objective= 'binary:logistic', nthread=4, scale_pos_weight=1,seed=27), \n",
    "#  param_grid = param_test5, scoring='accuracy',n_jobs=4,iid=False, cv=5)\n",
    "# gsearch5.fit(train_X_xgb,train_y)\n",
    "# gsearch5.grid_scores_, gsearch5.best_params_, gsearch5.best_score_"
   ]
  },
  {
   "cell_type": "markdown",
   "metadata": {},
   "source": [
    "### test score is worse than colsample_bytree=0.9, subsample=0.9"
   ]
  },
  {
   "cell_type": "code",
   "execution_count": null,
   "metadata": {},
   "outputs": [],
   "source": [
    "# cvresult = modelfit(XGBClassifier( learning_rate =0.1, n_estimators=1000, max_depth=4,\n",
    "# min_child_weight=5, gamma=0.7, subsample=0.9, colsample_bytree=1.0,\n",
    "# objective= 'binary:logistic', nthread=4, scale_pos_weight=1, seed=27), \n",
    "#          train_X_xgb, \n",
    "#          train_y,\n",
    "#          'error')"
   ]
  },
  {
   "cell_type": "markdown",
   "metadata": {},
   "source": [
    "### Step 5: Tuning Regularization Parameters"
   ]
  },
  {
   "cell_type": "code",
   "execution_count": null,
   "metadata": {},
   "outputs": [],
   "source": [
    "# param_test6 = {\n",
    "#  'reg_alpha':[0, 1e-5, 1e-2, 0.1, 1, 100]\n",
    "# }\n",
    "# gsearch6 = GridSearchCV(estimator = xgb.XGBClassifier( learning_rate =0.1, n_estimators=1000, max_depth=4,\n",
    "#  min_child_weight=5, gamma=0.7, subsample=0.9, colsample_bytree=0.9,\n",
    "#  objective= 'binary:logistic', nthread=4, scale_pos_weight=1,seed=27), \n",
    "#  param_grid = param_test6, scoring='accuracy',n_jobs=4,iid=False, cv=5)\n",
    "# gsearch6.fit(train_X_xgb,train_y)\n",
    "# gsearch6.grid_scores_, gsearch6.best_params_, gsearch6.best_score_"
   ]
  },
  {
   "cell_type": "markdown",
   "metadata": {},
   "source": [
    "### It's getting worse. So we don't want to change reg_alpha"
   ]
  },
  {
   "cell_type": "code",
   "execution_count": null,
   "metadata": {},
   "outputs": [],
   "source": [
    "# param_test6 = {\n",
    "#  'reg_alpha':[0.01,0.05,1,1.05,1.1]\n",
    "# }\n",
    "# gsearch6 = GridSearchCV(estimator = xgb.XGBClassifier( learning_rate =0.1, n_estimators=1000, max_depth=2,\n",
    "#  min_child_weight=5, gamma=0.5, subsample=0.8, colsample_bytree=0.8,\n",
    "#  objective= 'binary:logistic', nthread=4, scale_pos_weight=1,seed=27), \n",
    "#  param_grid = param_test6, scoring='accuracy',n_jobs=4,iid=False, cv=5)\n",
    "# gsearch6.fit(train_X_xgb,train_y)\n",
    "# gsearch6.grid_scores_, gsearch6.best_params_, gsearch6.best_score_"
   ]
  },
  {
   "cell_type": "markdown",
   "metadata": {},
   "source": [
    "### Step 6: Reducing Learning Rate. Lastly, we should lower the learning rate and add more trees. Lets use the cv function of XGBoost to do the job again.\n",
    "\n",
    "### Before changing learning_rate, xgb4 is the best result. "
   ]
  },
  {
   "cell_type": "code",
   "execution_count": null,
   "metadata": {},
   "outputs": [],
   "source": [
    "# # keep the default learning_rate\n",
    "# xgb4 = xgb.XGBClassifier(\n",
    "#                             learning_rate =0.1,\n",
    "#                             n_estimators=1000,\n",
    "#                             max_depth=4,\n",
    "#                             min_child_weight=5,\n",
    "#                             gamma=0.7,\n",
    "#                             subsample=0.9,\n",
    "#                             colsample_bytree=0.9,\n",
    "#                             reg_alpha=0,\n",
    "#                             objective= 'binary:logistic',\n",
    "#                             nthread=4,\n",
    "#                             scale_pos_weight=1,\n",
    "#                             seed=27)\n",
    "# cvresult = modelfit(xgb4, train_X_xgb, train_y,'error')"
   ]
  },
  {
   "cell_type": "markdown",
   "metadata": {},
   "source": [
    "### Let's reduce learing_rate to 0.08, test score is 0.831643, which is worse than before."
   ]
  },
  {
   "cell_type": "code",
   "execution_count": null,
   "metadata": {},
   "outputs": [],
   "source": [
    "# xgb5 = xgb.XGBClassifier(\n",
    "#                             learning_rate =0.08,\n",
    "#                             n_estimators=1000,\n",
    "#                             max_depth=4,\n",
    "#                             min_child_weight=5,\n",
    "#                             gamma=0.7,\n",
    "#                             subsample=0.9,\n",
    "#                             colsample_bytree=0.9,\n",
    "#                             reg_alpha=0,\n",
    "#                             objective= 'binary:logistic',\n",
    "#                             nthread=4,\n",
    "#                             scale_pos_weight=1,\n",
    "#                             seed=27)\n",
    "# cvresult = modelfit(xgb5, train_X_xgb, train_y,'error')"
   ]
  },
  {
   "cell_type": "markdown",
   "metadata": {},
   "source": [
    "# Compare all models on one test dataset"
   ]
  },
  {
   "cell_type": "code",
   "execution_count": null,
   "metadata": {},
   "outputs": [],
   "source": [
    "# X_train, X_test, y_train, y_test = train_test_split(train_X_xgb,train_y,test_size=0.2,random_state=100)\n",
    "\n",
    "# models = [\n",
    "#             LogisticRegression(solver='liblinear'),\n",
    "#             DecisionTreeClassifier(max_depth=10),\n",
    "#             RandomForestClassifier(n_estimators=100),\n",
    "#             AdaBoostClassifier(DecisionTreeClassifier(max_depth=1),\n",
    "#                          algorithm=\"SAMME\",\n",
    "#                          n_estimators=200),\n",
    "#             GradientBoostingClassifier(n_estimators=200,learning_rate=0.1,subsample=1),\n",
    "#             xgb4\n",
    "#             ]\n",
    "\n",
    "# name=[] \n",
    "# accuracy = []\n",
    "# roc = []\n",
    "# for m in models:\n",
    "#     name.append(str(m).split('(')[0]) \n",
    "#     m.fit(X_train,y_train)\n",
    "#     y_hat = m.predict(X_test)\n",
    "#     accuracy.append(metrics.accuracy_score(y_test,y_hat))\n",
    "#     roc.append(metrics.roc_auc_score(y_test,y_hat))\n",
    "\n",
    "# result = pd.DataFrame({'Accuracy': accuracy,'ROC':roc })\n",
    "# result.index=name"
   ]
  },
  {
   "cell_type": "code",
   "execution_count": null,
   "metadata": {},
   "outputs": [],
   "source": [
    "# result"
   ]
  },
  {
   "cell_type": "code",
   "execution_count": null,
   "metadata": {},
   "outputs": [],
   "source": [
    "# bestmodel = GradientBoostingClassifier(n_estimators=200,learning_rate=0.1,subsample=1)"
   ]
  },
  {
   "cell_type": "code",
   "execution_count": null,
   "metadata": {},
   "outputs": [],
   "source": [
    "# bestmodel.fit(train_dummy_X,train_y)"
   ]
  },
  {
   "cell_type": "code",
   "execution_count": null,
   "metadata": {},
   "outputs": [],
   "source": [
    "# y_hat = bestmodel.predict(test_imp_X[features])\n",
    "# output = pd.DataFrame({'PassengerId':test_imp_X['PassengerId'],'Survived':y_hat})\n",
    "# output.to_csv(\"titanic_submission.csv\",index=False)"
   ]
  },
  {
   "cell_type": "code",
   "execution_count": null,
   "metadata": {},
   "outputs": [],
   "source": []
  }
 ],
 "metadata": {
  "kernelspec": {
   "display_name": "Python 3",
   "language": "python",
   "name": "python3"
  },
  "language_info": {
   "codemirror_mode": {
    "name": "ipython",
    "version": 3
   },
   "file_extension": ".py",
   "mimetype": "text/x-python",
   "name": "python",
   "nbconvert_exporter": "python",
   "pygments_lexer": "ipython3",
   "version": "3.6.5"
  }
 },
 "nbformat": 4,
 "nbformat_minor": 2
}
